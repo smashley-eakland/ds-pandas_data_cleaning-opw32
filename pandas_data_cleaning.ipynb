{
 "cells": [
  {
   "cell_type": "markdown",
   "metadata": {
    "toc": true
   },
   "source": [
    "<h1>Table of Contents<span class=\"tocSkip\"></span></h1>\n",
    "<div class=\"toc\"><ul class=\"toc-item\"><li><span><a href=\"#Objectives\" data-toc-modified-id=\"Objectives-1\"><span class=\"toc-item-num\">1&nbsp;&nbsp;</span>Objectives</a></span></li><li><span><a href=\"#More-Pandas\" data-toc-modified-id=\"More-Pandas-2\"><span class=\"toc-item-num\">2&nbsp;&nbsp;</span>More Pandas</a></span><ul class=\"toc-item\"><li><span><a href=\"#Loading-the-Data\" data-toc-modified-id=\"Loading-the-Data-2.1\"><span class=\"toc-item-num\">2.1&nbsp;&nbsp;</span>Loading the Data</a></span></li></ul></li><li><span><a href=\"#Exploratory-Data-Analysis-(EDA)\" data-toc-modified-id=\"Exploratory-Data-Analysis-(EDA)-3\"><span class=\"toc-item-num\">3&nbsp;&nbsp;</span>Exploratory Data Analysis (EDA)</a></span><ul class=\"toc-item\"><li><span><a href=\"#Inspecting-the-Data\" data-toc-modified-id=\"Inspecting-the-Data-3.1\"><span class=\"toc-item-num\">3.1&nbsp;&nbsp;</span>Inspecting the Data</a></span></li><li><span><a href=\"#Question-1:-What-animal-types-are-in-the-dataset?\" data-toc-modified-id=\"Question-1:-What-animal-types-are-in-the-dataset?-3.2\"><span class=\"toc-item-num\">3.2&nbsp;&nbsp;</span>Question 1: What animal types are in the dataset?</a></span></li><li><span><a href=\"#Question-2:-What-&quot;Other&quot;-animals-are-in-the-dataset?\" data-toc-modified-id=\"Question-2:-What-&quot;Other&quot;-animals-are-in-the-dataset?-3.3\"><span class=\"toc-item-num\">3.3&nbsp;&nbsp;</span>Question 2: What \"Other\" animals are in the dataset?</a></span></li><li><span><a href=\"#Question-3:-How-old-are-the-animals-in-our-dataset?\" data-toc-modified-id=\"Question-3:-How-old-are-the-animals-in-our-dataset?-3.4\"><span class=\"toc-item-num\">3.4&nbsp;&nbsp;</span>Question 3: How old are the animals in our dataset?</a></span><ul class=\"toc-item\"><li><span><a href=\"#Series.map()\" data-toc-modified-id=\"Series.map()-3.4.1\"><span class=\"toc-item-num\">3.4.1&nbsp;&nbsp;</span><code>Series.map()</code></a></span></li><li><span><a href=\"#More-Sophisticated-Mapping\" data-toc-modified-id=\"More-Sophisticated-Mapping-3.4.2\"><span class=\"toc-item-num\">3.4.2&nbsp;&nbsp;</span>More Sophisticated Mapping</a></span></li><li><span><a href=\"#Lambda-Functions\" data-toc-modified-id=\"Lambda-Functions-3.4.3\"><span class=\"toc-item-num\">3.4.3&nbsp;&nbsp;</span>Lambda Functions</a></span></li></ul></li></ul></li><li><span><a href=\"#Handling-Missing-Data\" data-toc-modified-id=\"Handling-Missing-Data-4\"><span class=\"toc-item-num\">4&nbsp;&nbsp;</span>Handling Missing Data</a></span><ul class=\"toc-item\"><li><span><a href=\"#Fill-with-a-Relevant-Value\" data-toc-modified-id=\"Fill-with-a-Relevant-Value-4.1\"><span class=\"toc-item-num\">4.1&nbsp;&nbsp;</span>Fill with a Relevant Value</a></span></li><li><span><a href=\"#Fill-with-a-Reasonable-Value\" data-toc-modified-id=\"Fill-with-a-Reasonable-Value-4.2\"><span class=\"toc-item-num\">4.2&nbsp;&nbsp;</span>Fill with a Reasonable Value</a></span></li><li><span><a href=\"#Specify-That-the-Data-Were-Missing\" data-toc-modified-id=\"Specify-That-the-Data-Were-Missing-4.3\"><span class=\"toc-item-num\">4.3&nbsp;&nbsp;</span>Specify That the Data Were Missing</a></span></li><li><span><a href=\"#Drop-Missing-Data\" data-toc-modified-id=\"Drop-Missing-Data-4.4\"><span class=\"toc-item-num\">4.4&nbsp;&nbsp;</span>Drop Missing Data</a></span></li><li><span><a href=\"#Comparing-Before-and-After\" data-toc-modified-id=\"Comparing-Before-and-After-4.5\"><span class=\"toc-item-num\">4.5&nbsp;&nbsp;</span>Comparing Before and After</a></span></li></ul></li><li><span><a href=\"#Level-Up:-.applymap()\" data-toc-modified-id=\"Level-Up:-.applymap()-5\"><span class=\"toc-item-num\">5&nbsp;&nbsp;</span>Level Up: <code>.applymap()</code></a></span></li><li><span><a href=\"#Level-Up:-Faster-NumPy-Methods\" data-toc-modified-id=\"Level-Up:-Faster-NumPy-Methods-6\"><span class=\"toc-item-num\">6&nbsp;&nbsp;</span>Level Up: Faster NumPy Methods</a></span><ul class=\"toc-item\"><li><span><a href=\"#NumPy's-where()-Method\" data-toc-modified-id=\"NumPy's-where()-Method-6.1\"><span class=\"toc-item-num\">6.1&nbsp;&nbsp;</span>NumPy's <code>where()</code> Method</a></span></li><li><span><a href=\"#NumPy's-select()-Method\" data-toc-modified-id=\"NumPy's-select()-Method-6.2\"><span class=\"toc-item-num\">6.2&nbsp;&nbsp;</span>NumPy's <code>select()</code> Method</a></span></li></ul></li></ul></div>"
   ]
  },
  {
   "cell_type": "markdown",
   "metadata": {},
   "source": [
    "![panda](http://res.freestockphotos.biz/thumbs/3/3173-illustration-of-a-giant-panda-eating-bamboo-th.png)"
   ]
  },
  {
   "cell_type": "code",
   "execution_count": 1,
   "metadata": {},
   "outputs": [],
   "source": [
    "import numpy as np\n",
    "import pandas as pd\n",
    "\n",
    "from matplotlib import pyplot as plt\n",
    "%matplotlib inline"
   ]
  },
  {
   "cell_type": "markdown",
   "metadata": {
    "heading_collapsed": true
   },
   "source": [
    "# Objectives"
   ]
  },
  {
   "cell_type": "markdown",
   "metadata": {
    "hidden": true
   },
   "source": [
    "- Use lambda functions and DataFrame methods to transform data\n",
    "- Handle missing data"
   ]
  },
  {
   "cell_type": "markdown",
   "metadata": {
    "heading_collapsed": true
   },
   "source": [
    "# More Pandas"
   ]
  },
  {
   "cell_type": "markdown",
   "metadata": {
    "hidden": true
   },
   "source": [
    "Suppose you were interested in opening an animal shelter. To inform your planning, it would be useful to analyze data from other shelters to understand their operations. In this lecture, we'll analyze animal outcome data from the Austin Animal Center.  "
   ]
  },
  {
   "cell_type": "markdown",
   "metadata": {
    "heading_collapsed": true,
    "hidden": true
   },
   "source": [
    "## Loading the Data"
   ]
  },
  {
   "cell_type": "markdown",
   "metadata": {
    "hidden": true
   },
   "source": [
    "Let's take a moment to examine the [Austin Animal Center data set](https://data.austintexas.gov/Health-and-Community-Services/Austin-Animal-Center-Outcomes/9t4d-g238/data). \n",
    "\n",
    "We can also ingest the data right off the web, as we do below. The code below will load JSON data for the last 1000 animals to leave the center from this [JSON file](https://data.austintexas.gov/resource/9t4d-g238.json). "
   ]
  },
  {
   "cell_type": "code",
   "execution_count": 2,
   "metadata": {
    "hidden": true
   },
   "outputs": [],
   "source": [
    "json_url = 'https://data.austintexas.gov/resource/9t4d-g238.json'\n",
    "animals = pd.read_json(json_url)"
   ]
  },
  {
   "cell_type": "markdown",
   "metadata": {
    "heading_collapsed": true
   },
   "source": [
    "# Exploratory Data Analysis (EDA)"
   ]
  },
  {
   "cell_type": "markdown",
   "metadata": {
    "hidden": true
   },
   "source": [
    "Exploring a new dataset is essential for understanding what it contains. This will generate ideas for processing the data and questions to try to answer in further analysis."
   ]
  },
  {
   "cell_type": "markdown",
   "metadata": {
    "heading_collapsed": true,
    "hidden": true
   },
   "source": [
    "## Inspecting the Data"
   ]
  },
  {
   "cell_type": "markdown",
   "metadata": {
    "hidden": true
   },
   "source": [
    "Let's take a look at a few rows of data."
   ]
  },
  {
   "cell_type": "code",
   "execution_count": 3,
   "metadata": {
    "hidden": true
   },
   "outputs": [
    {
     "data": {
      "text/html": [
       "<div>\n",
       "<style scoped>\n",
       "    .dataframe tbody tr th:only-of-type {\n",
       "        vertical-align: middle;\n",
       "    }\n",
       "\n",
       "    .dataframe tbody tr th {\n",
       "        vertical-align: top;\n",
       "    }\n",
       "\n",
       "    .dataframe thead th {\n",
       "        text-align: right;\n",
       "    }\n",
       "</style>\n",
       "<table border=\"1\" class=\"dataframe\">\n",
       "  <thead>\n",
       "    <tr style=\"text-align: right;\">\n",
       "      <th></th>\n",
       "      <th>animal_id</th>\n",
       "      <th>name</th>\n",
       "      <th>datetime</th>\n",
       "      <th>monthyear</th>\n",
       "      <th>date_of_birth</th>\n",
       "      <th>outcome_type</th>\n",
       "      <th>outcome_subtype</th>\n",
       "      <th>animal_type</th>\n",
       "      <th>sex_upon_outcome</th>\n",
       "      <th>age_upon_outcome</th>\n",
       "      <th>breed</th>\n",
       "      <th>color</th>\n",
       "    </tr>\n",
       "  </thead>\n",
       "  <tbody>\n",
       "    <tr>\n",
       "      <th>0</th>\n",
       "      <td>A845399</td>\n",
       "      <td>*Sweet Potato Pie</td>\n",
       "      <td>2021-11-30 13:56:00</td>\n",
       "      <td>2021-11-30T13:56:00.000</td>\n",
       "      <td>2021-09-29T00:00:00.000</td>\n",
       "      <td>Transfer</td>\n",
       "      <td>Partner</td>\n",
       "      <td>Cat</td>\n",
       "      <td>Intact Female</td>\n",
       "      <td>2 months</td>\n",
       "      <td>Domestic Shorthair</td>\n",
       "      <td>Brown Tabby</td>\n",
       "    </tr>\n",
       "    <tr>\n",
       "      <th>1</th>\n",
       "      <td>A843896</td>\n",
       "      <td>*Kermit</td>\n",
       "      <td>2021-11-30 12:19:00</td>\n",
       "      <td>2021-11-30T12:19:00.000</td>\n",
       "      <td>2021-09-04T00:00:00.000</td>\n",
       "      <td>Adoption</td>\n",
       "      <td>Foster</td>\n",
       "      <td>Cat</td>\n",
       "      <td>Neutered Male</td>\n",
       "      <td>2 months</td>\n",
       "      <td>Domestic Medium Hair Mix</td>\n",
       "      <td>Cream Tabby</td>\n",
       "    </tr>\n",
       "    <tr>\n",
       "      <th>2</th>\n",
       "      <td>A843900</td>\n",
       "      <td>*Fozzie Bear</td>\n",
       "      <td>2021-11-30 12:18:00</td>\n",
       "      <td>2021-11-30T12:18:00.000</td>\n",
       "      <td>2021-09-04T00:00:00.000</td>\n",
       "      <td>Adoption</td>\n",
       "      <td>Foster</td>\n",
       "      <td>Cat</td>\n",
       "      <td>Neutered Male</td>\n",
       "      <td>2 months</td>\n",
       "      <td>Domestic Medium Hair Mix</td>\n",
       "      <td>White/Cream Tabby</td>\n",
       "    </tr>\n",
       "    <tr>\n",
       "      <th>3</th>\n",
       "      <td>A846443</td>\n",
       "      <td>Persia</td>\n",
       "      <td>2021-11-30 11:40:00</td>\n",
       "      <td>2021-11-30T11:40:00.000</td>\n",
       "      <td>2021-01-16T00:00:00.000</td>\n",
       "      <td>Return to Owner</td>\n",
       "      <td>NaN</td>\n",
       "      <td>Dog</td>\n",
       "      <td>Intact Female</td>\n",
       "      <td>10 months</td>\n",
       "      <td>Queensland Heeler Mix</td>\n",
       "      <td>Blue Merle</td>\n",
       "    </tr>\n",
       "    <tr>\n",
       "      <th>4</th>\n",
       "      <td>A841608</td>\n",
       "      <td>*Chessie</td>\n",
       "      <td>2021-11-30 10:51:00</td>\n",
       "      <td>2021-11-30T10:51:00.000</td>\n",
       "      <td>2020-08-30T00:00:00.000</td>\n",
       "      <td>Adoption</td>\n",
       "      <td>Foster</td>\n",
       "      <td>Dog</td>\n",
       "      <td>Spayed Female</td>\n",
       "      <td>1 year</td>\n",
       "      <td>Harrier/Anatol Shepherd</td>\n",
       "      <td>Tan/White</td>\n",
       "    </tr>\n",
       "    <tr>\n",
       "      <th>5</th>\n",
       "      <td>A844861</td>\n",
       "      <td>*Mint Chocolate Chip</td>\n",
       "      <td>2021-11-30 10:31:00</td>\n",
       "      <td>2021-11-30T10:31:00.000</td>\n",
       "      <td>2021-09-06T00:00:00.000</td>\n",
       "      <td>Adoption</td>\n",
       "      <td>Foster</td>\n",
       "      <td>Cat</td>\n",
       "      <td>Spayed Female</td>\n",
       "      <td>2 months</td>\n",
       "      <td>Domestic Shorthair</td>\n",
       "      <td>Torbie</td>\n",
       "    </tr>\n",
       "    <tr>\n",
       "      <th>6</th>\n",
       "      <td>A844862</td>\n",
       "      <td>*Cookie Dough</td>\n",
       "      <td>2021-11-30 10:31:00</td>\n",
       "      <td>2021-11-30T10:31:00.000</td>\n",
       "      <td>2021-09-06T00:00:00.000</td>\n",
       "      <td>Adoption</td>\n",
       "      <td>Foster</td>\n",
       "      <td>Cat</td>\n",
       "      <td>Spayed Female</td>\n",
       "      <td>2 months</td>\n",
       "      <td>Domestic Shorthair</td>\n",
       "      <td>Blue Cream</td>\n",
       "    </tr>\n",
       "    <tr>\n",
       "      <th>7</th>\n",
       "      <td>A846913</td>\n",
       "      <td>A846913</td>\n",
       "      <td>2021-11-30 10:29:00</td>\n",
       "      <td>2021-11-30T10:29:00.000</td>\n",
       "      <td>2021-09-22T00:00:00.000</td>\n",
       "      <td>Adoption</td>\n",
       "      <td>NaN</td>\n",
       "      <td>Cat</td>\n",
       "      <td>Spayed Female</td>\n",
       "      <td>2 months</td>\n",
       "      <td>Domestic Shorthair</td>\n",
       "      <td>Brown Tabby/White</td>\n",
       "    </tr>\n",
       "    <tr>\n",
       "      <th>8</th>\n",
       "      <td>A846909</td>\n",
       "      <td>A846909</td>\n",
       "      <td>2021-11-30 10:29:00</td>\n",
       "      <td>2021-11-30T10:29:00.000</td>\n",
       "      <td>2021-09-22T00:00:00.000</td>\n",
       "      <td>Adoption</td>\n",
       "      <td>NaN</td>\n",
       "      <td>Cat</td>\n",
       "      <td>Neutered Male</td>\n",
       "      <td>2 months</td>\n",
       "      <td>Domestic Shorthair</td>\n",
       "      <td>Brown Tabby/White</td>\n",
       "    </tr>\n",
       "    <tr>\n",
       "      <th>9</th>\n",
       "      <td>A845509</td>\n",
       "      <td>NaN</td>\n",
       "      <td>2021-11-30 08:19:00</td>\n",
       "      <td>2021-11-30T08:19:00.000</td>\n",
       "      <td>2021-03-01T00:00:00.000</td>\n",
       "      <td>Transfer</td>\n",
       "      <td>Partner</td>\n",
       "      <td>Cat</td>\n",
       "      <td>Spayed Female</td>\n",
       "      <td>9 months</td>\n",
       "      <td>Domestic Shorthair</td>\n",
       "      <td>Tortie</td>\n",
       "    </tr>\n",
       "  </tbody>\n",
       "</table>\n",
       "</div>"
      ],
      "text/plain": [
       "  animal_id                  name            datetime  \\\n",
       "0   A845399     *Sweet Potato Pie 2021-11-30 13:56:00   \n",
       "1   A843896               *Kermit 2021-11-30 12:19:00   \n",
       "2   A843900          *Fozzie Bear 2021-11-30 12:18:00   \n",
       "3   A846443                Persia 2021-11-30 11:40:00   \n",
       "4   A841608              *Chessie 2021-11-30 10:51:00   \n",
       "5   A844861  *Mint Chocolate Chip 2021-11-30 10:31:00   \n",
       "6   A844862         *Cookie Dough 2021-11-30 10:31:00   \n",
       "7   A846913               A846913 2021-11-30 10:29:00   \n",
       "8   A846909               A846909 2021-11-30 10:29:00   \n",
       "9   A845509                   NaN 2021-11-30 08:19:00   \n",
       "\n",
       "                 monthyear            date_of_birth     outcome_type  \\\n",
       "0  2021-11-30T13:56:00.000  2021-09-29T00:00:00.000         Transfer   \n",
       "1  2021-11-30T12:19:00.000  2021-09-04T00:00:00.000         Adoption   \n",
       "2  2021-11-30T12:18:00.000  2021-09-04T00:00:00.000         Adoption   \n",
       "3  2021-11-30T11:40:00.000  2021-01-16T00:00:00.000  Return to Owner   \n",
       "4  2021-11-30T10:51:00.000  2020-08-30T00:00:00.000         Adoption   \n",
       "5  2021-11-30T10:31:00.000  2021-09-06T00:00:00.000         Adoption   \n",
       "6  2021-11-30T10:31:00.000  2021-09-06T00:00:00.000         Adoption   \n",
       "7  2021-11-30T10:29:00.000  2021-09-22T00:00:00.000         Adoption   \n",
       "8  2021-11-30T10:29:00.000  2021-09-22T00:00:00.000         Adoption   \n",
       "9  2021-11-30T08:19:00.000  2021-03-01T00:00:00.000         Transfer   \n",
       "\n",
       "  outcome_subtype animal_type sex_upon_outcome age_upon_outcome  \\\n",
       "0         Partner         Cat    Intact Female         2 months   \n",
       "1          Foster         Cat    Neutered Male         2 months   \n",
       "2          Foster         Cat    Neutered Male         2 months   \n",
       "3             NaN         Dog    Intact Female        10 months   \n",
       "4          Foster         Dog    Spayed Female           1 year   \n",
       "5          Foster         Cat    Spayed Female         2 months   \n",
       "6          Foster         Cat    Spayed Female         2 months   \n",
       "7             NaN         Cat    Spayed Female         2 months   \n",
       "8             NaN         Cat    Neutered Male         2 months   \n",
       "9         Partner         Cat    Spayed Female         9 months   \n",
       "\n",
       "                      breed              color  \n",
       "0        Domestic Shorthair        Brown Tabby  \n",
       "1  Domestic Medium Hair Mix        Cream Tabby  \n",
       "2  Domestic Medium Hair Mix  White/Cream Tabby  \n",
       "3     Queensland Heeler Mix         Blue Merle  \n",
       "4   Harrier/Anatol Shepherd          Tan/White  \n",
       "5        Domestic Shorthair             Torbie  \n",
       "6        Domestic Shorthair         Blue Cream  \n",
       "7        Domestic Shorthair  Brown Tabby/White  \n",
       "8        Domestic Shorthair  Brown Tabby/White  \n",
       "9        Domestic Shorthair             Tortie  "
      ]
     },
     "execution_count": 3,
     "metadata": {},
     "output_type": "execute_result"
    }
   ],
   "source": [
    "animals.head(10)"
   ]
  },
  {
   "cell_type": "markdown",
   "metadata": {
    "hidden": true
   },
   "source": [
    "The `info()` and `describe()` provide a useful overview of the data."
   ]
  },
  {
   "cell_type": "code",
   "execution_count": 4,
   "metadata": {
    "hidden": true
   },
   "outputs": [
    {
     "name": "stdout",
     "output_type": "stream",
     "text": [
      "<class 'pandas.core.frame.DataFrame'>\n",
      "RangeIndex: 1000 entries, 0 to 999\n",
      "Data columns (total 12 columns):\n",
      " #   Column            Non-Null Count  Dtype         \n",
      "---  ------            --------------  -----         \n",
      " 0   animal_id         1000 non-null   object        \n",
      " 1   name              848 non-null    object        \n",
      " 2   datetime          1000 non-null   datetime64[ns]\n",
      " 3   monthyear         1000 non-null   object        \n",
      " 4   date_of_birth     1000 non-null   object        \n",
      " 5   outcome_type      1000 non-null   object        \n",
      " 6   outcome_subtype   389 non-null    object        \n",
      " 7   animal_type       1000 non-null   object        \n",
      " 8   sex_upon_outcome  1000 non-null   object        \n",
      " 9   age_upon_outcome  1000 non-null   object        \n",
      " 10  breed             1000 non-null   object        \n",
      " 11  color             1000 non-null   object        \n",
      "dtypes: datetime64[ns](1), object(11)\n",
      "memory usage: 93.9+ KB\n"
     ]
    }
   ],
   "source": [
    "animals.info()"
   ]
  },
  {
   "cell_type": "markdown",
   "metadata": {
    "hidden": true
   },
   "source": [
    "> We can see we have some missing data. Specifically in the `outcome_type`, `outcome_subtype`, and `name` columns."
   ]
  },
  {
   "cell_type": "code",
   "execution_count": 5,
   "metadata": {
    "hidden": true
   },
   "outputs": [
    {
     "name": "stderr",
     "output_type": "stream",
     "text": [
      "<ipython-input-5-3885fd60d0c1>:1: FutureWarning: Treating datetime data as categorical rather than numeric in `.describe` is deprecated and will be removed in a future version of pandas. Specify `datetime_is_numeric=True` to silence this warning and adopt the future behavior now.\n",
      "  animals.describe()\n"
     ]
    },
    {
     "data": {
      "text/html": [
       "<div>\n",
       "<style scoped>\n",
       "    .dataframe tbody tr th:only-of-type {\n",
       "        vertical-align: middle;\n",
       "    }\n",
       "\n",
       "    .dataframe tbody tr th {\n",
       "        vertical-align: top;\n",
       "    }\n",
       "\n",
       "    .dataframe thead th {\n",
       "        text-align: right;\n",
       "    }\n",
       "</style>\n",
       "<table border=\"1\" class=\"dataframe\">\n",
       "  <thead>\n",
       "    <tr style=\"text-align: right;\">\n",
       "      <th></th>\n",
       "      <th>animal_id</th>\n",
       "      <th>name</th>\n",
       "      <th>datetime</th>\n",
       "      <th>monthyear</th>\n",
       "      <th>date_of_birth</th>\n",
       "      <th>outcome_type</th>\n",
       "      <th>outcome_subtype</th>\n",
       "      <th>animal_type</th>\n",
       "      <th>sex_upon_outcome</th>\n",
       "      <th>age_upon_outcome</th>\n",
       "      <th>breed</th>\n",
       "      <th>color</th>\n",
       "    </tr>\n",
       "  </thead>\n",
       "  <tbody>\n",
       "    <tr>\n",
       "      <th>count</th>\n",
       "      <td>1000</td>\n",
       "      <td>848</td>\n",
       "      <td>1000</td>\n",
       "      <td>1000</td>\n",
       "      <td>1000</td>\n",
       "      <td>1000</td>\n",
       "      <td>389</td>\n",
       "      <td>1000</td>\n",
       "      <td>1000</td>\n",
       "      <td>1000</td>\n",
       "      <td>1000</td>\n",
       "      <td>1000</td>\n",
       "    </tr>\n",
       "    <tr>\n",
       "      <th>unique</th>\n",
       "      <td>986</td>\n",
       "      <td>775</td>\n",
       "      <td>863</td>\n",
       "      <td>863</td>\n",
       "      <td>480</td>\n",
       "      <td>8</td>\n",
       "      <td>13</td>\n",
       "      <td>4</td>\n",
       "      <td>5</td>\n",
       "      <td>35</td>\n",
       "      <td>188</td>\n",
       "      <td>114</td>\n",
       "    </tr>\n",
       "    <tr>\n",
       "      <th>top</th>\n",
       "      <td>A843510</td>\n",
       "      <td>Luna</td>\n",
       "      <td>2021-11-12 13:05:00</td>\n",
       "      <td>2021-11-15T18:57:00.000</td>\n",
       "      <td>2021-09-04T00:00:00.000</td>\n",
       "      <td>Adoption</td>\n",
       "      <td>Partner</td>\n",
       "      <td>Dog</td>\n",
       "      <td>Neutered Male</td>\n",
       "      <td>2 months</td>\n",
       "      <td>Domestic Shorthair</td>\n",
       "      <td>Black/White</td>\n",
       "    </tr>\n",
       "    <tr>\n",
       "      <th>freq</th>\n",
       "      <td>2</td>\n",
       "      <td>7</td>\n",
       "      <td>4</td>\n",
       "      <td>4</td>\n",
       "      <td>18</td>\n",
       "      <td>601</td>\n",
       "      <td>174</td>\n",
       "      <td>516</td>\n",
       "      <td>367</td>\n",
       "      <td>181</td>\n",
       "      <td>258</td>\n",
       "      <td>99</td>\n",
       "    </tr>\n",
       "    <tr>\n",
       "      <th>first</th>\n",
       "      <td>NaN</td>\n",
       "      <td>NaN</td>\n",
       "      <td>2021-11-01 17:29:00</td>\n",
       "      <td>NaN</td>\n",
       "      <td>NaN</td>\n",
       "      <td>NaN</td>\n",
       "      <td>NaN</td>\n",
       "      <td>NaN</td>\n",
       "      <td>NaN</td>\n",
       "      <td>NaN</td>\n",
       "      <td>NaN</td>\n",
       "      <td>NaN</td>\n",
       "    </tr>\n",
       "    <tr>\n",
       "      <th>last</th>\n",
       "      <td>NaN</td>\n",
       "      <td>NaN</td>\n",
       "      <td>2021-11-30 13:56:00</td>\n",
       "      <td>NaN</td>\n",
       "      <td>NaN</td>\n",
       "      <td>NaN</td>\n",
       "      <td>NaN</td>\n",
       "      <td>NaN</td>\n",
       "      <td>NaN</td>\n",
       "      <td>NaN</td>\n",
       "      <td>NaN</td>\n",
       "      <td>NaN</td>\n",
       "    </tr>\n",
       "  </tbody>\n",
       "</table>\n",
       "</div>"
      ],
      "text/plain": [
       "       animal_id  name             datetime                monthyear  \\\n",
       "count       1000   848                 1000                     1000   \n",
       "unique       986   775                  863                      863   \n",
       "top      A843510  Luna  2021-11-12 13:05:00  2021-11-15T18:57:00.000   \n",
       "freq           2     7                    4                        4   \n",
       "first        NaN   NaN  2021-11-01 17:29:00                      NaN   \n",
       "last         NaN   NaN  2021-11-30 13:56:00                      NaN   \n",
       "\n",
       "                  date_of_birth outcome_type outcome_subtype animal_type  \\\n",
       "count                      1000         1000             389        1000   \n",
       "unique                      480            8              13           4   \n",
       "top     2021-09-04T00:00:00.000     Adoption         Partner         Dog   \n",
       "freq                         18          601             174         516   \n",
       "first                       NaN          NaN             NaN         NaN   \n",
       "last                        NaN          NaN             NaN         NaN   \n",
       "\n",
       "       sex_upon_outcome age_upon_outcome               breed        color  \n",
       "count              1000             1000                1000         1000  \n",
       "unique                5               35                 188          114  \n",
       "top       Neutered Male         2 months  Domestic Shorthair  Black/White  \n",
       "freq                367              181                 258           99  \n",
       "first               NaN              NaN                 NaN          NaN  \n",
       "last                NaN              NaN                 NaN          NaN  "
      ]
     },
     "execution_count": 5,
     "metadata": {},
     "output_type": "execute_result"
    }
   ],
   "source": [
    "animals.describe()"
   ]
  },
  {
   "cell_type": "code",
   "execution_count": 6,
   "metadata": {
    "hidden": true
   },
   "outputs": [
    {
     "data": {
      "text/plain": [
       "Black/White          99\n",
       "Black                91\n",
       "Brown Tabby          64\n",
       "Orange Tabby         40\n",
       "Brown Tabby/White    38\n",
       "                     ..\n",
       "Gold                  1\n",
       "Tan/Blue Tick         1\n",
       "Red Tick/Red          1\n",
       "Buff/White            1\n",
       "Blue Point/White      1\n",
       "Name: color, Length: 114, dtype: int64"
      ]
     },
     "execution_count": 6,
     "metadata": {},
     "output_type": "execute_result"
    }
   ],
   "source": [
    "# Use value counts to check a categorical feature's distribution\n",
    "\n",
    "animals['color'].value_counts()"
   ]
  },
  {
   "cell_type": "markdown",
   "metadata": {
    "hidden": true
   },
   "source": [
    "Now that we have a sense of the data available to us, we can focus in on some more specific questions to dig into. These questions may or may not be directly relevant to your goal (e.g. helping plan a new shelter), but will always help you gain a better understanding of your data.\n",
    "\n",
    "In your EDA notebooks, **markdown** will be especially helpful in tracking these questions and your methods of answering the questions."
   ]
  },
  {
   "cell_type": "markdown",
   "metadata": {
    "heading_collapsed": true,
    "hidden": true
   },
   "source": [
    "## Question 1: What animal types are in the dataset?"
   ]
  },
  {
   "cell_type": "markdown",
   "metadata": {
    "hidden": true
   },
   "source": [
    "We can then begin thinking about what parts of the DataFrame we need to answer the question."
   ]
  },
  {
   "cell_type": "markdown",
   "metadata": {
    "hidden": true
   },
   "source": [
    "* What features do we need?\n",
    " - \"animal_type\"\n",
    "* What type of logic and calculation do we perform?\n",
    " - Let's use `.value_counts()` to count the different animal types\n",
    "* What type of visualization would help us answer the question?\n",
    " - A bar chart would be good for this purpose"
   ]
  },
  {
   "cell_type": "code",
   "execution_count": 7,
   "metadata": {
    "hidden": true
   },
   "outputs": [
    {
     "data": {
      "text/plain": [
       "Dog      516\n",
       "Cat      437\n",
       "Other     42\n",
       "Bird       5\n",
       "Name: animal_type, dtype: int64"
      ]
     },
     "execution_count": 7,
     "metadata": {},
     "output_type": "execute_result"
    }
   ],
   "source": [
    "animals['animal_type'].value_counts()"
   ]
  },
  {
   "cell_type": "code",
   "execution_count": 8,
   "metadata": {
    "hidden": true
   },
   "outputs": [
    {
     "data": {
      "image/png": "[encoded data removed]",
      "text/plain": [
       "<Figure size 432x288 with 1 Axes>"
      ]
     },
     "metadata": {
      "needs_background": "light"
     },
     "output_type": "display_data"
    }
   ],
   "source": [
    "fig, ax = plt.subplots()\n",
    "\n",
    "animal_type_values = animals['animal_type'].value_counts()\n",
    "\n",
    "ax.barh(\n",
    "    y=animal_type_values.index,\n",
    "    width=animal_type_values.values\n",
    ")\n",
    "ax.set_xlabel('count');"
   ]
  },
  {
   "cell_type": "code",
   "execution_count": 9,
   "metadata": {
    "hidden": true
   },
   "outputs": [
    {
     "data": {
      "image/png": "[encoded data removed]",
      "text/plain": [
       "<Figure size 432x288 with 1 Axes>"
      ]
     },
     "metadata": {
      "needs_background": "light"
     },
     "output_type": "display_data"
    }
   ],
   "source": [
    "animals['animal_type'].hist();"
   ]
  },
  {
   "cell_type": "markdown",
   "metadata": {
    "hidden": true
   },
   "source": [
    "Questions lead to other questions. For the above example, the visualization raises the question..."
   ]
  },
  {
   "cell_type": "markdown",
   "metadata": {
    "heading_collapsed": true,
    "hidden": true
   },
   "source": [
    "## Question 2: What \"Other\" animals are in the dataset?"
   ]
  },
  {
   "cell_type": "markdown",
   "metadata": {
    "hidden": true
   },
   "source": [
    "To find out, we need to know whether the type of animal for \"Other\" is in our dataset - and if so, where to find it.   "
   ]
  },
  {
   "cell_type": "markdown",
   "metadata": {
    "hidden": true
   },
   "source": [
    "**Discussion**: Where might we look to find animal types within the Other category?\n",
    "\n",
    "<details>\n",
    "    <summary>\n",
    "        Answer\n",
    "    </summary>\n",
    "        The breed column.\n",
    "</details>"
   ]
  },
  {
   "cell_type": "code",
   "execution_count": 10,
   "metadata": {
    "hidden": true
   },
   "outputs": [
    {
     "data": {
      "text/html": [
       "<div>\n",
       "<style scoped>\n",
       "    .dataframe tbody tr th:only-of-type {\n",
       "        vertical-align: middle;\n",
       "    }\n",
       "\n",
       "    .dataframe tbody tr th {\n",
       "        vertical-align: top;\n",
       "    }\n",
       "\n",
       "    .dataframe thead th {\n",
       "        text-align: right;\n",
       "    }\n",
       "</style>\n",
       "<table border=\"1\" class=\"dataframe\">\n",
       "  <thead>\n",
       "    <tr style=\"text-align: right;\">\n",
       "      <th></th>\n",
       "      <th>animal_id</th>\n",
       "      <th>name</th>\n",
       "      <th>datetime</th>\n",
       "      <th>monthyear</th>\n",
       "      <th>date_of_birth</th>\n",
       "      <th>outcome_type</th>\n",
       "      <th>outcome_subtype</th>\n",
       "      <th>animal_type</th>\n",
       "      <th>sex_upon_outcome</th>\n",
       "      <th>age_upon_outcome</th>\n",
       "      <th>breed</th>\n",
       "      <th>color</th>\n",
       "    </tr>\n",
       "  </thead>\n",
       "  <tbody>\n",
       "    <tr>\n",
       "      <th>0</th>\n",
       "      <td>A845399</td>\n",
       "      <td>*Sweet Potato Pie</td>\n",
       "      <td>2021-11-30 13:56:00</td>\n",
       "      <td>2021-11-30T13:56:00.000</td>\n",
       "      <td>2021-09-29T00:00:00.000</td>\n",
       "      <td>Transfer</td>\n",
       "      <td>Partner</td>\n",
       "      <td>Cat</td>\n",
       "      <td>Intact Female</td>\n",
       "      <td>2 months</td>\n",
       "      <td>Domestic Shorthair</td>\n",
       "      <td>Brown Tabby</td>\n",
       "    </tr>\n",
       "    <tr>\n",
       "      <th>1</th>\n",
       "      <td>A843896</td>\n",
       "      <td>*Kermit</td>\n",
       "      <td>2021-11-30 12:19:00</td>\n",
       "      <td>2021-11-30T12:19:00.000</td>\n",
       "      <td>2021-09-04T00:00:00.000</td>\n",
       "      <td>Adoption</td>\n",
       "      <td>Foster</td>\n",
       "      <td>Cat</td>\n",
       "      <td>Neutered Male</td>\n",
       "      <td>2 months</td>\n",
       "      <td>Domestic Medium Hair Mix</td>\n",
       "      <td>Cream Tabby</td>\n",
       "    </tr>\n",
       "    <tr>\n",
       "      <th>2</th>\n",
       "      <td>A843900</td>\n",
       "      <td>*Fozzie Bear</td>\n",
       "      <td>2021-11-30 12:18:00</td>\n",
       "      <td>2021-11-30T12:18:00.000</td>\n",
       "      <td>2021-09-04T00:00:00.000</td>\n",
       "      <td>Adoption</td>\n",
       "      <td>Foster</td>\n",
       "      <td>Cat</td>\n",
       "      <td>Neutered Male</td>\n",
       "      <td>2 months</td>\n",
       "      <td>Domestic Medium Hair Mix</td>\n",
       "      <td>White/Cream Tabby</td>\n",
       "    </tr>\n",
       "    <tr>\n",
       "      <th>3</th>\n",
       "      <td>A846443</td>\n",
       "      <td>Persia</td>\n",
       "      <td>2021-11-30 11:40:00</td>\n",
       "      <td>2021-11-30T11:40:00.000</td>\n",
       "      <td>2021-01-16T00:00:00.000</td>\n",
       "      <td>Return to Owner</td>\n",
       "      <td>NaN</td>\n",
       "      <td>Dog</td>\n",
       "      <td>Intact Female</td>\n",
       "      <td>10 months</td>\n",
       "      <td>Queensland Heeler Mix</td>\n",
       "      <td>Blue Merle</td>\n",
       "    </tr>\n",
       "    <tr>\n",
       "      <th>4</th>\n",
       "      <td>A841608</td>\n",
       "      <td>*Chessie</td>\n",
       "      <td>2021-11-30 10:51:00</td>\n",
       "      <td>2021-11-30T10:51:00.000</td>\n",
       "      <td>2020-08-30T00:00:00.000</td>\n",
       "      <td>Adoption</td>\n",
       "      <td>Foster</td>\n",
       "      <td>Dog</td>\n",
       "      <td>Spayed Female</td>\n",
       "      <td>1 year</td>\n",
       "      <td>Harrier/Anatol Shepherd</td>\n",
       "      <td>Tan/White</td>\n",
       "    </tr>\n",
       "  </tbody>\n",
       "</table>\n",
       "</div>"
      ],
      "text/plain": [
       "  animal_id               name            datetime                monthyear  \\\n",
       "0   A845399  *Sweet Potato Pie 2021-11-30 13:56:00  2021-11-30T13:56:00.000   \n",
       "1   A843896            *Kermit 2021-11-30 12:19:00  2021-11-30T12:19:00.000   \n",
       "2   A843900       *Fozzie Bear 2021-11-30 12:18:00  2021-11-30T12:18:00.000   \n",
       "3   A846443             Persia 2021-11-30 11:40:00  2021-11-30T11:40:00.000   \n",
       "4   A841608           *Chessie 2021-11-30 10:51:00  2021-11-30T10:51:00.000   \n",
       "\n",
       "             date_of_birth     outcome_type outcome_subtype animal_type  \\\n",
       "0  2021-09-29T00:00:00.000         Transfer         Partner         Cat   \n",
       "1  2021-09-04T00:00:00.000         Adoption          Foster         Cat   \n",
       "2  2021-09-04T00:00:00.000         Adoption          Foster         Cat   \n",
       "3  2021-01-16T00:00:00.000  Return to Owner             NaN         Dog   \n",
       "4  2020-08-30T00:00:00.000         Adoption          Foster         Dog   \n",
       "\n",
       "  sex_upon_outcome age_upon_outcome                     breed  \\\n",
       "0    Intact Female         2 months        Domestic Shorthair   \n",
       "1    Neutered Male         2 months  Domestic Medium Hair Mix   \n",
       "2    Neutered Male         2 months  Domestic Medium Hair Mix   \n",
       "3    Intact Female        10 months     Queensland Heeler Mix   \n",
       "4    Spayed Female           1 year   Harrier/Anatol Shepherd   \n",
       "\n",
       "               color  \n",
       "0        Brown Tabby  \n",
       "1        Cream Tabby  \n",
       "2  White/Cream Tabby  \n",
       "3         Blue Merle  \n",
       "4          Tan/White  "
      ]
     },
     "execution_count": 10,
     "metadata": {},
     "output_type": "execute_result"
    }
   ],
   "source": [
    "# Your exploration here\n",
    "animals.head()"
   ]
  },
  {
   "cell_type": "markdown",
   "metadata": {
    "hidden": true
   },
   "source": [
    "Let's use that column to answer our question."
   ]
  },
  {
   "cell_type": "code",
   "execution_count": 11,
   "metadata": {
    "hidden": true
   },
   "outputs": [
    {
     "data": {
      "text/plain": [
       "Guinea Pig    13\n",
       "Raccoon        9\n",
       "Rat            8\n",
       "Bat            5\n",
       "Rabbit Sh      4\n",
       "Rex            1\n",
       "Fox            1\n",
       "Squirrel       1\n",
       "Name: breed, dtype: int64"
      ]
     },
     "execution_count": 11,
     "metadata": {},
     "output_type": "execute_result"
    }
   ],
   "source": [
    "mask_other_animals = animals['animal_type'] == 'Other'\n",
    "animals[mask_other_animals]['breed'].value_counts()"
   ]
  },
  {
   "cell_type": "markdown",
   "metadata": {
    "heading_collapsed": true,
    "hidden": true
   },
   "source": [
    "## Question 3: How old are the animals in our dataset?"
   ]
  },
  {
   "cell_type": "markdown",
   "metadata": {
    "hidden": true
   },
   "source": [
    "Let's try to answer this with the `age_upon_outcome` variable to learn some new `pandas` tools."
   ]
  },
  {
   "cell_type": "code",
   "execution_count": 12,
   "metadata": {
    "hidden": true
   },
   "outputs": [
    {
     "data": {
      "text/plain": [
       "2 months     181\n",
       "2 years      160\n",
       "1 year       150\n",
       "3 months      63\n",
       "1 month       62\n",
       "4 months      43\n",
       "3 years       36\n",
       "5 months      32\n",
       "6 months      24\n",
       "4 years       24\n",
       "8 months      19\n",
       "5 years       19\n",
       "9 months      18\n",
       "7 months      17\n",
       "7 years       16\n",
       "10 months     15\n",
       "11 months     14\n",
       "4 weeks       14\n",
       "8 years       14\n",
       "3 weeks       12\n",
       "2 weeks       12\n",
       "6 years       11\n",
       "10 years      10\n",
       "12 years       6\n",
       "3 days         4\n",
       "11 years       4\n",
       "6 days         4\n",
       "9 years        3\n",
       "NULL           3\n",
       "13 years       3\n",
       "1 weeks        2\n",
       "4 days         2\n",
       "16 years       1\n",
       "1 week         1\n",
       "15 years       1\n",
       "Name: age_upon_outcome, dtype: int64"
      ]
     },
     "execution_count": 12,
     "metadata": {},
     "output_type": "execute_result"
    }
   ],
   "source": [
    "animals['age_upon_outcome'].value_counts()"
   ]
  },
  {
   "cell_type": "markdown",
   "metadata": {
    "heading_collapsed": true,
    "hidden": true
   },
   "source": [
    "### `Series.map()`"
   ]
  },
  {
   "cell_type": "markdown",
   "metadata": {
    "hidden": true
   },
   "source": [
    "The `.map()` method applies a transformation to every entry in the Series. This transformation  \"maps\" each value from the Series to a new value. A transformation can be defined by a function, Series, or dictionary - usually we'll use functions."
   ]
  },
  {
   "cell_type": "markdown",
   "metadata": {
    "hidden": true
   },
   "source": [
    "The `.apply()` method is similar to the `.map()` method for Series, but can only use functions. It has more powerful uses when working with DataFrames."
   ]
  },
  {
   "cell_type": "code",
   "execution_count": 13,
   "metadata": {
    "hidden": true
   },
   "outputs": [],
   "source": [
    "def one_year(age):\n",
    "    if age == '1 year':\n",
    "        return '1 years'\n",
    "    else:\n",
    "        return age"
   ]
  },
  {
   "cell_type": "code",
   "execution_count": 14,
   "metadata": {
    "hidden": true,
    "scrolled": true
   },
   "outputs": [
    {
     "data": {
      "text/plain": [
       "2 months     181\n",
       "2 years      160\n",
       "1 years      150\n",
       "3 months      63\n",
       "1 month       62\n",
       "4 months      43\n",
       "3 years       36\n",
       "5 months      32\n",
       "4 years       24\n",
       "6 months      24\n",
       "5 years       19\n",
       "8 months      19\n",
       "9 months      18\n",
       "7 months      17\n",
       "7 years       16\n",
       "10 months     15\n",
       "4 weeks       14\n",
       "11 months     14\n",
       "8 years       14\n",
       "3 weeks       12\n",
       "2 weeks       12\n",
       "6 years       11\n",
       "10 years      10\n",
       "12 years       6\n",
       "3 days         4\n",
       "11 years       4\n",
       "6 days         4\n",
       "9 years        3\n",
       "NULL           3\n",
       "13 years       3\n",
       "1 weeks        2\n",
       "4 days         2\n",
       "16 years       1\n",
       "1 week         1\n",
       "15 years       1\n",
       "Name: new_age1, dtype: int64"
      ]
     },
     "execution_count": 14,
     "metadata": {},
     "output_type": "execute_result"
    }
   ],
   "source": [
    "animals['new_age1'] = animals['age_upon_outcome'].map(one_year)\n",
    "animals['new_age1'].value_counts()"
   ]
  },
  {
   "cell_type": "markdown",
   "metadata": {
    "heading_collapsed": true,
    "hidden": true
   },
   "source": [
    "### More Sophisticated Mapping"
   ]
  },
  {
   "cell_type": "markdown",
   "metadata": {
    "hidden": true
   },
   "source": [
    "Let's use `.map()` to turn sex_upon_outcome into a category with three values (called **ternary**): male, female, or unknown. "
   ]
  },
  {
   "cell_type": "markdown",
   "metadata": {
    "hidden": true
   },
   "source": [
    "First, explore the unique values:"
   ]
  },
  {
   "cell_type": "code",
   "execution_count": 15,
   "metadata": {
    "hidden": true
   },
   "outputs": [
    {
     "data": {
      "text/plain": [
       "array(['Intact Female', 'Neutered Male', 'Spayed Female', 'Unknown',\n",
       "       'Intact Male'], dtype=object)"
      ]
     },
     "execution_count": 15,
     "metadata": {},
     "output_type": "execute_result"
    }
   ],
   "source": [
    "animals['sex_upon_outcome'].unique()"
   ]
  },
  {
   "cell_type": "code",
   "execution_count": 16,
   "metadata": {
    "hidden": true
   },
   "outputs": [],
   "source": [
    "def sex_mapper(status):\n",
    "    if status in ['Neutered Male', 'Intact Male']:\n",
    "        return 'Male'\n",
    "    elif status in ['Spayed Female', 'Intact Female']:\n",
    "        return 'Female'\n",
    "    else:\n",
    "        return 'Unknown'"
   ]
  },
  {
   "cell_type": "code",
   "execution_count": 17,
   "metadata": {
    "hidden": true
   },
   "outputs": [
    {
     "data": {
      "text/html": [
       "<div>\n",
       "<style scoped>\n",
       "    .dataframe tbody tr th:only-of-type {\n",
       "        vertical-align: middle;\n",
       "    }\n",
       "\n",
       "    .dataframe tbody tr th {\n",
       "        vertical-align: top;\n",
       "    }\n",
       "\n",
       "    .dataframe thead th {\n",
       "        text-align: right;\n",
       "    }\n",
       "</style>\n",
       "<table border=\"1\" class=\"dataframe\">\n",
       "  <thead>\n",
       "    <tr style=\"text-align: right;\">\n",
       "      <th></th>\n",
       "      <th>sex_upon_outcome</th>\n",
       "      <th>new_sex1</th>\n",
       "    </tr>\n",
       "  </thead>\n",
       "  <tbody>\n",
       "    <tr>\n",
       "      <th>0</th>\n",
       "      <td>Intact Female</td>\n",
       "      <td>Female</td>\n",
       "    </tr>\n",
       "    <tr>\n",
       "      <th>1</th>\n",
       "      <td>Neutered Male</td>\n",
       "      <td>Male</td>\n",
       "    </tr>\n",
       "    <tr>\n",
       "      <th>2</th>\n",
       "      <td>Neutered Male</td>\n",
       "      <td>Male</td>\n",
       "    </tr>\n",
       "    <tr>\n",
       "      <th>3</th>\n",
       "      <td>Intact Female</td>\n",
       "      <td>Female</td>\n",
       "    </tr>\n",
       "    <tr>\n",
       "      <th>4</th>\n",
       "      <td>Spayed Female</td>\n",
       "      <td>Female</td>\n",
       "    </tr>\n",
       "    <tr>\n",
       "      <th>...</th>\n",
       "      <td>...</td>\n",
       "      <td>...</td>\n",
       "    </tr>\n",
       "    <tr>\n",
       "      <th>995</th>\n",
       "      <td>Spayed Female</td>\n",
       "      <td>Female</td>\n",
       "    </tr>\n",
       "    <tr>\n",
       "      <th>996</th>\n",
       "      <td>Spayed Female</td>\n",
       "      <td>Female</td>\n",
       "    </tr>\n",
       "    <tr>\n",
       "      <th>997</th>\n",
       "      <td>Spayed Female</td>\n",
       "      <td>Female</td>\n",
       "    </tr>\n",
       "    <tr>\n",
       "      <th>998</th>\n",
       "      <td>Spayed Female</td>\n",
       "      <td>Female</td>\n",
       "    </tr>\n",
       "    <tr>\n",
       "      <th>999</th>\n",
       "      <td>Neutered Male</td>\n",
       "      <td>Male</td>\n",
       "    </tr>\n",
       "  </tbody>\n",
       "</table>\n",
       "<p>1000 rows × 2 columns</p>\n",
       "</div>"
      ],
      "text/plain": [
       "    sex_upon_outcome new_sex1\n",
       "0      Intact Female   Female\n",
       "1      Neutered Male     Male\n",
       "2      Neutered Male     Male\n",
       "3      Intact Female   Female\n",
       "4      Spayed Female   Female\n",
       "..               ...      ...\n",
       "995    Spayed Female   Female\n",
       "996    Spayed Female   Female\n",
       "997    Spayed Female   Female\n",
       "998    Spayed Female   Female\n",
       "999    Neutered Male     Male\n",
       "\n",
       "[1000 rows x 2 columns]"
      ]
     },
     "execution_count": 17,
     "metadata": {},
     "output_type": "execute_result"
    }
   ],
   "source": [
    "animals['new_sex1'] = animals['sex_upon_outcome'].map(sex_mapper)\n",
    "animals.loc[:, ['sex_upon_outcome', 'new_sex1']]"
   ]
  },
  {
   "cell_type": "markdown",
   "metadata": {
    "heading_collapsed": true,
    "hidden": true
   },
   "source": [
    "### Lambda Functions"
   ]
  },
  {
   "cell_type": "markdown",
   "metadata": {
    "hidden": true
   },
   "source": [
    "Simple functions can be defined just when you need them, when you would call the function. These are called **lambda functions**. These functions are **anonymous** and disappear immediately after use."
   ]
  },
  {
   "cell_type": "markdown",
   "metadata": {
    "hidden": true
   },
   "source": [
    "Let's use a lambda function to get rid of 'Other' in the \"animal_type' column."
   ]
  },
  {
   "cell_type": "code",
   "execution_count": 18,
   "metadata": {
    "hidden": true
   },
   "outputs": [
    {
     "data": {
      "text/html": [
       "<div>\n",
       "<style scoped>\n",
       "    .dataframe tbody tr th:only-of-type {\n",
       "        vertical-align: middle;\n",
       "    }\n",
       "\n",
       "    .dataframe tbody tr th {\n",
       "        vertical-align: top;\n",
       "    }\n",
       "\n",
       "    .dataframe thead th {\n",
       "        text-align: right;\n",
       "    }\n",
       "</style>\n",
       "<table border=\"1\" class=\"dataframe\">\n",
       "  <thead>\n",
       "    <tr style=\"text-align: right;\">\n",
       "      <th></th>\n",
       "      <th>animal_id</th>\n",
       "      <th>name</th>\n",
       "      <th>datetime</th>\n",
       "      <th>monthyear</th>\n",
       "      <th>date_of_birth</th>\n",
       "      <th>outcome_type</th>\n",
       "      <th>outcome_subtype</th>\n",
       "      <th>animal_type</th>\n",
       "      <th>sex_upon_outcome</th>\n",
       "      <th>age_upon_outcome</th>\n",
       "      <th>breed</th>\n",
       "      <th>color</th>\n",
       "      <th>new_age1</th>\n",
       "      <th>new_sex1</th>\n",
       "    </tr>\n",
       "  </thead>\n",
       "  <tbody>\n",
       "    <tr>\n",
       "      <th>72</th>\n",
       "      <td>A844961</td>\n",
       "      <td>*Cream Cheese</td>\n",
       "      <td>2021-11-28 13:07:00</td>\n",
       "      <td>2021-11-28T13:07:00.000</td>\n",
       "      <td>2020-10-23T00:00:00.000</td>\n",
       "      <td>Adoption</td>\n",
       "      <td>NaN</td>\n",
       "      <td>Other</td>\n",
       "      <td>Intact Male</td>\n",
       "      <td>1 year</td>\n",
       "      <td>Rabbit Sh</td>\n",
       "      <td>White/Brown</td>\n",
       "      <td>1 years</td>\n",
       "      <td>Male</td>\n",
       "    </tr>\n",
       "    <tr>\n",
       "      <th>131</th>\n",
       "      <td>A844918</td>\n",
       "      <td>A844918</td>\n",
       "      <td>2021-11-27 07:54:00</td>\n",
       "      <td>2021-11-27T07:54:00.000</td>\n",
       "      <td>2021-10-22T00:00:00.000</td>\n",
       "      <td>Adoption</td>\n",
       "      <td>Foster</td>\n",
       "      <td>Other</td>\n",
       "      <td>Intact Male</td>\n",
       "      <td>1 month</td>\n",
       "      <td>Guinea Pig</td>\n",
       "      <td>Brown/White</td>\n",
       "      <td>1 month</td>\n",
       "      <td>Male</td>\n",
       "    </tr>\n",
       "    <tr>\n",
       "      <th>132</th>\n",
       "      <td>A844917</td>\n",
       "      <td>A844917</td>\n",
       "      <td>2021-11-27 07:53:00</td>\n",
       "      <td>2021-11-27T07:53:00.000</td>\n",
       "      <td>2021-10-22T00:00:00.000</td>\n",
       "      <td>Adoption</td>\n",
       "      <td>Foster</td>\n",
       "      <td>Other</td>\n",
       "      <td>Intact Female</td>\n",
       "      <td>1 month</td>\n",
       "      <td>Guinea Pig</td>\n",
       "      <td>Tricolor</td>\n",
       "      <td>1 month</td>\n",
       "      <td>Female</td>\n",
       "    </tr>\n",
       "    <tr>\n",
       "      <th>133</th>\n",
       "      <td>A844915</td>\n",
       "      <td>NaN</td>\n",
       "      <td>2021-11-27 07:53:00</td>\n",
       "      <td>2021-11-27T07:53:00.000</td>\n",
       "      <td>2019-10-22T00:00:00.000</td>\n",
       "      <td>Adoption</td>\n",
       "      <td>Foster</td>\n",
       "      <td>Other</td>\n",
       "      <td>Intact Female</td>\n",
       "      <td>2 years</td>\n",
       "      <td>Guinea Pig</td>\n",
       "      <td>Tricolor</td>\n",
       "      <td>2 years</td>\n",
       "      <td>Female</td>\n",
       "    </tr>\n",
       "    <tr>\n",
       "      <th>134</th>\n",
       "      <td>A844913</td>\n",
       "      <td>NaN</td>\n",
       "      <td>2021-11-27 07:52:00</td>\n",
       "      <td>2021-11-27T07:52:00.000</td>\n",
       "      <td>2019-10-22T00:00:00.000</td>\n",
       "      <td>Adoption</td>\n",
       "      <td>Foster</td>\n",
       "      <td>Other</td>\n",
       "      <td>Intact Male</td>\n",
       "      <td>2 years</td>\n",
       "      <td>Guinea Pig</td>\n",
       "      <td>Brown/White</td>\n",
       "      <td>2 years</td>\n",
       "      <td>Male</td>\n",
       "    </tr>\n",
       "    <tr>\n",
       "      <th>206</th>\n",
       "      <td>A846694</td>\n",
       "      <td>NaN</td>\n",
       "      <td>2021-11-23 09:15:00</td>\n",
       "      <td>2021-11-23T09:15:00.000</td>\n",
       "      <td>2019-11-19T00:00:00.000</td>\n",
       "      <td>Euthanasia</td>\n",
       "      <td>Rabies Risk</td>\n",
       "      <td>Other</td>\n",
       "      <td>Unknown</td>\n",
       "      <td>2 years</td>\n",
       "      <td>Bat</td>\n",
       "      <td>Brown</td>\n",
       "      <td>2 years</td>\n",
       "      <td>Unknown</td>\n",
       "    </tr>\n",
       "    <tr>\n",
       "      <th>207</th>\n",
       "      <td>A846918</td>\n",
       "      <td>NaN</td>\n",
       "      <td>2021-11-23 08:46:00</td>\n",
       "      <td>2021-11-23T08:46:00.000</td>\n",
       "      <td>2020-11-22T00:00:00.000</td>\n",
       "      <td>Euthanasia</td>\n",
       "      <td>Rabies Risk</td>\n",
       "      <td>Other</td>\n",
       "      <td>Unknown</td>\n",
       "      <td>1 year</td>\n",
       "      <td>Bat</td>\n",
       "      <td>Black</td>\n",
       "      <td>1 years</td>\n",
       "      <td>Unknown</td>\n",
       "    </tr>\n",
       "    <tr>\n",
       "      <th>230</th>\n",
       "      <td>A846605</td>\n",
       "      <td>NaN</td>\n",
       "      <td>2021-11-22 11:51:00</td>\n",
       "      <td>2021-11-22T11:51:00.000</td>\n",
       "      <td>2019-11-18T00:00:00.000</td>\n",
       "      <td>Euthanasia</td>\n",
       "      <td>Rabies Risk</td>\n",
       "      <td>Other</td>\n",
       "      <td>Unknown</td>\n",
       "      <td>2 years</td>\n",
       "      <td>Fox</td>\n",
       "      <td>Red/Gray</td>\n",
       "      <td>2 years</td>\n",
       "      <td>Unknown</td>\n",
       "    </tr>\n",
       "    <tr>\n",
       "      <th>245</th>\n",
       "      <td>A846527</td>\n",
       "      <td>NaN</td>\n",
       "      <td>2021-11-21 12:33:00</td>\n",
       "      <td>2021-11-21T12:33:00.000</td>\n",
       "      <td>2019-11-17T00:00:00.000</td>\n",
       "      <td>Euthanasia</td>\n",
       "      <td>Rabies Risk</td>\n",
       "      <td>Other</td>\n",
       "      <td>Unknown</td>\n",
       "      <td>2 years</td>\n",
       "      <td>Raccoon</td>\n",
       "      <td>Black/Gray</td>\n",
       "      <td>2 years</td>\n",
       "      <td>Unknown</td>\n",
       "    </tr>\n",
       "    <tr>\n",
       "      <th>250</th>\n",
       "      <td>A846679</td>\n",
       "      <td>NaN</td>\n",
       "      <td>2021-11-21 09:14:00</td>\n",
       "      <td>2021-11-21T09:14:00.000</td>\n",
       "      <td>2020-11-19T00:00:00.000</td>\n",
       "      <td>Euthanasia</td>\n",
       "      <td>Rabies Risk</td>\n",
       "      <td>Other</td>\n",
       "      <td>Unknown</td>\n",
       "      <td>1 year</td>\n",
       "      <td>Raccoon</td>\n",
       "      <td>Brown/Gray</td>\n",
       "      <td>1 years</td>\n",
       "      <td>Unknown</td>\n",
       "    </tr>\n",
       "    <tr>\n",
       "      <th>271</th>\n",
       "      <td>A844839</td>\n",
       "      <td>*Bijou</td>\n",
       "      <td>2021-11-20 14:52:00</td>\n",
       "      <td>2021-11-20T14:52:00.000</td>\n",
       "      <td>2020-10-21T00:00:00.000</td>\n",
       "      <td>Adoption</td>\n",
       "      <td>Foster</td>\n",
       "      <td>Other</td>\n",
       "      <td>Intact Female</td>\n",
       "      <td>1 year</td>\n",
       "      <td>Rabbit Sh</td>\n",
       "      <td>White/Blue</td>\n",
       "      <td>1 years</td>\n",
       "      <td>Female</td>\n",
       "    </tr>\n",
       "    <tr>\n",
       "      <th>272</th>\n",
       "      <td>A844838</td>\n",
       "      <td>*Charm</td>\n",
       "      <td>2021-11-20 14:51:00</td>\n",
       "      <td>2021-11-20T14:51:00.000</td>\n",
       "      <td>2020-10-21T00:00:00.000</td>\n",
       "      <td>Adoption</td>\n",
       "      <td>Foster</td>\n",
       "      <td>Other</td>\n",
       "      <td>Intact Female</td>\n",
       "      <td>1 year</td>\n",
       "      <td>Rabbit Sh</td>\n",
       "      <td>White/Blue</td>\n",
       "      <td>1 years</td>\n",
       "      <td>Female</td>\n",
       "    </tr>\n",
       "    <tr>\n",
       "      <th>277</th>\n",
       "      <td>A846738</td>\n",
       "      <td>NaN</td>\n",
       "      <td>2021-11-20 12:42:00</td>\n",
       "      <td>2021-11-20T12:42:00.000</td>\n",
       "      <td>2019-11-20T00:00:00.000</td>\n",
       "      <td>Euthanasia</td>\n",
       "      <td>Rabies Risk</td>\n",
       "      <td>Other</td>\n",
       "      <td>Unknown</td>\n",
       "      <td>2 years</td>\n",
       "      <td>Rat</td>\n",
       "      <td>Brown</td>\n",
       "      <td>2 years</td>\n",
       "      <td>Unknown</td>\n",
       "    </tr>\n",
       "    <tr>\n",
       "      <th>349</th>\n",
       "      <td>A846525</td>\n",
       "      <td>NaN</td>\n",
       "      <td>2021-11-18 08:35:00</td>\n",
       "      <td>2021-11-18T08:35:00.000</td>\n",
       "      <td>2019-11-17T00:00:00.000</td>\n",
       "      <td>Euthanasia</td>\n",
       "      <td>Rabies Risk</td>\n",
       "      <td>Other</td>\n",
       "      <td>Unknown</td>\n",
       "      <td>2 years</td>\n",
       "      <td>Bat</td>\n",
       "      <td>Brown</td>\n",
       "      <td>2 years</td>\n",
       "      <td>Unknown</td>\n",
       "    </tr>\n",
       "    <tr>\n",
       "      <th>424</th>\n",
       "      <td>A846049</td>\n",
       "      <td>NaN</td>\n",
       "      <td>2021-11-16 10:41:00</td>\n",
       "      <td>2021-11-16T10:41:00.000</td>\n",
       "      <td>2020-11-09T00:00:00.000</td>\n",
       "      <td>Transfer</td>\n",
       "      <td>Partner</td>\n",
       "      <td>Other</td>\n",
       "      <td>Unknown</td>\n",
       "      <td>1 year</td>\n",
       "      <td>Rat</td>\n",
       "      <td>Gray</td>\n",
       "      <td>1 years</td>\n",
       "      <td>Unknown</td>\n",
       "    </tr>\n",
       "    <tr>\n",
       "      <th>425</th>\n",
       "      <td>A846050</td>\n",
       "      <td>NaN</td>\n",
       "      <td>2021-11-16 10:41:00</td>\n",
       "      <td>2021-11-16T10:41:00.000</td>\n",
       "      <td>2020-11-09T00:00:00.000</td>\n",
       "      <td>Transfer</td>\n",
       "      <td>Partner</td>\n",
       "      <td>Other</td>\n",
       "      <td>Unknown</td>\n",
       "      <td>1 year</td>\n",
       "      <td>Rat</td>\n",
       "      <td>Gray</td>\n",
       "      <td>1 years</td>\n",
       "      <td>Unknown</td>\n",
       "    </tr>\n",
       "    <tr>\n",
       "      <th>426</th>\n",
       "      <td>A846048</td>\n",
       "      <td>NaN</td>\n",
       "      <td>2021-11-16 10:40:00</td>\n",
       "      <td>2021-11-16T10:40:00.000</td>\n",
       "      <td>2020-11-09T00:00:00.000</td>\n",
       "      <td>Transfer</td>\n",
       "      <td>Partner</td>\n",
       "      <td>Other</td>\n",
       "      <td>Intact Female</td>\n",
       "      <td>1 year</td>\n",
       "      <td>Rat</td>\n",
       "      <td>Cream/White</td>\n",
       "      <td>1 years</td>\n",
       "      <td>Female</td>\n",
       "    </tr>\n",
       "    <tr>\n",
       "      <th>484</th>\n",
       "      <td>A846304</td>\n",
       "      <td>NaN</td>\n",
       "      <td>2021-11-15 09:55:00</td>\n",
       "      <td>2021-11-15T09:55:00.000</td>\n",
       "      <td>2019-11-13T00:00:00.000</td>\n",
       "      <td>Euthanasia</td>\n",
       "      <td>Rabies Risk</td>\n",
       "      <td>Other</td>\n",
       "      <td>Unknown</td>\n",
       "      <td>2 years</td>\n",
       "      <td>Raccoon</td>\n",
       "      <td>Brown/Gray</td>\n",
       "      <td>2 years</td>\n",
       "      <td>Unknown</td>\n",
       "    </tr>\n",
       "    <tr>\n",
       "      <th>485</th>\n",
       "      <td>A846262</td>\n",
       "      <td>NaN</td>\n",
       "      <td>2021-11-15 09:54:00</td>\n",
       "      <td>2021-11-15T09:54:00.000</td>\n",
       "      <td>2019-11-12T00:00:00.000</td>\n",
       "      <td>Euthanasia</td>\n",
       "      <td>Rabies Risk</td>\n",
       "      <td>Other</td>\n",
       "      <td>Unknown</td>\n",
       "      <td>2 years</td>\n",
       "      <td>Raccoon</td>\n",
       "      <td>Black/White</td>\n",
       "      <td>2 years</td>\n",
       "      <td>Unknown</td>\n",
       "    </tr>\n",
       "    <tr>\n",
       "      <th>486</th>\n",
       "      <td>A846237</td>\n",
       "      <td>NaN</td>\n",
       "      <td>2021-11-15 09:50:00</td>\n",
       "      <td>2021-11-15T09:50:00.000</td>\n",
       "      <td>2021-05-12T00:00:00.000</td>\n",
       "      <td>Euthanasia</td>\n",
       "      <td>Rabies Risk</td>\n",
       "      <td>Other</td>\n",
       "      <td>Unknown</td>\n",
       "      <td>6 months</td>\n",
       "      <td>Raccoon</td>\n",
       "      <td>Black/Gray</td>\n",
       "      <td>6 months</td>\n",
       "      <td>Unknown</td>\n",
       "    </tr>\n",
       "    <tr>\n",
       "      <th>500</th>\n",
       "      <td>A846185</td>\n",
       "      <td>A846185</td>\n",
       "      <td>2021-11-14 16:33:00</td>\n",
       "      <td>2021-11-14T16:33:00.000</td>\n",
       "      <td>2021-03-10T00:00:00.000</td>\n",
       "      <td>Adoption</td>\n",
       "      <td>NaN</td>\n",
       "      <td>Other</td>\n",
       "      <td>Intact Male</td>\n",
       "      <td>8 months</td>\n",
       "      <td>Guinea Pig</td>\n",
       "      <td>Black/White</td>\n",
       "      <td>8 months</td>\n",
       "      <td>Male</td>\n",
       "    </tr>\n",
       "    <tr>\n",
       "      <th>546</th>\n",
       "      <td>A846197</td>\n",
       "      <td>NaN</td>\n",
       "      <td>2021-11-13 17:53:00</td>\n",
       "      <td>2021-11-13T17:53:00.000</td>\n",
       "      <td>2020-11-11T00:00:00.000</td>\n",
       "      <td>Transfer</td>\n",
       "      <td>Partner</td>\n",
       "      <td>Other</td>\n",
       "      <td>Unknown</td>\n",
       "      <td>1 year</td>\n",
       "      <td>Rat</td>\n",
       "      <td>White/Gray</td>\n",
       "      <td>1 years</td>\n",
       "      <td>Unknown</td>\n",
       "    </tr>\n",
       "    <tr>\n",
       "      <th>547</th>\n",
       "      <td>A846198</td>\n",
       "      <td>NaN</td>\n",
       "      <td>2021-11-13 17:53:00</td>\n",
       "      <td>2021-11-13T17:53:00.000</td>\n",
       "      <td>2020-11-11T00:00:00.000</td>\n",
       "      <td>Transfer</td>\n",
       "      <td>Partner</td>\n",
       "      <td>Other</td>\n",
       "      <td>Unknown</td>\n",
       "      <td>1 year</td>\n",
       "      <td>Rat</td>\n",
       "      <td>White/Gray</td>\n",
       "      <td>1 years</td>\n",
       "      <td>Unknown</td>\n",
       "    </tr>\n",
       "    <tr>\n",
       "      <th>548</th>\n",
       "      <td>A846196</td>\n",
       "      <td>NaN</td>\n",
       "      <td>2021-11-13 17:52:00</td>\n",
       "      <td>2021-11-13T17:52:00.000</td>\n",
       "      <td>2020-11-11T00:00:00.000</td>\n",
       "      <td>Transfer</td>\n",
       "      <td>Partner</td>\n",
       "      <td>Other</td>\n",
       "      <td>Unknown</td>\n",
       "      <td>1 year</td>\n",
       "      <td>Rat</td>\n",
       "      <td>Gray/Black</td>\n",
       "      <td>1 years</td>\n",
       "      <td>Unknown</td>\n",
       "    </tr>\n",
       "    <tr>\n",
       "      <th>549</th>\n",
       "      <td>A846045</td>\n",
       "      <td>NaN</td>\n",
       "      <td>2021-11-13 17:51:00</td>\n",
       "      <td>2021-11-13T17:51:00.000</td>\n",
       "      <td>2020-11-09T00:00:00.000</td>\n",
       "      <td>Transfer</td>\n",
       "      <td>Partner</td>\n",
       "      <td>Other</td>\n",
       "      <td>Intact Female</td>\n",
       "      <td>1 year</td>\n",
       "      <td>Rat</td>\n",
       "      <td>Tan/White</td>\n",
       "      <td>1 years</td>\n",
       "      <td>Female</td>\n",
       "    </tr>\n",
       "    <tr>\n",
       "      <th>610</th>\n",
       "      <td>A845984</td>\n",
       "      <td>NaN</td>\n",
       "      <td>2021-11-12 15:21:00</td>\n",
       "      <td>2021-11-12T15:21:00.000</td>\n",
       "      <td>2021-02-08T00:00:00.000</td>\n",
       "      <td>Euthanasia</td>\n",
       "      <td>Suffering</td>\n",
       "      <td>Other</td>\n",
       "      <td>Intact Female</td>\n",
       "      <td>9 months</td>\n",
       "      <td>Guinea Pig</td>\n",
       "      <td>Tan/White</td>\n",
       "      <td>9 months</td>\n",
       "      <td>Female</td>\n",
       "    </tr>\n",
       "    <tr>\n",
       "      <th>628</th>\n",
       "      <td>A846215</td>\n",
       "      <td>NaN</td>\n",
       "      <td>2021-11-12 08:03:00</td>\n",
       "      <td>2021-11-12T08:03:00.000</td>\n",
       "      <td>2019-11-11T00:00:00.000</td>\n",
       "      <td>Euthanasia</td>\n",
       "      <td>At Vet</td>\n",
       "      <td>Other</td>\n",
       "      <td>Unknown</td>\n",
       "      <td>2 years</td>\n",
       "      <td>Raccoon</td>\n",
       "      <td>Black/Gray</td>\n",
       "      <td>2 years</td>\n",
       "      <td>Unknown</td>\n",
       "    </tr>\n",
       "    <tr>\n",
       "      <th>676</th>\n",
       "      <td>A845923</td>\n",
       "      <td>NaN</td>\n",
       "      <td>2021-11-10 09:13:00</td>\n",
       "      <td>2021-11-10T09:13:00.000</td>\n",
       "      <td>2019-11-06T00:00:00.000</td>\n",
       "      <td>Euthanasia</td>\n",
       "      <td>Rabies Risk</td>\n",
       "      <td>Other</td>\n",
       "      <td>Unknown</td>\n",
       "      <td>2 years</td>\n",
       "      <td>Bat</td>\n",
       "      <td>Brown/Brown</td>\n",
       "      <td>2 years</td>\n",
       "      <td>Unknown</td>\n",
       "    </tr>\n",
       "    <tr>\n",
       "      <th>679</th>\n",
       "      <td>A842709</td>\n",
       "      <td>Barbara</td>\n",
       "      <td>2021-11-09 18:26:00</td>\n",
       "      <td>2021-11-09T18:26:00.000</td>\n",
       "      <td>2019-03-20T00:00:00.000</td>\n",
       "      <td>Adoption</td>\n",
       "      <td>NaN</td>\n",
       "      <td>Other</td>\n",
       "      <td>Intact Female</td>\n",
       "      <td>2 years</td>\n",
       "      <td>Guinea Pig</td>\n",
       "      <td>Red/Tan</td>\n",
       "      <td>2 years</td>\n",
       "      <td>Female</td>\n",
       "    </tr>\n",
       "    <tr>\n",
       "      <th>680</th>\n",
       "      <td>A842710</td>\n",
       "      <td>Marie</td>\n",
       "      <td>2021-11-09 18:25:00</td>\n",
       "      <td>2021-11-09T18:25:00.000</td>\n",
       "      <td>2019-03-20T00:00:00.000</td>\n",
       "      <td>Adoption</td>\n",
       "      <td>NaN</td>\n",
       "      <td>Other</td>\n",
       "      <td>Intact Female</td>\n",
       "      <td>2 years</td>\n",
       "      <td>Guinea Pig</td>\n",
       "      <td>Gray/Tricolor</td>\n",
       "      <td>2 years</td>\n",
       "      <td>Female</td>\n",
       "    </tr>\n",
       "    <tr>\n",
       "      <th>737</th>\n",
       "      <td>A846026</td>\n",
       "      <td>NaN</td>\n",
       "      <td>2021-11-08 16:41:00</td>\n",
       "      <td>2021-11-08T16:41:00.000</td>\n",
       "      <td>2020-11-08T00:00:00.000</td>\n",
       "      <td>Euthanasia</td>\n",
       "      <td>Suffering</td>\n",
       "      <td>Other</td>\n",
       "      <td>Unknown</td>\n",
       "      <td>1 year</td>\n",
       "      <td>Squirrel</td>\n",
       "      <td>Brown</td>\n",
       "      <td>1 years</td>\n",
       "      <td>Unknown</td>\n",
       "    </tr>\n",
       "    <tr>\n",
       "      <th>754</th>\n",
       "      <td>A845964</td>\n",
       "      <td>NaN</td>\n",
       "      <td>2021-11-08 10:43:00</td>\n",
       "      <td>2021-11-08T10:43:00.000</td>\n",
       "      <td>2019-11-07T00:00:00.000</td>\n",
       "      <td>Euthanasia</td>\n",
       "      <td>Rabies Risk</td>\n",
       "      <td>Other</td>\n",
       "      <td>Unknown</td>\n",
       "      <td>2 years</td>\n",
       "      <td>Raccoon</td>\n",
       "      <td>Black/White</td>\n",
       "      <td>2 years</td>\n",
       "      <td>Unknown</td>\n",
       "    </tr>\n",
       "    <tr>\n",
       "      <th>761</th>\n",
       "      <td>A845447</td>\n",
       "      <td>*Carrot Cake</td>\n",
       "      <td>2021-11-07 19:07:00</td>\n",
       "      <td>2021-11-07T19:07:00.000</td>\n",
       "      <td>2020-10-30T00:00:00.000</td>\n",
       "      <td>Adoption</td>\n",
       "      <td>NaN</td>\n",
       "      <td>Other</td>\n",
       "      <td>Intact Female</td>\n",
       "      <td>1 year</td>\n",
       "      <td>Rabbit Sh</td>\n",
       "      <td>Black</td>\n",
       "      <td>1 years</td>\n",
       "      <td>Female</td>\n",
       "    </tr>\n",
       "    <tr>\n",
       "      <th>784</th>\n",
       "      <td>A844630</td>\n",
       "      <td>Gundham</td>\n",
       "      <td>2021-11-07 12:57:00</td>\n",
       "      <td>2021-11-07T12:57:00.000</td>\n",
       "      <td>2020-11-18T00:00:00.000</td>\n",
       "      <td>Adoption</td>\n",
       "      <td>NaN</td>\n",
       "      <td>Other</td>\n",
       "      <td>Intact Male</td>\n",
       "      <td>11 months</td>\n",
       "      <td>Guinea Pig</td>\n",
       "      <td>Tricolor</td>\n",
       "      <td>11 months</td>\n",
       "      <td>Male</td>\n",
       "    </tr>\n",
       "    <tr>\n",
       "      <th>785</th>\n",
       "      <td>A844629</td>\n",
       "      <td>Gonta</td>\n",
       "      <td>2021-11-07 12:57:00</td>\n",
       "      <td>2021-11-07T12:57:00.000</td>\n",
       "      <td>2020-11-18T00:00:00.000</td>\n",
       "      <td>Adoption</td>\n",
       "      <td>NaN</td>\n",
       "      <td>Other</td>\n",
       "      <td>Intact Male</td>\n",
       "      <td>11 months</td>\n",
       "      <td>Guinea Pig</td>\n",
       "      <td>White/Tan</td>\n",
       "      <td>11 months</td>\n",
       "      <td>Male</td>\n",
       "    </tr>\n",
       "    <tr>\n",
       "      <th>792</th>\n",
       "      <td>A844088</td>\n",
       "      <td>*Moira</td>\n",
       "      <td>2021-11-07 11:49:00</td>\n",
       "      <td>2021-11-07T11:49:00.000</td>\n",
       "      <td>2021-01-19T00:00:00.000</td>\n",
       "      <td>Adoption</td>\n",
       "      <td>NaN</td>\n",
       "      <td>Other</td>\n",
       "      <td>Intact Female</td>\n",
       "      <td>9 months</td>\n",
       "      <td>Rex</td>\n",
       "      <td>Black</td>\n",
       "      <td>9 months</td>\n",
       "      <td>Female</td>\n",
       "    </tr>\n",
       "    <tr>\n",
       "      <th>829</th>\n",
       "      <td>A843112</td>\n",
       "      <td>Nova</td>\n",
       "      <td>2021-11-06 11:43:00</td>\n",
       "      <td>2021-11-06T11:43:00.000</td>\n",
       "      <td>2020-11-27T00:00:00.000</td>\n",
       "      <td>Adoption</td>\n",
       "      <td>NaN</td>\n",
       "      <td>Other</td>\n",
       "      <td>Intact Female</td>\n",
       "      <td>11 months</td>\n",
       "      <td>Guinea Pig</td>\n",
       "      <td>White</td>\n",
       "      <td>11 months</td>\n",
       "      <td>Female</td>\n",
       "    </tr>\n",
       "    <tr>\n",
       "      <th>882</th>\n",
       "      <td>A845527</td>\n",
       "      <td>NaN</td>\n",
       "      <td>2021-11-05 10:37:00</td>\n",
       "      <td>2021-11-05T10:37:00.000</td>\n",
       "      <td>2019-11-01T00:00:00.000</td>\n",
       "      <td>Disposal</td>\n",
       "      <td>NaN</td>\n",
       "      <td>Other</td>\n",
       "      <td>Unknown</td>\n",
       "      <td>2 years</td>\n",
       "      <td>Raccoon</td>\n",
       "      <td>Gray/Black</td>\n",
       "      <td>2 years</td>\n",
       "      <td>Unknown</td>\n",
       "    </tr>\n",
       "    <tr>\n",
       "      <th>885</th>\n",
       "      <td>A845565</td>\n",
       "      <td>NaN</td>\n",
       "      <td>2021-11-05 09:36:00</td>\n",
       "      <td>2021-11-05T09:36:00.000</td>\n",
       "      <td>2020-11-01T00:00:00.000</td>\n",
       "      <td>Euthanasia</td>\n",
       "      <td>Rabies Risk</td>\n",
       "      <td>Other</td>\n",
       "      <td>Unknown</td>\n",
       "      <td>1 year</td>\n",
       "      <td>Bat</td>\n",
       "      <td>Brown</td>\n",
       "      <td>1 years</td>\n",
       "      <td>Unknown</td>\n",
       "    </tr>\n",
       "    <tr>\n",
       "      <th>940</th>\n",
       "      <td>A845353</td>\n",
       "      <td>*Wheat Thin</td>\n",
       "      <td>2021-11-03 12:31:00</td>\n",
       "      <td>2021-11-03T12:31:00.000</td>\n",
       "      <td>2018-09-28T00:00:00.000</td>\n",
       "      <td>Adoption</td>\n",
       "      <td>NaN</td>\n",
       "      <td>Other</td>\n",
       "      <td>Intact Male</td>\n",
       "      <td>3 years</td>\n",
       "      <td>Guinea Pig</td>\n",
       "      <td>Tricolor</td>\n",
       "      <td>3 years</td>\n",
       "      <td>Male</td>\n",
       "    </tr>\n",
       "    <tr>\n",
       "      <th>941</th>\n",
       "      <td>A845352</td>\n",
       "      <td>*Sharp Cheddar</td>\n",
       "      <td>2021-11-03 12:29:00</td>\n",
       "      <td>2021-11-03T12:29:00.000</td>\n",
       "      <td>2018-09-28T00:00:00.000</td>\n",
       "      <td>Adoption</td>\n",
       "      <td>NaN</td>\n",
       "      <td>Other</td>\n",
       "      <td>Intact Male</td>\n",
       "      <td>3 years</td>\n",
       "      <td>Guinea Pig</td>\n",
       "      <td>Tricolor</td>\n",
       "      <td>3 years</td>\n",
       "      <td>Male</td>\n",
       "    </tr>\n",
       "    <tr>\n",
       "      <th>986</th>\n",
       "      <td>A845425</td>\n",
       "      <td>NaN</td>\n",
       "      <td>2021-11-02 08:55:00</td>\n",
       "      <td>2021-11-02T08:55:00.000</td>\n",
       "      <td>2021-04-29T00:00:00.000</td>\n",
       "      <td>Euthanasia</td>\n",
       "      <td>Suffering</td>\n",
       "      <td>Other</td>\n",
       "      <td>Unknown</td>\n",
       "      <td>6 months</td>\n",
       "      <td>Raccoon</td>\n",
       "      <td>Brown/Black</td>\n",
       "      <td>6 months</td>\n",
       "      <td>Unknown</td>\n",
       "    </tr>\n",
       "  </tbody>\n",
       "</table>\n",
       "</div>"
      ],
      "text/plain": [
       "    animal_id            name            datetime                monthyear  \\\n",
       "72    A844961   *Cream Cheese 2021-11-28 13:07:00  2021-11-28T13:07:00.000   \n",
       "131   A844918         A844918 2021-11-27 07:54:00  2021-11-27T07:54:00.000   \n",
       "132   A844917         A844917 2021-11-27 07:53:00  2021-11-27T07:53:00.000   \n",
       "133   A844915             NaN 2021-11-27 07:53:00  2021-11-27T07:53:00.000   \n",
       "134   A844913             NaN 2021-11-27 07:52:00  2021-11-27T07:52:00.000   \n",
       "206   A846694             NaN 2021-11-23 09:15:00  2021-11-23T09:15:00.000   \n",
       "207   A846918             NaN 2021-11-23 08:46:00  2021-11-23T08:46:00.000   \n",
       "230   A846605             NaN 2021-11-22 11:51:00  2021-11-22T11:51:00.000   \n",
       "245   A846527             NaN 2021-11-21 12:33:00  2021-11-21T12:33:00.000   \n",
       "250   A846679             NaN 2021-11-21 09:14:00  2021-11-21T09:14:00.000   \n",
       "271   A844839          *Bijou 2021-11-20 14:52:00  2021-11-20T14:52:00.000   \n",
       "272   A844838          *Charm 2021-11-20 14:51:00  2021-11-20T14:51:00.000   \n",
       "277   A846738             NaN 2021-11-20 12:42:00  2021-11-20T12:42:00.000   \n",
       "349   A846525             NaN 2021-11-18 08:35:00  2021-11-18T08:35:00.000   \n",
       "424   A846049             NaN 2021-11-16 10:41:00  2021-11-16T10:41:00.000   \n",
       "425   A846050             NaN 2021-11-16 10:41:00  2021-11-16T10:41:00.000   \n",
       "426   A846048             NaN 2021-11-16 10:40:00  2021-11-16T10:40:00.000   \n",
       "484   A846304             NaN 2021-11-15 09:55:00  2021-11-15T09:55:00.000   \n",
       "485   A846262             NaN 2021-11-15 09:54:00  2021-11-15T09:54:00.000   \n",
       "486   A846237             NaN 2021-11-15 09:50:00  2021-11-15T09:50:00.000   \n",
       "500   A846185         A846185 2021-11-14 16:33:00  2021-11-14T16:33:00.000   \n",
       "546   A846197             NaN 2021-11-13 17:53:00  2021-11-13T17:53:00.000   \n",
       "547   A846198             NaN 2021-11-13 17:53:00  2021-11-13T17:53:00.000   \n",
       "548   A846196             NaN 2021-11-13 17:52:00  2021-11-13T17:52:00.000   \n",
       "549   A846045             NaN 2021-11-13 17:51:00  2021-11-13T17:51:00.000   \n",
       "610   A845984             NaN 2021-11-12 15:21:00  2021-11-12T15:21:00.000   \n",
       "628   A846215             NaN 2021-11-12 08:03:00  2021-11-12T08:03:00.000   \n",
       "676   A845923             NaN 2021-11-10 09:13:00  2021-11-10T09:13:00.000   \n",
       "679   A842709         Barbara 2021-11-09 18:26:00  2021-11-09T18:26:00.000   \n",
       "680   A842710           Marie 2021-11-09 18:25:00  2021-11-09T18:25:00.000   \n",
       "737   A846026             NaN 2021-11-08 16:41:00  2021-11-08T16:41:00.000   \n",
       "754   A845964             NaN 2021-11-08 10:43:00  2021-11-08T10:43:00.000   \n",
       "761   A845447    *Carrot Cake 2021-11-07 19:07:00  2021-11-07T19:07:00.000   \n",
       "784   A844630         Gundham 2021-11-07 12:57:00  2021-11-07T12:57:00.000   \n",
       "785   A844629           Gonta 2021-11-07 12:57:00  2021-11-07T12:57:00.000   \n",
       "792   A844088          *Moira 2021-11-07 11:49:00  2021-11-07T11:49:00.000   \n",
       "829   A843112            Nova 2021-11-06 11:43:00  2021-11-06T11:43:00.000   \n",
       "882   A845527             NaN 2021-11-05 10:37:00  2021-11-05T10:37:00.000   \n",
       "885   A845565             NaN 2021-11-05 09:36:00  2021-11-05T09:36:00.000   \n",
       "940   A845353     *Wheat Thin 2021-11-03 12:31:00  2021-11-03T12:31:00.000   \n",
       "941   A845352  *Sharp Cheddar 2021-11-03 12:29:00  2021-11-03T12:29:00.000   \n",
       "986   A845425             NaN 2021-11-02 08:55:00  2021-11-02T08:55:00.000   \n",
       "\n",
       "               date_of_birth outcome_type outcome_subtype animal_type  \\\n",
       "72   2020-10-23T00:00:00.000     Adoption             NaN       Other   \n",
       "131  2021-10-22T00:00:00.000     Adoption          Foster       Other   \n",
       "132  2021-10-22T00:00:00.000     Adoption          Foster       Other   \n",
       "133  2019-10-22T00:00:00.000     Adoption          Foster       Other   \n",
       "134  2019-10-22T00:00:00.000     Adoption          Foster       Other   \n",
       "206  2019-11-19T00:00:00.000   Euthanasia     Rabies Risk       Other   \n",
       "207  2020-11-22T00:00:00.000   Euthanasia     Rabies Risk       Other   \n",
       "230  2019-11-18T00:00:00.000   Euthanasia     Rabies Risk       Other   \n",
       "245  2019-11-17T00:00:00.000   Euthanasia     Rabies Risk       Other   \n",
       "250  2020-11-19T00:00:00.000   Euthanasia     Rabies Risk       Other   \n",
       "271  2020-10-21T00:00:00.000     Adoption          Foster       Other   \n",
       "272  2020-10-21T00:00:00.000     Adoption          Foster       Other   \n",
       "277  2019-11-20T00:00:00.000   Euthanasia     Rabies Risk       Other   \n",
       "349  2019-11-17T00:00:00.000   Euthanasia     Rabies Risk       Other   \n",
       "424  2020-11-09T00:00:00.000     Transfer         Partner       Other   \n",
       "425  2020-11-09T00:00:00.000     Transfer         Partner       Other   \n",
       "426  2020-11-09T00:00:00.000     Transfer         Partner       Other   \n",
       "484  2019-11-13T00:00:00.000   Euthanasia     Rabies Risk       Other   \n",
       "485  2019-11-12T00:00:00.000   Euthanasia     Rabies Risk       Other   \n",
       "486  2021-05-12T00:00:00.000   Euthanasia     Rabies Risk       Other   \n",
       "500  2021-03-10T00:00:00.000     Adoption             NaN       Other   \n",
       "546  2020-11-11T00:00:00.000     Transfer         Partner       Other   \n",
       "547  2020-11-11T00:00:00.000     Transfer         Partner       Other   \n",
       "548  2020-11-11T00:00:00.000     Transfer         Partner       Other   \n",
       "549  2020-11-09T00:00:00.000     Transfer         Partner       Other   \n",
       "610  2021-02-08T00:00:00.000   Euthanasia       Suffering       Other   \n",
       "628  2019-11-11T00:00:00.000   Euthanasia          At Vet       Other   \n",
       "676  2019-11-06T00:00:00.000   Euthanasia     Rabies Risk       Other   \n",
       "679  2019-03-20T00:00:00.000     Adoption             NaN       Other   \n",
       "680  2019-03-20T00:00:00.000     Adoption             NaN       Other   \n",
       "737  2020-11-08T00:00:00.000   Euthanasia       Suffering       Other   \n",
       "754  2019-11-07T00:00:00.000   Euthanasia     Rabies Risk       Other   \n",
       "761  2020-10-30T00:00:00.000     Adoption             NaN       Other   \n",
       "784  2020-11-18T00:00:00.000     Adoption             NaN       Other   \n",
       "785  2020-11-18T00:00:00.000     Adoption             NaN       Other   \n",
       "792  2021-01-19T00:00:00.000     Adoption             NaN       Other   \n",
       "829  2020-11-27T00:00:00.000     Adoption             NaN       Other   \n",
       "882  2019-11-01T00:00:00.000     Disposal             NaN       Other   \n",
       "885  2020-11-01T00:00:00.000   Euthanasia     Rabies Risk       Other   \n",
       "940  2018-09-28T00:00:00.000     Adoption             NaN       Other   \n",
       "941  2018-09-28T00:00:00.000     Adoption             NaN       Other   \n",
       "986  2021-04-29T00:00:00.000   Euthanasia       Suffering       Other   \n",
       "\n",
       "    sex_upon_outcome age_upon_outcome       breed          color   new_age1  \\\n",
       "72       Intact Male           1 year   Rabbit Sh    White/Brown    1 years   \n",
       "131      Intact Male          1 month  Guinea Pig    Brown/White    1 month   \n",
       "132    Intact Female          1 month  Guinea Pig       Tricolor    1 month   \n",
       "133    Intact Female          2 years  Guinea Pig       Tricolor    2 years   \n",
       "134      Intact Male          2 years  Guinea Pig    Brown/White    2 years   \n",
       "206          Unknown          2 years         Bat          Brown    2 years   \n",
       "207          Unknown           1 year         Bat          Black    1 years   \n",
       "230          Unknown          2 years         Fox       Red/Gray    2 years   \n",
       "245          Unknown          2 years     Raccoon     Black/Gray    2 years   \n",
       "250          Unknown           1 year     Raccoon     Brown/Gray    1 years   \n",
       "271    Intact Female           1 year   Rabbit Sh     White/Blue    1 years   \n",
       "272    Intact Female           1 year   Rabbit Sh     White/Blue    1 years   \n",
       "277          Unknown          2 years         Rat          Brown    2 years   \n",
       "349          Unknown          2 years         Bat          Brown    2 years   \n",
       "424          Unknown           1 year         Rat           Gray    1 years   \n",
       "425          Unknown           1 year         Rat           Gray    1 years   \n",
       "426    Intact Female           1 year         Rat    Cream/White    1 years   \n",
       "484          Unknown          2 years     Raccoon     Brown/Gray    2 years   \n",
       "485          Unknown          2 years     Raccoon    Black/White    2 years   \n",
       "486          Unknown         6 months     Raccoon     Black/Gray   6 months   \n",
       "500      Intact Male         8 months  Guinea Pig    Black/White   8 months   \n",
       "546          Unknown           1 year         Rat     White/Gray    1 years   \n",
       "547          Unknown           1 year         Rat     White/Gray    1 years   \n",
       "548          Unknown           1 year         Rat     Gray/Black    1 years   \n",
       "549    Intact Female           1 year         Rat      Tan/White    1 years   \n",
       "610    Intact Female         9 months  Guinea Pig      Tan/White   9 months   \n",
       "628          Unknown          2 years     Raccoon     Black/Gray    2 years   \n",
       "676          Unknown          2 years         Bat    Brown/Brown    2 years   \n",
       "679    Intact Female          2 years  Guinea Pig        Red/Tan    2 years   \n",
       "680    Intact Female          2 years  Guinea Pig  Gray/Tricolor    2 years   \n",
       "737          Unknown           1 year    Squirrel          Brown    1 years   \n",
       "754          Unknown          2 years     Raccoon    Black/White    2 years   \n",
       "761    Intact Female           1 year   Rabbit Sh          Black    1 years   \n",
       "784      Intact Male        11 months  Guinea Pig       Tricolor  11 months   \n",
       "785      Intact Male        11 months  Guinea Pig      White/Tan  11 months   \n",
       "792    Intact Female         9 months         Rex          Black   9 months   \n",
       "829    Intact Female        11 months  Guinea Pig          White  11 months   \n",
       "882          Unknown          2 years     Raccoon     Gray/Black    2 years   \n",
       "885          Unknown           1 year         Bat          Brown    1 years   \n",
       "940      Intact Male          3 years  Guinea Pig       Tricolor    3 years   \n",
       "941      Intact Male          3 years  Guinea Pig       Tricolor    3 years   \n",
       "986          Unknown         6 months     Raccoon    Brown/Black   6 months   \n",
       "\n",
       "    new_sex1  \n",
       "72      Male  \n",
       "131     Male  \n",
       "132   Female  \n",
       "133   Female  \n",
       "134     Male  \n",
       "206  Unknown  \n",
       "207  Unknown  \n",
       "230  Unknown  \n",
       "245  Unknown  \n",
       "250  Unknown  \n",
       "271   Female  \n",
       "272   Female  \n",
       "277  Unknown  \n",
       "349  Unknown  \n",
       "424  Unknown  \n",
       "425  Unknown  \n",
       "426   Female  \n",
       "484  Unknown  \n",
       "485  Unknown  \n",
       "486  Unknown  \n",
       "500     Male  \n",
       "546  Unknown  \n",
       "547  Unknown  \n",
       "548  Unknown  \n",
       "549   Female  \n",
       "610   Female  \n",
       "628  Unknown  \n",
       "676  Unknown  \n",
       "679   Female  \n",
       "680   Female  \n",
       "737  Unknown  \n",
       "754  Unknown  \n",
       "761   Female  \n",
       "784     Male  \n",
       "785     Male  \n",
       "792   Female  \n",
       "829   Female  \n",
       "882  Unknown  \n",
       "885  Unknown  \n",
       "940     Male  \n",
       "941     Male  \n",
       "986  Unknown  "
      ]
     },
     "execution_count": 18,
     "metadata": {},
     "output_type": "execute_result"
    }
   ],
   "source": [
    "animals[animals['animal_type'] == 'Other']"
   ]
  },
  {
   "cell_type": "code",
   "execution_count": 19,
   "metadata": {
    "hidden": true
   },
   "outputs": [
    {
     "data": {
      "text/plain": [
       "Dog      516\n",
       "Cat      437\n",
       "Other     42\n",
       "Bird       5\n",
       "Name: animal_type, dtype: int64"
      ]
     },
     "execution_count": 19,
     "metadata": {},
     "output_type": "execute_result"
    }
   ],
   "source": [
    "animals['animal_type'].value_counts()"
   ]
  },
  {
   "cell_type": "code",
   "execution_count": 20,
   "metadata": {},
   "outputs": [
    {
     "data": {
      "text/plain": [
       "float"
      ]
     },
     "execution_count": 20,
     "metadata": {},
     "output_type": "execute_result"
    }
   ],
   "source": [
    "type(np.nan)"
   ]
  },
  {
   "cell_type": "code",
   "execution_count": 21,
   "metadata": {
    "hidden": true,
    "scrolled": false
   },
   "outputs": [
    {
     "data": {
      "text/plain": [
       "Dog     516\n",
       "Cat     437\n",
       "Bird      5\n",
       "Name: animal_type, dtype: int64"
      ]
     },
     "execution_count": 21,
     "metadata": {},
     "output_type": "execute_result"
    }
   ],
   "source": [
    "animals['animal_type'].map(lambda x: np.nan if x == 'Other' else x).value_counts()"
   ]
  },
  {
   "cell_type": "code",
   "execution_count": 22,
   "metadata": {},
   "outputs": [
    {
     "data": {
      "text/plain": [
       "Dog      516\n",
       "Cat      437\n",
       "Other     42\n",
       "Bird       5\n",
       "Name: animal_type, dtype: int64"
      ]
     },
     "execution_count": 22,
     "metadata": {},
     "output_type": "execute_result"
    }
   ],
   "source": [
    "animals['animal_type'].value_counts()"
   ]
  },
  {
   "cell_type": "code",
   "execution_count": 23,
   "metadata": {},
   "outputs": [],
   "source": [
    "#animals['animal_type'] = animals['animal_type'].map(lambda x: np.nan if x == 'Other' else x)"
   ]
  },
  {
   "cell_type": "markdown",
   "metadata": {
    "heading_collapsed": true
   },
   "source": [
    "# Handling Missing Data"
   ]
  },
  {
   "cell_type": "markdown",
   "metadata": {
    "hidden": true
   },
   "source": [
    "A lot of the times we'll have missing information in our data set. This can sometimes be troublesome in what we're trying to do."
   ]
  },
  {
   "cell_type": "markdown",
   "metadata": {
    "hidden": true
   },
   "source": [
    "So far, we've been doing some preprocessing/cleaning to answer questions. Now we're going to handle the missing values in our data.\n",
    "\n",
    "There are a few strategies we can choose from and they each have their special use case."
   ]
  },
  {
   "cell_type": "markdown",
   "metadata": {
    "hidden": true
   },
   "source": [
    "> Before making changes, it's convenient to make changes to a copy instead of overwriting data. We'll keep all our changes in `animals_clean` which will be a [copy](https://pandas.pydata.org/docs/reference/api/pandas.DataFrame.copy.html) of the original DataFrame."
   ]
  },
  {
   "cell_type": "code",
   "execution_count": 24,
   "metadata": {
    "hidden": true
   },
   "outputs": [],
   "source": [
    "animals_clean = animals.copy()"
   ]
  },
  {
   "cell_type": "markdown",
   "metadata": {
    "heading_collapsed": true,
    "hidden": true
   },
   "source": [
    "## Fill with a Relevant Value"
   ]
  },
  {
   "cell_type": "markdown",
   "metadata": {
    "hidden": true
   },
   "source": [
    "A lot of times we already have an idea of how we want to specify that a value was missing and replace it with a value that makes more sense than an \"empty\" value."
   ]
  },
  {
   "cell_type": "markdown",
   "metadata": {
    "hidden": true
   },
   "source": [
    "For example, it might make sense to fill the value as \"MISSING\" or \"UNKNOWN\". This way it's clearer when do more analysis."
   ]
  },
  {
   "cell_type": "markdown",
   "metadata": {
    "hidden": true
   },
   "source": [
    "> We can use Pandas' [`fillna()` method](https://pandas.pydata.org/pandas-docs/stable/reference/api/pandas.DataFrame.fillna.html) to replace missing values with something specific"
   ]
  },
  {
   "cell_type": "code",
   "execution_count": 25,
   "metadata": {
    "hidden": true
   },
   "outputs": [
    {
     "data": {
      "text/html": [
       "<div>\n",
       "<style scoped>\n",
       "    .dataframe tbody tr th:only-of-type {\n",
       "        vertical-align: middle;\n",
       "    }\n",
       "\n",
       "    .dataframe tbody tr th {\n",
       "        vertical-align: top;\n",
       "    }\n",
       "\n",
       "    .dataframe thead th {\n",
       "        text-align: right;\n",
       "    }\n",
       "</style>\n",
       "<table border=\"1\" class=\"dataframe\">\n",
       "  <thead>\n",
       "    <tr style=\"text-align: right;\">\n",
       "      <th></th>\n",
       "      <th>animal_id</th>\n",
       "      <th>name</th>\n",
       "      <th>datetime</th>\n",
       "      <th>monthyear</th>\n",
       "      <th>date_of_birth</th>\n",
       "      <th>outcome_type</th>\n",
       "      <th>outcome_subtype</th>\n",
       "      <th>animal_type</th>\n",
       "      <th>sex_upon_outcome</th>\n",
       "      <th>age_upon_outcome</th>\n",
       "      <th>breed</th>\n",
       "      <th>color</th>\n",
       "      <th>new_age1</th>\n",
       "      <th>new_sex1</th>\n",
       "    </tr>\n",
       "  </thead>\n",
       "  <tbody>\n",
       "    <tr>\n",
       "      <th>0</th>\n",
       "      <td>A845399</td>\n",
       "      <td>*Sweet Potato Pie</td>\n",
       "      <td>2021-11-30 13:56:00</td>\n",
       "      <td>2021-11-30T13:56:00.000</td>\n",
       "      <td>2021-09-29T00:00:00.000</td>\n",
       "      <td>Transfer</td>\n",
       "      <td>Partner</td>\n",
       "      <td>Cat</td>\n",
       "      <td>Intact Female</td>\n",
       "      <td>2 months</td>\n",
       "      <td>Domestic Shorthair</td>\n",
       "      <td>Brown Tabby</td>\n",
       "      <td>2 months</td>\n",
       "      <td>Female</td>\n",
       "    </tr>\n",
       "    <tr>\n",
       "      <th>1</th>\n",
       "      <td>A843896</td>\n",
       "      <td>*Kermit</td>\n",
       "      <td>2021-11-30 12:19:00</td>\n",
       "      <td>2021-11-30T12:19:00.000</td>\n",
       "      <td>2021-09-04T00:00:00.000</td>\n",
       "      <td>Adoption</td>\n",
       "      <td>Foster</td>\n",
       "      <td>Cat</td>\n",
       "      <td>Neutered Male</td>\n",
       "      <td>2 months</td>\n",
       "      <td>Domestic Medium Hair Mix</td>\n",
       "      <td>Cream Tabby</td>\n",
       "      <td>2 months</td>\n",
       "      <td>Male</td>\n",
       "    </tr>\n",
       "    <tr>\n",
       "      <th>2</th>\n",
       "      <td>A843900</td>\n",
       "      <td>*Fozzie Bear</td>\n",
       "      <td>2021-11-30 12:18:00</td>\n",
       "      <td>2021-11-30T12:18:00.000</td>\n",
       "      <td>2021-09-04T00:00:00.000</td>\n",
       "      <td>Adoption</td>\n",
       "      <td>Foster</td>\n",
       "      <td>Cat</td>\n",
       "      <td>Neutered Male</td>\n",
       "      <td>2 months</td>\n",
       "      <td>Domestic Medium Hair Mix</td>\n",
       "      <td>White/Cream Tabby</td>\n",
       "      <td>2 months</td>\n",
       "      <td>Male</td>\n",
       "    </tr>\n",
       "    <tr>\n",
       "      <th>3</th>\n",
       "      <td>A846443</td>\n",
       "      <td>Persia</td>\n",
       "      <td>2021-11-30 11:40:00</td>\n",
       "      <td>2021-11-30T11:40:00.000</td>\n",
       "      <td>2021-01-16T00:00:00.000</td>\n",
       "      <td>Return to Owner</td>\n",
       "      <td>NaN</td>\n",
       "      <td>Dog</td>\n",
       "      <td>Intact Female</td>\n",
       "      <td>10 months</td>\n",
       "      <td>Queensland Heeler Mix</td>\n",
       "      <td>Blue Merle</td>\n",
       "      <td>10 months</td>\n",
       "      <td>Female</td>\n",
       "    </tr>\n",
       "    <tr>\n",
       "      <th>4</th>\n",
       "      <td>A841608</td>\n",
       "      <td>*Chessie</td>\n",
       "      <td>2021-11-30 10:51:00</td>\n",
       "      <td>2021-11-30T10:51:00.000</td>\n",
       "      <td>2020-08-30T00:00:00.000</td>\n",
       "      <td>Adoption</td>\n",
       "      <td>Foster</td>\n",
       "      <td>Dog</td>\n",
       "      <td>Spayed Female</td>\n",
       "      <td>1 year</td>\n",
       "      <td>Harrier/Anatol Shepherd</td>\n",
       "      <td>Tan/White</td>\n",
       "      <td>1 years</td>\n",
       "      <td>Female</td>\n",
       "    </tr>\n",
       "  </tbody>\n",
       "</table>\n",
       "</div>"
      ],
      "text/plain": [
       "  animal_id               name            datetime                monthyear  \\\n",
       "0   A845399  *Sweet Potato Pie 2021-11-30 13:56:00  2021-11-30T13:56:00.000   \n",
       "1   A843896            *Kermit 2021-11-30 12:19:00  2021-11-30T12:19:00.000   \n",
       "2   A843900       *Fozzie Bear 2021-11-30 12:18:00  2021-11-30T12:18:00.000   \n",
       "3   A846443             Persia 2021-11-30 11:40:00  2021-11-30T11:40:00.000   \n",
       "4   A841608           *Chessie 2021-11-30 10:51:00  2021-11-30T10:51:00.000   \n",
       "\n",
       "             date_of_birth     outcome_type outcome_subtype animal_type  \\\n",
       "0  2021-09-29T00:00:00.000         Transfer         Partner         Cat   \n",
       "1  2021-09-04T00:00:00.000         Adoption          Foster         Cat   \n",
       "2  2021-09-04T00:00:00.000         Adoption          Foster         Cat   \n",
       "3  2021-01-16T00:00:00.000  Return to Owner             NaN         Dog   \n",
       "4  2020-08-30T00:00:00.000         Adoption          Foster         Dog   \n",
       "\n",
       "  sex_upon_outcome age_upon_outcome                     breed  \\\n",
       "0    Intact Female         2 months        Domestic Shorthair   \n",
       "1    Neutered Male         2 months  Domestic Medium Hair Mix   \n",
       "2    Neutered Male         2 months  Domestic Medium Hair Mix   \n",
       "3    Intact Female        10 months     Queensland Heeler Mix   \n",
       "4    Spayed Female           1 year   Harrier/Anatol Shepherd   \n",
       "\n",
       "               color   new_age1 new_sex1  \n",
       "0        Brown Tabby   2 months   Female  \n",
       "1        Cream Tabby   2 months     Male  \n",
       "2  White/Cream Tabby   2 months     Male  \n",
       "3         Blue Merle  10 months   Female  \n",
       "4          Tan/White    1 years   Female  "
      ]
     },
     "execution_count": 25,
     "metadata": {},
     "output_type": "execute_result"
    }
   ],
   "source": [
    "# Note this creates a copy of `animals` with the missing values replaced\n",
    "animals_name_filled = animals_clean.fillna({'name':'UNKNOWN'}) # {col_name:new_value}\n",
    "animals_name_filled.head()"
   ]
  },
  {
   "cell_type": "code",
   "execution_count": 26,
   "metadata": {
    "hidden": true
   },
   "outputs": [
    {
     "data": {
      "text/html": [
       "<div>\n",
       "<style scoped>\n",
       "    .dataframe tbody tr th:only-of-type {\n",
       "        vertical-align: middle;\n",
       "    }\n",
       "\n",
       "    .dataframe tbody tr th {\n",
       "        vertical-align: top;\n",
       "    }\n",
       "\n",
       "    .dataframe thead th {\n",
       "        text-align: right;\n",
       "    }\n",
       "</style>\n",
       "<table border=\"1\" class=\"dataframe\">\n",
       "  <thead>\n",
       "    <tr style=\"text-align: right;\">\n",
       "      <th></th>\n",
       "      <th>animal_id</th>\n",
       "      <th>name</th>\n",
       "      <th>datetime</th>\n",
       "      <th>monthyear</th>\n",
       "      <th>date_of_birth</th>\n",
       "      <th>outcome_type</th>\n",
       "      <th>outcome_subtype</th>\n",
       "      <th>animal_type</th>\n",
       "      <th>sex_upon_outcome</th>\n",
       "      <th>age_upon_outcome</th>\n",
       "      <th>breed</th>\n",
       "      <th>color</th>\n",
       "      <th>new_age1</th>\n",
       "      <th>new_sex1</th>\n",
       "    </tr>\n",
       "  </thead>\n",
       "  <tbody>\n",
       "    <tr>\n",
       "      <th>0</th>\n",
       "      <td>A845399</td>\n",
       "      <td>*Sweet Potato Pie</td>\n",
       "      <td>2021-11-30 13:56:00</td>\n",
       "      <td>2021-11-30T13:56:00.000</td>\n",
       "      <td>2021-09-29T00:00:00.000</td>\n",
       "      <td>Transfer</td>\n",
       "      <td>Partner</td>\n",
       "      <td>Cat</td>\n",
       "      <td>Intact Female</td>\n",
       "      <td>2 months</td>\n",
       "      <td>Domestic Shorthair</td>\n",
       "      <td>Brown Tabby</td>\n",
       "      <td>2 months</td>\n",
       "      <td>Female</td>\n",
       "    </tr>\n",
       "    <tr>\n",
       "      <th>1</th>\n",
       "      <td>A843896</td>\n",
       "      <td>*Kermit</td>\n",
       "      <td>2021-11-30 12:19:00</td>\n",
       "      <td>2021-11-30T12:19:00.000</td>\n",
       "      <td>2021-09-04T00:00:00.000</td>\n",
       "      <td>Adoption</td>\n",
       "      <td>Foster</td>\n",
       "      <td>Cat</td>\n",
       "      <td>Neutered Male</td>\n",
       "      <td>2 months</td>\n",
       "      <td>Domestic Medium Hair Mix</td>\n",
       "      <td>Cream Tabby</td>\n",
       "      <td>2 months</td>\n",
       "      <td>Male</td>\n",
       "    </tr>\n",
       "    <tr>\n",
       "      <th>2</th>\n",
       "      <td>A843900</td>\n",
       "      <td>*Fozzie Bear</td>\n",
       "      <td>2021-11-30 12:18:00</td>\n",
       "      <td>2021-11-30T12:18:00.000</td>\n",
       "      <td>2021-09-04T00:00:00.000</td>\n",
       "      <td>Adoption</td>\n",
       "      <td>Foster</td>\n",
       "      <td>Cat</td>\n",
       "      <td>Neutered Male</td>\n",
       "      <td>2 months</td>\n",
       "      <td>Domestic Medium Hair Mix</td>\n",
       "      <td>White/Cream Tabby</td>\n",
       "      <td>2 months</td>\n",
       "      <td>Male</td>\n",
       "    </tr>\n",
       "    <tr>\n",
       "      <th>3</th>\n",
       "      <td>A846443</td>\n",
       "      <td>Persia</td>\n",
       "      <td>2021-11-30 11:40:00</td>\n",
       "      <td>2021-11-30T11:40:00.000</td>\n",
       "      <td>2021-01-16T00:00:00.000</td>\n",
       "      <td>Return to Owner</td>\n",
       "      <td>NaN</td>\n",
       "      <td>Dog</td>\n",
       "      <td>Intact Female</td>\n",
       "      <td>10 months</td>\n",
       "      <td>Queensland Heeler Mix</td>\n",
       "      <td>Blue Merle</td>\n",
       "      <td>10 months</td>\n",
       "      <td>Female</td>\n",
       "    </tr>\n",
       "    <tr>\n",
       "      <th>4</th>\n",
       "      <td>A841608</td>\n",
       "      <td>*Chessie</td>\n",
       "      <td>2021-11-30 10:51:00</td>\n",
       "      <td>2021-11-30T10:51:00.000</td>\n",
       "      <td>2020-08-30T00:00:00.000</td>\n",
       "      <td>Adoption</td>\n",
       "      <td>Foster</td>\n",
       "      <td>Dog</td>\n",
       "      <td>Spayed Female</td>\n",
       "      <td>1 year</td>\n",
       "      <td>Harrier/Anatol Shepherd</td>\n",
       "      <td>Tan/White</td>\n",
       "      <td>1 years</td>\n",
       "      <td>Female</td>\n",
       "    </tr>\n",
       "  </tbody>\n",
       "</table>\n",
       "</div>"
      ],
      "text/plain": [
       "  animal_id               name            datetime                monthyear  \\\n",
       "0   A845399  *Sweet Potato Pie 2021-11-30 13:56:00  2021-11-30T13:56:00.000   \n",
       "1   A843896            *Kermit 2021-11-30 12:19:00  2021-11-30T12:19:00.000   \n",
       "2   A843900       *Fozzie Bear 2021-11-30 12:18:00  2021-11-30T12:18:00.000   \n",
       "3   A846443             Persia 2021-11-30 11:40:00  2021-11-30T11:40:00.000   \n",
       "4   A841608           *Chessie 2021-11-30 10:51:00  2021-11-30T10:51:00.000   \n",
       "\n",
       "             date_of_birth     outcome_type outcome_subtype animal_type  \\\n",
       "0  2021-09-29T00:00:00.000         Transfer         Partner         Cat   \n",
       "1  2021-09-04T00:00:00.000         Adoption          Foster         Cat   \n",
       "2  2021-09-04T00:00:00.000         Adoption          Foster         Cat   \n",
       "3  2021-01-16T00:00:00.000  Return to Owner             NaN         Dog   \n",
       "4  2020-08-30T00:00:00.000         Adoption          Foster         Dog   \n",
       "\n",
       "  sex_upon_outcome age_upon_outcome                     breed  \\\n",
       "0    Intact Female         2 months        Domestic Shorthair   \n",
       "1    Neutered Male         2 months  Domestic Medium Hair Mix   \n",
       "2    Neutered Male         2 months  Domestic Medium Hair Mix   \n",
       "3    Intact Female        10 months     Queensland Heeler Mix   \n",
       "4    Spayed Female           1 year   Harrier/Anatol Shepherd   \n",
       "\n",
       "               color   new_age1 new_sex1  \n",
       "0        Brown Tabby   2 months   Female  \n",
       "1        Cream Tabby   2 months     Male  \n",
       "2  White/Cream Tabby   2 months     Male  \n",
       "3         Blue Merle  10 months   Female  \n",
       "4          Tan/White    1 years   Female  "
      ]
     },
     "execution_count": 26,
     "metadata": {},
     "output_type": "execute_result"
    }
   ],
   "source": [
    "# `animals` DataFrame is left untouched\n",
    "animals_clean.head()"
   ]
  },
  {
   "cell_type": "code",
   "execution_count": 27,
   "metadata": {
    "hidden": true
   },
   "outputs": [
    {
     "data": {
      "text/html": [
       "<div>\n",
       "<style scoped>\n",
       "    .dataframe tbody tr th:only-of-type {\n",
       "        vertical-align: middle;\n",
       "    }\n",
       "\n",
       "    .dataframe tbody tr th {\n",
       "        vertical-align: top;\n",
       "    }\n",
       "\n",
       "    .dataframe thead th {\n",
       "        text-align: right;\n",
       "    }\n",
       "</style>\n",
       "<table border=\"1\" class=\"dataframe\">\n",
       "  <thead>\n",
       "    <tr style=\"text-align: right;\">\n",
       "      <th></th>\n",
       "      <th>name</th>\n",
       "    </tr>\n",
       "  </thead>\n",
       "  <tbody>\n",
       "    <tr>\n",
       "      <th>0</th>\n",
       "      <td>*Sweet Potato Pie</td>\n",
       "    </tr>\n",
       "    <tr>\n",
       "      <th>1</th>\n",
       "      <td>*Kermit</td>\n",
       "    </tr>\n",
       "    <tr>\n",
       "      <th>2</th>\n",
       "      <td>*Fozzie Bear</td>\n",
       "    </tr>\n",
       "    <tr>\n",
       "      <th>3</th>\n",
       "      <td>Persia</td>\n",
       "    </tr>\n",
       "    <tr>\n",
       "      <th>4</th>\n",
       "      <td>*Chessie</td>\n",
       "    </tr>\n",
       "  </tbody>\n",
       "</table>\n",
       "</div>"
      ],
      "text/plain": [
       "                name\n",
       "0  *Sweet Potato Pie\n",
       "1            *Kermit\n",
       "2       *Fozzie Bear\n",
       "3             Persia\n",
       "4           *Chessie"
      ]
     },
     "execution_count": 27,
     "metadata": {},
     "output_type": "execute_result"
    }
   ],
   "source": [
    "# Alternative way to fill missing values by specifying column(s) first\n",
    "animals_only_names = animals[['name']].fillna(value='UNKNOWN')\n",
    "animals_only_names.head()"
   ]
  },
  {
   "cell_type": "code",
   "execution_count": 28,
   "metadata": {
    "hidden": true
   },
   "outputs": [
    {
     "data": {
      "text/html": [
       "<div>\n",
       "<style scoped>\n",
       "    .dataframe tbody tr th:only-of-type {\n",
       "        vertical-align: middle;\n",
       "    }\n",
       "\n",
       "    .dataframe tbody tr th {\n",
       "        vertical-align: top;\n",
       "    }\n",
       "\n",
       "    .dataframe thead th {\n",
       "        text-align: right;\n",
       "    }\n",
       "</style>\n",
       "<table border=\"1\" class=\"dataframe\">\n",
       "  <thead>\n",
       "    <tr style=\"text-align: right;\">\n",
       "      <th></th>\n",
       "      <th>animal_id</th>\n",
       "      <th>name</th>\n",
       "      <th>datetime</th>\n",
       "      <th>monthyear</th>\n",
       "      <th>date_of_birth</th>\n",
       "      <th>outcome_type</th>\n",
       "      <th>outcome_subtype</th>\n",
       "      <th>animal_type</th>\n",
       "      <th>sex_upon_outcome</th>\n",
       "      <th>age_upon_outcome</th>\n",
       "      <th>breed</th>\n",
       "      <th>color</th>\n",
       "      <th>new_age1</th>\n",
       "      <th>new_sex1</th>\n",
       "    </tr>\n",
       "  </thead>\n",
       "  <tbody>\n",
       "    <tr>\n",
       "      <th>0</th>\n",
       "      <td>A845399</td>\n",
       "      <td>*Sweet Potato Pie</td>\n",
       "      <td>2021-11-30 13:56:00</td>\n",
       "      <td>2021-11-30T13:56:00.000</td>\n",
       "      <td>2021-09-29T00:00:00.000</td>\n",
       "      <td>Transfer</td>\n",
       "      <td>Partner</td>\n",
       "      <td>Cat</td>\n",
       "      <td>Intact Female</td>\n",
       "      <td>2 months</td>\n",
       "      <td>Domestic Shorthair</td>\n",
       "      <td>Brown Tabby</td>\n",
       "      <td>2 months</td>\n",
       "      <td>Female</td>\n",
       "    </tr>\n",
       "    <tr>\n",
       "      <th>1</th>\n",
       "      <td>A843896</td>\n",
       "      <td>*Kermit</td>\n",
       "      <td>2021-11-30 12:19:00</td>\n",
       "      <td>2021-11-30T12:19:00.000</td>\n",
       "      <td>2021-09-04T00:00:00.000</td>\n",
       "      <td>Adoption</td>\n",
       "      <td>Foster</td>\n",
       "      <td>Cat</td>\n",
       "      <td>Neutered Male</td>\n",
       "      <td>2 months</td>\n",
       "      <td>Domestic Medium Hair Mix</td>\n",
       "      <td>Cream Tabby</td>\n",
       "      <td>2 months</td>\n",
       "      <td>Male</td>\n",
       "    </tr>\n",
       "    <tr>\n",
       "      <th>2</th>\n",
       "      <td>A843900</td>\n",
       "      <td>*Fozzie Bear</td>\n",
       "      <td>2021-11-30 12:18:00</td>\n",
       "      <td>2021-11-30T12:18:00.000</td>\n",
       "      <td>2021-09-04T00:00:00.000</td>\n",
       "      <td>Adoption</td>\n",
       "      <td>Foster</td>\n",
       "      <td>Cat</td>\n",
       "      <td>Neutered Male</td>\n",
       "      <td>2 months</td>\n",
       "      <td>Domestic Medium Hair Mix</td>\n",
       "      <td>White/Cream Tabby</td>\n",
       "      <td>2 months</td>\n",
       "      <td>Male</td>\n",
       "    </tr>\n",
       "    <tr>\n",
       "      <th>3</th>\n",
       "      <td>A846443</td>\n",
       "      <td>Persia</td>\n",
       "      <td>2021-11-30 11:40:00</td>\n",
       "      <td>2021-11-30T11:40:00.000</td>\n",
       "      <td>2021-01-16T00:00:00.000</td>\n",
       "      <td>Return to Owner</td>\n",
       "      <td>NaN</td>\n",
       "      <td>Dog</td>\n",
       "      <td>Intact Female</td>\n",
       "      <td>10 months</td>\n",
       "      <td>Queensland Heeler Mix</td>\n",
       "      <td>Blue Merle</td>\n",
       "      <td>10 months</td>\n",
       "      <td>Female</td>\n",
       "    </tr>\n",
       "    <tr>\n",
       "      <th>4</th>\n",
       "      <td>A841608</td>\n",
       "      <td>*Chessie</td>\n",
       "      <td>2021-11-30 10:51:00</td>\n",
       "      <td>2021-11-30T10:51:00.000</td>\n",
       "      <td>2020-08-30T00:00:00.000</td>\n",
       "      <td>Adoption</td>\n",
       "      <td>Foster</td>\n",
       "      <td>Dog</td>\n",
       "      <td>Spayed Female</td>\n",
       "      <td>1 year</td>\n",
       "      <td>Harrier/Anatol Shepherd</td>\n",
       "      <td>Tan/White</td>\n",
       "      <td>1 years</td>\n",
       "      <td>Female</td>\n",
       "    </tr>\n",
       "  </tbody>\n",
       "</table>\n",
       "</div>"
      ],
      "text/plain": [
       "  animal_id               name            datetime                monthyear  \\\n",
       "0   A845399  *Sweet Potato Pie 2021-11-30 13:56:00  2021-11-30T13:56:00.000   \n",
       "1   A843896            *Kermit 2021-11-30 12:19:00  2021-11-30T12:19:00.000   \n",
       "2   A843900       *Fozzie Bear 2021-11-30 12:18:00  2021-11-30T12:18:00.000   \n",
       "3   A846443             Persia 2021-11-30 11:40:00  2021-11-30T11:40:00.000   \n",
       "4   A841608           *Chessie 2021-11-30 10:51:00  2021-11-30T10:51:00.000   \n",
       "\n",
       "             date_of_birth     outcome_type outcome_subtype animal_type  \\\n",
       "0  2021-09-29T00:00:00.000         Transfer         Partner         Cat   \n",
       "1  2021-09-04T00:00:00.000         Adoption          Foster         Cat   \n",
       "2  2021-09-04T00:00:00.000         Adoption          Foster         Cat   \n",
       "3  2021-01-16T00:00:00.000  Return to Owner             NaN         Dog   \n",
       "4  2020-08-30T00:00:00.000         Adoption          Foster         Dog   \n",
       "\n",
       "  sex_upon_outcome age_upon_outcome                     breed  \\\n",
       "0    Intact Female         2 months        Domestic Shorthair   \n",
       "1    Neutered Male         2 months  Domestic Medium Hair Mix   \n",
       "2    Neutered Male         2 months  Domestic Medium Hair Mix   \n",
       "3    Intact Female        10 months     Queensland Heeler Mix   \n",
       "4    Spayed Female           1 year   Harrier/Anatol Shepherd   \n",
       "\n",
       "               color   new_age1 new_sex1  \n",
       "0        Brown Tabby   2 months   Female  \n",
       "1        Cream Tabby   2 months     Male  \n",
       "2  White/Cream Tabby   2 months     Male  \n",
       "3         Blue Merle  10 months   Female  \n",
       "4          Tan/White    1 years   Female  "
      ]
     },
     "execution_count": 28,
     "metadata": {},
     "output_type": "execute_result"
    }
   ],
   "source": [
    "# To keep changes in DataFrame, overwrite the column\n",
    "animals_clean[['name']] = animals_only_names\n",
    "animals_clean.head()"
   ]
  },
  {
   "cell_type": "markdown",
   "metadata": {
    "heading_collapsed": true,
    "hidden": true
   },
   "source": [
    "## Fill with a Reasonable Value"
   ]
  },
  {
   "cell_type": "markdown",
   "metadata": {
    "hidden": true
   },
   "source": [
    "Other times we don't know what the missing value was but we might have a reasonable guess. This allows us to still use the data point (row) in our analysis."
   ]
  },
  {
   "cell_type": "markdown",
   "metadata": {
    "hidden": true
   },
   "source": [
    "> Beware that filling in missing values can lead to you drawing incorrect conclusions. If most of the data from a column are missing, it's going to appear that the value you filled it in with is more common that it actually was!"
   ]
  },
  {
   "cell_type": "markdown",
   "metadata": {
    "hidden": true
   },
   "source": [
    "A lot of the time we'll use the _mean_ or _median_ for numerical values. Sometimes values like $0$ make sense since it might make sense in the context of how the data was collected.\n",
    "\n",
    "With categorical values, you might choose to fill the missing values with the most common value (the *mode*)."
   ]
  },
  {
   "cell_type": "markdown",
   "metadata": {
    "hidden": true
   },
   "source": [
    "> Similar to the previous subsection, we can use the `fillna()` method after specifying the value to fill"
   ]
  },
  {
   "cell_type": "code",
   "execution_count": 29,
   "metadata": {
    "hidden": true
   },
   "outputs": [
    {
     "data": {
      "text/plain": [
       "Partner        174\n",
       "Foster          95\n",
       "Out State       66\n",
       "Rabies Risk     14\n",
       "Suffering       12\n",
       "Snr             11\n",
       "In Kennel        5\n",
       "At Vet           4\n",
       "Field            3\n",
       "Emergency        2\n",
       "Medical          1\n",
       "In Foster        1\n",
       "Aggressive       1\n",
       "Name: outcome_subtype, dtype: int64"
      ]
     },
     "execution_count": 29,
     "metadata": {},
     "output_type": "execute_result"
    }
   ],
   "source": [
    "## Let's find the most common value for `outcome_subtype`\n",
    "outcome_subtype_counts = animals['outcome_subtype'].value_counts()\n",
    "outcome_subtype_counts"
   ]
  },
  {
   "cell_type": "code",
   "execution_count": 30,
   "metadata": {
    "hidden": true
   },
   "outputs": [
    {
     "name": "stdout",
     "output_type": "stream",
     "text": [
      "Index(['Partner', 'Foster', 'Out State', 'Rabies Risk', 'Suffering', 'Snr',\n",
      "       'In Kennel', 'At Vet', 'Field', 'Emergency', 'Medical', 'In Foster',\n",
      "       'Aggressive'],\n",
      "      dtype='object')\n"
     ]
    }
   ],
   "source": [
    "# This gets us just the values in order of most frequent to least frequent\n",
    "outcome_subtype_ordered = outcome_subtype_counts.index\n",
    "print(outcome_subtype_ordered)\n",
    "\n",
    "# Get the first one\n",
    "most_common_outcome_subtype = outcome_subtype_ordered[0]"
   ]
  },
  {
   "cell_type": "code",
   "execution_count": 31,
   "metadata": {},
   "outputs": [
    {
     "data": {
      "text/plain": [
       "'Partner'"
      ]
     },
     "execution_count": 31,
     "metadata": {},
     "output_type": "execute_result"
    }
   ],
   "source": [
    "most_common_outcome_subtype"
   ]
  },
  {
   "cell_type": "code",
   "execution_count": 32,
   "metadata": {},
   "outputs": [
    {
     "data": {
      "text/plain": [
       "0    Partner\n",
       "dtype: object"
      ]
     },
     "execution_count": 32,
     "metadata": {},
     "output_type": "execute_result"
    }
   ],
   "source": [
    "animals['outcome_subtype'].mode()"
   ]
  },
  {
   "cell_type": "code",
   "execution_count": 33,
   "metadata": {
    "hidden": true
   },
   "outputs": [
    {
     "data": {
      "text/plain": [
       "'Partner'"
      ]
     },
     "execution_count": 33,
     "metadata": {},
     "output_type": "execute_result"
    }
   ],
   "source": [
    "# Using the built-in mode() method\n",
    "# Note this is Series so we have to get the first element (which is the value)\n",
    "most_common_outcome_subtype = animals['outcome_subtype'].mode()[0]\n",
    "most_common_outcome_subtype"
   ]
  },
  {
   "cell_type": "code",
   "execution_count": 34,
   "metadata": {
    "hidden": true,
    "scrolled": true
   },
   "outputs": [
    {
     "data": {
      "text/html": [
       "<div>\n",
       "<style scoped>\n",
       "    .dataframe tbody tr th:only-of-type {\n",
       "        vertical-align: middle;\n",
       "    }\n",
       "\n",
       "    .dataframe tbody tr th {\n",
       "        vertical-align: top;\n",
       "    }\n",
       "\n",
       "    .dataframe thead th {\n",
       "        text-align: right;\n",
       "    }\n",
       "</style>\n",
       "<table border=\"1\" class=\"dataframe\">\n",
       "  <thead>\n",
       "    <tr style=\"text-align: right;\">\n",
       "      <th></th>\n",
       "      <th>animal_id</th>\n",
       "      <th>name</th>\n",
       "      <th>datetime</th>\n",
       "      <th>monthyear</th>\n",
       "      <th>date_of_birth</th>\n",
       "      <th>outcome_type</th>\n",
       "      <th>outcome_subtype</th>\n",
       "      <th>animal_type</th>\n",
       "      <th>sex_upon_outcome</th>\n",
       "      <th>age_upon_outcome</th>\n",
       "      <th>breed</th>\n",
       "      <th>color</th>\n",
       "      <th>new_age1</th>\n",
       "      <th>new_sex1</th>\n",
       "    </tr>\n",
       "  </thead>\n",
       "  <tbody>\n",
       "    <tr>\n",
       "      <th>0</th>\n",
       "      <td>A845399</td>\n",
       "      <td>*Sweet Potato Pie</td>\n",
       "      <td>2021-11-30 13:56:00</td>\n",
       "      <td>2021-11-30T13:56:00.000</td>\n",
       "      <td>2021-09-29T00:00:00.000</td>\n",
       "      <td>Transfer</td>\n",
       "      <td>Partner</td>\n",
       "      <td>Cat</td>\n",
       "      <td>Intact Female</td>\n",
       "      <td>2 months</td>\n",
       "      <td>Domestic Shorthair</td>\n",
       "      <td>Brown Tabby</td>\n",
       "      <td>2 months</td>\n",
       "      <td>Female</td>\n",
       "    </tr>\n",
       "    <tr>\n",
       "      <th>1</th>\n",
       "      <td>A843896</td>\n",
       "      <td>*Kermit</td>\n",
       "      <td>2021-11-30 12:19:00</td>\n",
       "      <td>2021-11-30T12:19:00.000</td>\n",
       "      <td>2021-09-04T00:00:00.000</td>\n",
       "      <td>Adoption</td>\n",
       "      <td>Foster</td>\n",
       "      <td>Cat</td>\n",
       "      <td>Neutered Male</td>\n",
       "      <td>2 months</td>\n",
       "      <td>Domestic Medium Hair Mix</td>\n",
       "      <td>Cream Tabby</td>\n",
       "      <td>2 months</td>\n",
       "      <td>Male</td>\n",
       "    </tr>\n",
       "    <tr>\n",
       "      <th>2</th>\n",
       "      <td>A843900</td>\n",
       "      <td>*Fozzie Bear</td>\n",
       "      <td>2021-11-30 12:18:00</td>\n",
       "      <td>2021-11-30T12:18:00.000</td>\n",
       "      <td>2021-09-04T00:00:00.000</td>\n",
       "      <td>Adoption</td>\n",
       "      <td>Foster</td>\n",
       "      <td>Cat</td>\n",
       "      <td>Neutered Male</td>\n",
       "      <td>2 months</td>\n",
       "      <td>Domestic Medium Hair Mix</td>\n",
       "      <td>White/Cream Tabby</td>\n",
       "      <td>2 months</td>\n",
       "      <td>Male</td>\n",
       "    </tr>\n",
       "    <tr>\n",
       "      <th>3</th>\n",
       "      <td>A846443</td>\n",
       "      <td>Persia</td>\n",
       "      <td>2021-11-30 11:40:00</td>\n",
       "      <td>2021-11-30T11:40:00.000</td>\n",
       "      <td>2021-01-16T00:00:00.000</td>\n",
       "      <td>Return to Owner</td>\n",
       "      <td>Partner</td>\n",
       "      <td>Dog</td>\n",
       "      <td>Intact Female</td>\n",
       "      <td>10 months</td>\n",
       "      <td>Queensland Heeler Mix</td>\n",
       "      <td>Blue Merle</td>\n",
       "      <td>10 months</td>\n",
       "      <td>Female</td>\n",
       "    </tr>\n",
       "    <tr>\n",
       "      <th>4</th>\n",
       "      <td>A841608</td>\n",
       "      <td>*Chessie</td>\n",
       "      <td>2021-11-30 10:51:00</td>\n",
       "      <td>2021-11-30T10:51:00.000</td>\n",
       "      <td>2020-08-30T00:00:00.000</td>\n",
       "      <td>Adoption</td>\n",
       "      <td>Foster</td>\n",
       "      <td>Dog</td>\n",
       "      <td>Spayed Female</td>\n",
       "      <td>1 year</td>\n",
       "      <td>Harrier/Anatol Shepherd</td>\n",
       "      <td>Tan/White</td>\n",
       "      <td>1 years</td>\n",
       "      <td>Female</td>\n",
       "    </tr>\n",
       "  </tbody>\n",
       "</table>\n",
       "</div>"
      ],
      "text/plain": [
       "  animal_id               name            datetime                monthyear  \\\n",
       "0   A845399  *Sweet Potato Pie 2021-11-30 13:56:00  2021-11-30T13:56:00.000   \n",
       "1   A843896            *Kermit 2021-11-30 12:19:00  2021-11-30T12:19:00.000   \n",
       "2   A843900       *Fozzie Bear 2021-11-30 12:18:00  2021-11-30T12:18:00.000   \n",
       "3   A846443             Persia 2021-11-30 11:40:00  2021-11-30T11:40:00.000   \n",
       "4   A841608           *Chessie 2021-11-30 10:51:00  2021-11-30T10:51:00.000   \n",
       "\n",
       "             date_of_birth     outcome_type outcome_subtype animal_type  \\\n",
       "0  2021-09-29T00:00:00.000         Transfer         Partner         Cat   \n",
       "1  2021-09-04T00:00:00.000         Adoption          Foster         Cat   \n",
       "2  2021-09-04T00:00:00.000         Adoption          Foster         Cat   \n",
       "3  2021-01-16T00:00:00.000  Return to Owner         Partner         Dog   \n",
       "4  2020-08-30T00:00:00.000         Adoption          Foster         Dog   \n",
       "\n",
       "  sex_upon_outcome age_upon_outcome                     breed  \\\n",
       "0    Intact Female         2 months        Domestic Shorthair   \n",
       "1    Neutered Male         2 months  Domestic Medium Hair Mix   \n",
       "2    Neutered Male         2 months  Domestic Medium Hair Mix   \n",
       "3    Intact Female        10 months     Queensland Heeler Mix   \n",
       "4    Spayed Female           1 year   Harrier/Anatol Shepherd   \n",
       "\n",
       "               color   new_age1 new_sex1  \n",
       "0        Brown Tabby   2 months   Female  \n",
       "1        Cream Tabby   2 months     Male  \n",
       "2  White/Cream Tabby   2 months     Male  \n",
       "3         Blue Merle  10 months   Female  \n",
       "4          Tan/White    1 years   Female  "
      ]
     },
     "execution_count": 34,
     "metadata": {},
     "output_type": "execute_result"
    }
   ],
   "source": [
    "# Similar to the previous subsection, we can use fillna() and update the DF\n",
    "animals_clean['outcome_subtype'] = animals['outcome_subtype']\\\n",
    ".fillna(most_common_outcome_subtype)\n",
    "animals_clean.head()"
   ]
  },
  {
   "cell_type": "markdown",
   "metadata": {
    "heading_collapsed": true,
    "hidden": true
   },
   "source": [
    "## Specify That the Data Were Missing"
   ]
  },
  {
   "cell_type": "markdown",
   "metadata": {
    "hidden": true
   },
   "source": [
    "Even after filling in missing values, it might make sense to specify that there were missing data. You can document that the data was missing by creating a new column that represents whether the data was originally missing or not."
   ]
  },
  {
   "cell_type": "markdown",
   "metadata": {
    "hidden": true
   },
   "source": [
    "This can be helpful when you suspect that the fact the data was missing could be important for an analysis."
   ]
  },
  {
   "cell_type": "markdown",
   "metadata": {
    "hidden": true
   },
   "source": [
    "> Since we already removed some missing values, we're going to reference back to the original `animals` DataFrame. (Good thing we didn't overwrite it! 😉)"
   ]
  },
  {
   "cell_type": "code",
   "execution_count": 35,
   "metadata": {
    "hidden": true
   },
   "outputs": [
    {
     "data": {
      "text/plain": [
       "0      False\n",
       "1      False\n",
       "2      False\n",
       "3       True\n",
       "4      False\n",
       "       ...  \n",
       "995     True\n",
       "996     True\n",
       "997     True\n",
       "998     True\n",
       "999     True\n",
       "Name: outcome_subtype, Length: 1000, dtype: bool"
      ]
     },
     "execution_count": 35,
     "metadata": {},
     "output_type": "execute_result"
    }
   ],
   "source": [
    "# Let's specify which values were originally missing in \"outcome_subtype\"\n",
    "missing_outcome_subtypes = animals['outcome_subtype'].isna()\n",
    "missing_outcome_subtypes"
   ]
  },
  {
   "cell_type": "code",
   "execution_count": 36,
   "metadata": {
    "hidden": true
   },
   "outputs": [
    {
     "data": {
      "text/html": [
       "<div>\n",
       "<style scoped>\n",
       "    .dataframe tbody tr th:only-of-type {\n",
       "        vertical-align: middle;\n",
       "    }\n",
       "\n",
       "    .dataframe tbody tr th {\n",
       "        vertical-align: top;\n",
       "    }\n",
       "\n",
       "    .dataframe thead th {\n",
       "        text-align: right;\n",
       "    }\n",
       "</style>\n",
       "<table border=\"1\" class=\"dataframe\">\n",
       "  <thead>\n",
       "    <tr style=\"text-align: right;\">\n",
       "      <th></th>\n",
       "      <th>animal_id</th>\n",
       "      <th>name</th>\n",
       "      <th>datetime</th>\n",
       "      <th>monthyear</th>\n",
       "      <th>date_of_birth</th>\n",
       "      <th>outcome_type</th>\n",
       "      <th>outcome_subtype</th>\n",
       "      <th>animal_type</th>\n",
       "      <th>sex_upon_outcome</th>\n",
       "      <th>age_upon_outcome</th>\n",
       "      <th>breed</th>\n",
       "      <th>color</th>\n",
       "      <th>new_age1</th>\n",
       "      <th>new_sex1</th>\n",
       "      <th>outcome_subtype_missing</th>\n",
       "    </tr>\n",
       "  </thead>\n",
       "  <tbody>\n",
       "    <tr>\n",
       "      <th>0</th>\n",
       "      <td>A845399</td>\n",
       "      <td>*Sweet Potato Pie</td>\n",
       "      <td>2021-11-30 13:56:00</td>\n",
       "      <td>2021-11-30T13:56:00.000</td>\n",
       "      <td>2021-09-29T00:00:00.000</td>\n",
       "      <td>Transfer</td>\n",
       "      <td>Partner</td>\n",
       "      <td>Cat</td>\n",
       "      <td>Intact Female</td>\n",
       "      <td>2 months</td>\n",
       "      <td>Domestic Shorthair</td>\n",
       "      <td>Brown Tabby</td>\n",
       "      <td>2 months</td>\n",
       "      <td>Female</td>\n",
       "      <td>False</td>\n",
       "    </tr>\n",
       "    <tr>\n",
       "      <th>1</th>\n",
       "      <td>A843896</td>\n",
       "      <td>*Kermit</td>\n",
       "      <td>2021-11-30 12:19:00</td>\n",
       "      <td>2021-11-30T12:19:00.000</td>\n",
       "      <td>2021-09-04T00:00:00.000</td>\n",
       "      <td>Adoption</td>\n",
       "      <td>Foster</td>\n",
       "      <td>Cat</td>\n",
       "      <td>Neutered Male</td>\n",
       "      <td>2 months</td>\n",
       "      <td>Domestic Medium Hair Mix</td>\n",
       "      <td>Cream Tabby</td>\n",
       "      <td>2 months</td>\n",
       "      <td>Male</td>\n",
       "      <td>False</td>\n",
       "    </tr>\n",
       "    <tr>\n",
       "      <th>2</th>\n",
       "      <td>A843900</td>\n",
       "      <td>*Fozzie Bear</td>\n",
       "      <td>2021-11-30 12:18:00</td>\n",
       "      <td>2021-11-30T12:18:00.000</td>\n",
       "      <td>2021-09-04T00:00:00.000</td>\n",
       "      <td>Adoption</td>\n",
       "      <td>Foster</td>\n",
       "      <td>Cat</td>\n",
       "      <td>Neutered Male</td>\n",
       "      <td>2 months</td>\n",
       "      <td>Domestic Medium Hair Mix</td>\n",
       "      <td>White/Cream Tabby</td>\n",
       "      <td>2 months</td>\n",
       "      <td>Male</td>\n",
       "      <td>False</td>\n",
       "    </tr>\n",
       "    <tr>\n",
       "      <th>3</th>\n",
       "      <td>A846443</td>\n",
       "      <td>Persia</td>\n",
       "      <td>2021-11-30 11:40:00</td>\n",
       "      <td>2021-11-30T11:40:00.000</td>\n",
       "      <td>2021-01-16T00:00:00.000</td>\n",
       "      <td>Return to Owner</td>\n",
       "      <td>Partner</td>\n",
       "      <td>Dog</td>\n",
       "      <td>Intact Female</td>\n",
       "      <td>10 months</td>\n",
       "      <td>Queensland Heeler Mix</td>\n",
       "      <td>Blue Merle</td>\n",
       "      <td>10 months</td>\n",
       "      <td>Female</td>\n",
       "      <td>True</td>\n",
       "    </tr>\n",
       "    <tr>\n",
       "      <th>4</th>\n",
       "      <td>A841608</td>\n",
       "      <td>*Chessie</td>\n",
       "      <td>2021-11-30 10:51:00</td>\n",
       "      <td>2021-11-30T10:51:00.000</td>\n",
       "      <td>2020-08-30T00:00:00.000</td>\n",
       "      <td>Adoption</td>\n",
       "      <td>Foster</td>\n",
       "      <td>Dog</td>\n",
       "      <td>Spayed Female</td>\n",
       "      <td>1 year</td>\n",
       "      <td>Harrier/Anatol Shepherd</td>\n",
       "      <td>Tan/White</td>\n",
       "      <td>1 years</td>\n",
       "      <td>Female</td>\n",
       "      <td>False</td>\n",
       "    </tr>\n",
       "  </tbody>\n",
       "</table>\n",
       "</div>"
      ],
      "text/plain": [
       "  animal_id               name            datetime                monthyear  \\\n",
       "0   A845399  *Sweet Potato Pie 2021-11-30 13:56:00  2021-11-30T13:56:00.000   \n",
       "1   A843896            *Kermit 2021-11-30 12:19:00  2021-11-30T12:19:00.000   \n",
       "2   A843900       *Fozzie Bear 2021-11-30 12:18:00  2021-11-30T12:18:00.000   \n",
       "3   A846443             Persia 2021-11-30 11:40:00  2021-11-30T11:40:00.000   \n",
       "4   A841608           *Chessie 2021-11-30 10:51:00  2021-11-30T10:51:00.000   \n",
       "\n",
       "             date_of_birth     outcome_type outcome_subtype animal_type  \\\n",
       "0  2021-09-29T00:00:00.000         Transfer         Partner         Cat   \n",
       "1  2021-09-04T00:00:00.000         Adoption          Foster         Cat   \n",
       "2  2021-09-04T00:00:00.000         Adoption          Foster         Cat   \n",
       "3  2021-01-16T00:00:00.000  Return to Owner         Partner         Dog   \n",
       "4  2020-08-30T00:00:00.000         Adoption          Foster         Dog   \n",
       "\n",
       "  sex_upon_outcome age_upon_outcome                     breed  \\\n",
       "0    Intact Female         2 months        Domestic Shorthair   \n",
       "1    Neutered Male         2 months  Domestic Medium Hair Mix   \n",
       "2    Neutered Male         2 months  Domestic Medium Hair Mix   \n",
       "3    Intact Female        10 months     Queensland Heeler Mix   \n",
       "4    Spayed Female           1 year   Harrier/Anatol Shepherd   \n",
       "\n",
       "               color   new_age1 new_sex1  outcome_subtype_missing  \n",
       "0        Brown Tabby   2 months   Female                    False  \n",
       "1        Cream Tabby   2 months     Male                    False  \n",
       "2  White/Cream Tabby   2 months     Male                    False  \n",
       "3         Blue Merle  10 months   Female                     True  \n",
       "4          Tan/White    1 years   Female                    False  "
      ]
     },
     "execution_count": 36,
     "metadata": {},
     "output_type": "execute_result"
    }
   ],
   "source": [
    "# Create new column for missing outcome subtypes matched w/ replaced values\n",
    "animals_clean['outcome_subtype_missing'] = missing_outcome_subtypes\n",
    "animals_clean.head()"
   ]
  },
  {
   "cell_type": "markdown",
   "metadata": {
    "heading_collapsed": true,
    "hidden": true
   },
   "source": [
    "## Drop Missing Data"
   ]
  },
  {
   "cell_type": "markdown",
   "metadata": {
    "hidden": true
   },
   "source": [
    "You should try to keep as much relevant data as possible, but sometimes the other methods don't make as much sense and it's better to remove or **drop** the missing data."
   ]
  },
  {
   "cell_type": "markdown",
   "metadata": {
    "hidden": true
   },
   "source": [
    "We typically drop missing data if very little data would be lost and/or trying to fill in the values wouldn't make sense for our use case. For example, if you're trying to predict the outcome based on the other features/columns it might not make sense to fill in those missing values with something you can't confirm."
   ]
  },
  {
   "cell_type": "markdown",
   "metadata": {
    "hidden": true
   },
   "source": [
    "> We noticed that `outcome_type` had only a few missing values. It might not be worth trying to handle those few missing values. We can pretend that the `outcome_type` was an important feature and without it the rest of the row's data is of little importance to us.\n",
    ">\n",
    "> So we'll decide to drop the row if a value from `outcome_type` is missing. We'll use Pandas' [`dropna()` method](https://pandas.pydata.org/pandas-docs/stable/reference/api/pandas.DataFrame.dropna.html)."
   ]
  },
  {
   "cell_type": "code",
   "execution_count": 37,
   "metadata": {},
   "outputs": [
    {
     "data": {
      "text/plain": [
       "1000"
      ]
     },
     "execution_count": 37,
     "metadata": {},
     "output_type": "execute_result"
    }
   ],
   "source": [
    "animals_clean['outcome_type'].value_counts().sum()"
   ]
  },
  {
   "cell_type": "code",
   "execution_count": 38,
   "metadata": {
    "hidden": true
   },
   "outputs": [
    {
     "data": {
      "text/html": [
       "<div>\n",
       "<style scoped>\n",
       "    .dataframe tbody tr th:only-of-type {\n",
       "        vertical-align: middle;\n",
       "    }\n",
       "\n",
       "    .dataframe tbody tr th {\n",
       "        vertical-align: top;\n",
       "    }\n",
       "\n",
       "    .dataframe thead th {\n",
       "        text-align: right;\n",
       "    }\n",
       "</style>\n",
       "<table border=\"1\" class=\"dataframe\">\n",
       "  <thead>\n",
       "    <tr style=\"text-align: right;\">\n",
       "      <th></th>\n",
       "      <th>animal_id</th>\n",
       "      <th>name</th>\n",
       "      <th>datetime</th>\n",
       "      <th>monthyear</th>\n",
       "      <th>date_of_birth</th>\n",
       "      <th>outcome_type</th>\n",
       "      <th>outcome_subtype</th>\n",
       "      <th>animal_type</th>\n",
       "      <th>sex_upon_outcome</th>\n",
       "      <th>age_upon_outcome</th>\n",
       "      <th>breed</th>\n",
       "      <th>color</th>\n",
       "      <th>new_age1</th>\n",
       "      <th>new_sex1</th>\n",
       "      <th>outcome_subtype_missing</th>\n",
       "    </tr>\n",
       "  </thead>\n",
       "  <tbody>\n",
       "    <tr>\n",
       "      <th>0</th>\n",
       "      <td>A845399</td>\n",
       "      <td>*Sweet Potato Pie</td>\n",
       "      <td>2021-11-30 13:56:00</td>\n",
       "      <td>2021-11-30T13:56:00.000</td>\n",
       "      <td>2021-09-29T00:00:00.000</td>\n",
       "      <td>Transfer</td>\n",
       "      <td>Partner</td>\n",
       "      <td>Cat</td>\n",
       "      <td>Intact Female</td>\n",
       "      <td>2 months</td>\n",
       "      <td>Domestic Shorthair</td>\n",
       "      <td>Brown Tabby</td>\n",
       "      <td>2 months</td>\n",
       "      <td>Female</td>\n",
       "      <td>False</td>\n",
       "    </tr>\n",
       "    <tr>\n",
       "      <th>1</th>\n",
       "      <td>A843896</td>\n",
       "      <td>*Kermit</td>\n",
       "      <td>2021-11-30 12:19:00</td>\n",
       "      <td>2021-11-30T12:19:00.000</td>\n",
       "      <td>2021-09-04T00:00:00.000</td>\n",
       "      <td>Adoption</td>\n",
       "      <td>Foster</td>\n",
       "      <td>Cat</td>\n",
       "      <td>Neutered Male</td>\n",
       "      <td>2 months</td>\n",
       "      <td>Domestic Medium Hair Mix</td>\n",
       "      <td>Cream Tabby</td>\n",
       "      <td>2 months</td>\n",
       "      <td>Male</td>\n",
       "      <td>False</td>\n",
       "    </tr>\n",
       "    <tr>\n",
       "      <th>2</th>\n",
       "      <td>A843900</td>\n",
       "      <td>*Fozzie Bear</td>\n",
       "      <td>2021-11-30 12:18:00</td>\n",
       "      <td>2021-11-30T12:18:00.000</td>\n",
       "      <td>2021-09-04T00:00:00.000</td>\n",
       "      <td>Adoption</td>\n",
       "      <td>Foster</td>\n",
       "      <td>Cat</td>\n",
       "      <td>Neutered Male</td>\n",
       "      <td>2 months</td>\n",
       "      <td>Domestic Medium Hair Mix</td>\n",
       "      <td>White/Cream Tabby</td>\n",
       "      <td>2 months</td>\n",
       "      <td>Male</td>\n",
       "      <td>False</td>\n",
       "    </tr>\n",
       "    <tr>\n",
       "      <th>3</th>\n",
       "      <td>A846443</td>\n",
       "      <td>Persia</td>\n",
       "      <td>2021-11-30 11:40:00</td>\n",
       "      <td>2021-11-30T11:40:00.000</td>\n",
       "      <td>2021-01-16T00:00:00.000</td>\n",
       "      <td>Return to Owner</td>\n",
       "      <td>Partner</td>\n",
       "      <td>Dog</td>\n",
       "      <td>Intact Female</td>\n",
       "      <td>10 months</td>\n",
       "      <td>Queensland Heeler Mix</td>\n",
       "      <td>Blue Merle</td>\n",
       "      <td>10 months</td>\n",
       "      <td>Female</td>\n",
       "      <td>True</td>\n",
       "    </tr>\n",
       "    <tr>\n",
       "      <th>4</th>\n",
       "      <td>A841608</td>\n",
       "      <td>*Chessie</td>\n",
       "      <td>2021-11-30 10:51:00</td>\n",
       "      <td>2021-11-30T10:51:00.000</td>\n",
       "      <td>2020-08-30T00:00:00.000</td>\n",
       "      <td>Adoption</td>\n",
       "      <td>Foster</td>\n",
       "      <td>Dog</td>\n",
       "      <td>Spayed Female</td>\n",
       "      <td>1 year</td>\n",
       "      <td>Harrier/Anatol Shepherd</td>\n",
       "      <td>Tan/White</td>\n",
       "      <td>1 years</td>\n",
       "      <td>Female</td>\n",
       "      <td>False</td>\n",
       "    </tr>\n",
       "  </tbody>\n",
       "</table>\n",
       "</div>"
      ],
      "text/plain": [
       "  animal_id               name            datetime                monthyear  \\\n",
       "0   A845399  *Sweet Potato Pie 2021-11-30 13:56:00  2021-11-30T13:56:00.000   \n",
       "1   A843896            *Kermit 2021-11-30 12:19:00  2021-11-30T12:19:00.000   \n",
       "2   A843900       *Fozzie Bear 2021-11-30 12:18:00  2021-11-30T12:18:00.000   \n",
       "3   A846443             Persia 2021-11-30 11:40:00  2021-11-30T11:40:00.000   \n",
       "4   A841608           *Chessie 2021-11-30 10:51:00  2021-11-30T10:51:00.000   \n",
       "\n",
       "             date_of_birth     outcome_type outcome_subtype animal_type  \\\n",
       "0  2021-09-29T00:00:00.000         Transfer         Partner         Cat   \n",
       "1  2021-09-04T00:00:00.000         Adoption          Foster         Cat   \n",
       "2  2021-09-04T00:00:00.000         Adoption          Foster         Cat   \n",
       "3  2021-01-16T00:00:00.000  Return to Owner         Partner         Dog   \n",
       "4  2020-08-30T00:00:00.000         Adoption          Foster         Dog   \n",
       "\n",
       "  sex_upon_outcome age_upon_outcome                     breed  \\\n",
       "0    Intact Female         2 months        Domestic Shorthair   \n",
       "1    Neutered Male         2 months  Domestic Medium Hair Mix   \n",
       "2    Neutered Male         2 months  Domestic Medium Hair Mix   \n",
       "3    Intact Female        10 months     Queensland Heeler Mix   \n",
       "4    Spayed Female           1 year   Harrier/Anatol Shepherd   \n",
       "\n",
       "               color   new_age1 new_sex1  outcome_subtype_missing  \n",
       "0        Brown Tabby   2 months   Female                    False  \n",
       "1        Cream Tabby   2 months     Male                    False  \n",
       "2  White/Cream Tabby   2 months     Male                    False  \n",
       "3         Blue Merle  10 months   Female                     True  \n",
       "4          Tan/White    1 years   Female                    False  "
      ]
     },
     "execution_count": 38,
     "metadata": {},
     "output_type": "execute_result"
    }
   ],
   "source": [
    "# This will drop any row (axis=0) or column (axis=1) that has missing values\n",
    "animals_clean = animals_clean.dropna(   # Note we're overwriting animals_clean\n",
    "                                axis=0, # This is the default & will drop rows; axis=1 for cols\n",
    "                                subset=['outcome_type'] # Specific labels to consider (defaults to all)\n",
    ")\n",
    "animals_clean.head()"
   ]
  },
  {
   "cell_type": "code",
   "execution_count": 39,
   "metadata": {},
   "outputs": [
    {
     "data": {
      "text/plain": [
       "(1000, 15)"
      ]
     },
     "execution_count": 39,
     "metadata": {},
     "output_type": "execute_result"
    }
   ],
   "source": [
    "animals_clean.shape"
   ]
  },
  {
   "cell_type": "markdown",
   "metadata": {
    "heading_collapsed": true,
    "hidden": true
   },
   "source": [
    "## Comparing Before and After"
   ]
  },
  {
   "cell_type": "markdown",
   "metadata": {
    "hidden": true
   },
   "source": [
    "We can now see all the work we did!"
   ]
  },
  {
   "cell_type": "code",
   "execution_count": 40,
   "metadata": {
    "hidden": true
   },
   "outputs": [
    {
     "name": "stdout",
     "output_type": "stream",
     "text": [
      "<class 'pandas.core.frame.DataFrame'>\n",
      "RangeIndex: 1000 entries, 0 to 999\n",
      "Data columns (total 14 columns):\n",
      " #   Column            Non-Null Count  Dtype         \n",
      "---  ------            --------------  -----         \n",
      " 0   animal_id         1000 non-null   object        \n",
      " 1   name              848 non-null    object        \n",
      " 2   datetime          1000 non-null   datetime64[ns]\n",
      " 3   monthyear         1000 non-null   object        \n",
      " 4   date_of_birth     1000 non-null   object        \n",
      " 5   outcome_type      1000 non-null   object        \n",
      " 6   outcome_subtype   389 non-null    object        \n",
      " 7   animal_type       1000 non-null   object        \n",
      " 8   sex_upon_outcome  1000 non-null   object        \n",
      " 9   age_upon_outcome  1000 non-null   object        \n",
      " 10  breed             1000 non-null   object        \n",
      " 11  color             1000 non-null   object        \n",
      " 12  new_age1          1000 non-null   object        \n",
      " 13  new_sex1          1000 non-null   object        \n",
      "dtypes: datetime64[ns](1), object(13)\n",
      "memory usage: 109.5+ KB\n"
     ]
    }
   ],
   "source": [
    "# Original data\n",
    "animals.info()"
   ]
  },
  {
   "cell_type": "code",
   "execution_count": 41,
   "metadata": {
    "hidden": true
   },
   "outputs": [
    {
     "name": "stdout",
     "output_type": "stream",
     "text": [
      "<class 'pandas.core.frame.DataFrame'>\n",
      "Int64Index: 1000 entries, 0 to 999\n",
      "Data columns (total 15 columns):\n",
      " #   Column                   Non-Null Count  Dtype         \n",
      "---  ------                   --------------  -----         \n",
      " 0   animal_id                1000 non-null   object        \n",
      " 1   name                     1000 non-null   object        \n",
      " 2   datetime                 1000 non-null   datetime64[ns]\n",
      " 3   monthyear                1000 non-null   object        \n",
      " 4   date_of_birth            1000 non-null   object        \n",
      " 5   outcome_type             1000 non-null   object        \n",
      " 6   outcome_subtype          1000 non-null   object        \n",
      " 7   animal_type              1000 non-null   object        \n",
      " 8   sex_upon_outcome         1000 non-null   object        \n",
      " 9   age_upon_outcome         1000 non-null   object        \n",
      " 10  breed                    1000 non-null   object        \n",
      " 11  color                    1000 non-null   object        \n",
      " 12  new_age1                 1000 non-null   object        \n",
      " 13  new_sex1                 1000 non-null   object        \n",
      " 14  outcome_subtype_missing  1000 non-null   bool          \n",
      "dtypes: bool(1), datetime64[ns](1), object(13)\n",
      "memory usage: 118.2+ KB\n"
     ]
    }
   ],
   "source": [
    "# Missing data cleaned\n",
    "animals_clean.info()"
   ]
  },
  {
   "cell_type": "code",
   "execution_count": 42,
   "metadata": {},
   "outputs": [
    {
     "data": {
      "text/html": [
       "<div>\n",
       "<style scoped>\n",
       "    .dataframe tbody tr th:only-of-type {\n",
       "        vertical-align: middle;\n",
       "    }\n",
       "\n",
       "    .dataframe tbody tr th {\n",
       "        vertical-align: top;\n",
       "    }\n",
       "\n",
       "    .dataframe thead th {\n",
       "        text-align: right;\n",
       "    }\n",
       "</style>\n",
       "<table border=\"1\" class=\"dataframe\">\n",
       "  <thead>\n",
       "    <tr style=\"text-align: right;\">\n",
       "      <th></th>\n",
       "      <th>index</th>\n",
       "      <th>animal_id</th>\n",
       "      <th>name</th>\n",
       "      <th>datetime</th>\n",
       "      <th>monthyear</th>\n",
       "      <th>date_of_birth</th>\n",
       "      <th>outcome_type</th>\n",
       "      <th>outcome_subtype</th>\n",
       "      <th>animal_type</th>\n",
       "      <th>sex_upon_outcome</th>\n",
       "      <th>age_upon_outcome</th>\n",
       "      <th>breed</th>\n",
       "      <th>color</th>\n",
       "      <th>new_age1</th>\n",
       "      <th>new_sex1</th>\n",
       "      <th>outcome_subtype_missing</th>\n",
       "    </tr>\n",
       "  </thead>\n",
       "  <tbody>\n",
       "    <tr>\n",
       "      <th>0</th>\n",
       "      <td>0</td>\n",
       "      <td>A845399</td>\n",
       "      <td>*Sweet Potato Pie</td>\n",
       "      <td>2021-11-30 13:56:00</td>\n",
       "      <td>2021-11-30T13:56:00.000</td>\n",
       "      <td>2021-09-29T00:00:00.000</td>\n",
       "      <td>Transfer</td>\n",
       "      <td>Partner</td>\n",
       "      <td>Cat</td>\n",
       "      <td>Intact Female</td>\n",
       "      <td>2 months</td>\n",
       "      <td>Domestic Shorthair</td>\n",
       "      <td>Brown Tabby</td>\n",
       "      <td>2 months</td>\n",
       "      <td>Female</td>\n",
       "      <td>False</td>\n",
       "    </tr>\n",
       "    <tr>\n",
       "      <th>1</th>\n",
       "      <td>1</td>\n",
       "      <td>A843896</td>\n",
       "      <td>*Kermit</td>\n",
       "      <td>2021-11-30 12:19:00</td>\n",
       "      <td>2021-11-30T12:19:00.000</td>\n",
       "      <td>2021-09-04T00:00:00.000</td>\n",
       "      <td>Adoption</td>\n",
       "      <td>Foster</td>\n",
       "      <td>Cat</td>\n",
       "      <td>Neutered Male</td>\n",
       "      <td>2 months</td>\n",
       "      <td>Domestic Medium Hair Mix</td>\n",
       "      <td>Cream Tabby</td>\n",
       "      <td>2 months</td>\n",
       "      <td>Male</td>\n",
       "      <td>False</td>\n",
       "    </tr>\n",
       "    <tr>\n",
       "      <th>2</th>\n",
       "      <td>2</td>\n",
       "      <td>A843900</td>\n",
       "      <td>*Fozzie Bear</td>\n",
       "      <td>2021-11-30 12:18:00</td>\n",
       "      <td>2021-11-30T12:18:00.000</td>\n",
       "      <td>2021-09-04T00:00:00.000</td>\n",
       "      <td>Adoption</td>\n",
       "      <td>Foster</td>\n",
       "      <td>Cat</td>\n",
       "      <td>Neutered Male</td>\n",
       "      <td>2 months</td>\n",
       "      <td>Domestic Medium Hair Mix</td>\n",
       "      <td>White/Cream Tabby</td>\n",
       "      <td>2 months</td>\n",
       "      <td>Male</td>\n",
       "      <td>False</td>\n",
       "    </tr>\n",
       "    <tr>\n",
       "      <th>3</th>\n",
       "      <td>3</td>\n",
       "      <td>A846443</td>\n",
       "      <td>Persia</td>\n",
       "      <td>2021-11-30 11:40:00</td>\n",
       "      <td>2021-11-30T11:40:00.000</td>\n",
       "      <td>2021-01-16T00:00:00.000</td>\n",
       "      <td>Return to Owner</td>\n",
       "      <td>Partner</td>\n",
       "      <td>Dog</td>\n",
       "      <td>Intact Female</td>\n",
       "      <td>10 months</td>\n",
       "      <td>Queensland Heeler Mix</td>\n",
       "      <td>Blue Merle</td>\n",
       "      <td>10 months</td>\n",
       "      <td>Female</td>\n",
       "      <td>True</td>\n",
       "    </tr>\n",
       "    <tr>\n",
       "      <th>4</th>\n",
       "      <td>4</td>\n",
       "      <td>A841608</td>\n",
       "      <td>*Chessie</td>\n",
       "      <td>2021-11-30 10:51:00</td>\n",
       "      <td>2021-11-30T10:51:00.000</td>\n",
       "      <td>2020-08-30T00:00:00.000</td>\n",
       "      <td>Adoption</td>\n",
       "      <td>Foster</td>\n",
       "      <td>Dog</td>\n",
       "      <td>Spayed Female</td>\n",
       "      <td>1 year</td>\n",
       "      <td>Harrier/Anatol Shepherd</td>\n",
       "      <td>Tan/White</td>\n",
       "      <td>1 years</td>\n",
       "      <td>Female</td>\n",
       "      <td>False</td>\n",
       "    </tr>\n",
       "    <tr>\n",
       "      <th>...</th>\n",
       "      <td>...</td>\n",
       "      <td>...</td>\n",
       "      <td>...</td>\n",
       "      <td>...</td>\n",
       "      <td>...</td>\n",
       "      <td>...</td>\n",
       "      <td>...</td>\n",
       "      <td>...</td>\n",
       "      <td>...</td>\n",
       "      <td>...</td>\n",
       "      <td>...</td>\n",
       "      <td>...</td>\n",
       "      <td>...</td>\n",
       "      <td>...</td>\n",
       "      <td>...</td>\n",
       "      <td>...</td>\n",
       "    </tr>\n",
       "    <tr>\n",
       "      <th>995</th>\n",
       "      <td>995</td>\n",
       "      <td>A842968</td>\n",
       "      <td>A842968</td>\n",
       "      <td>2021-11-01 17:52:00</td>\n",
       "      <td>2021-11-01T17:52:00.000</td>\n",
       "      <td>2021-06-24T00:00:00.000</td>\n",
       "      <td>Adoption</td>\n",
       "      <td>Partner</td>\n",
       "      <td>Cat</td>\n",
       "      <td>Spayed Female</td>\n",
       "      <td>4 months</td>\n",
       "      <td>Domestic Shorthair</td>\n",
       "      <td>Calico</td>\n",
       "      <td>4 months</td>\n",
       "      <td>Female</td>\n",
       "      <td>True</td>\n",
       "    </tr>\n",
       "    <tr>\n",
       "      <th>996</th>\n",
       "      <td>996</td>\n",
       "      <td>A845094</td>\n",
       "      <td>*Daphne</td>\n",
       "      <td>2021-11-01 17:48:00</td>\n",
       "      <td>2021-11-01T17:48:00.000</td>\n",
       "      <td>2021-07-25T00:00:00.000</td>\n",
       "      <td>Adoption</td>\n",
       "      <td>Partner</td>\n",
       "      <td>Dog</td>\n",
       "      <td>Spayed Female</td>\n",
       "      <td>3 months</td>\n",
       "      <td>Labrador Retriever</td>\n",
       "      <td>Black/White</td>\n",
       "      <td>3 months</td>\n",
       "      <td>Female</td>\n",
       "      <td>True</td>\n",
       "    </tr>\n",
       "    <tr>\n",
       "      <th>997</th>\n",
       "      <td>997</td>\n",
       "      <td>A845096</td>\n",
       "      <td>Winston</td>\n",
       "      <td>2021-11-01 17:43:00</td>\n",
       "      <td>2021-11-01T17:43:00.000</td>\n",
       "      <td>2021-04-25T00:00:00.000</td>\n",
       "      <td>Adoption</td>\n",
       "      <td>Partner</td>\n",
       "      <td>Cat</td>\n",
       "      <td>Spayed Female</td>\n",
       "      <td>6 months</td>\n",
       "      <td>Domestic Shorthair</td>\n",
       "      <td>Torbie</td>\n",
       "      <td>6 months</td>\n",
       "      <td>Female</td>\n",
       "      <td>True</td>\n",
       "    </tr>\n",
       "    <tr>\n",
       "      <th>998</th>\n",
       "      <td>998</td>\n",
       "      <td>A845095</td>\n",
       "      <td>Ginger</td>\n",
       "      <td>2021-11-01 17:32:00</td>\n",
       "      <td>2021-11-01T17:32:00.000</td>\n",
       "      <td>2021-07-25T00:00:00.000</td>\n",
       "      <td>Adoption</td>\n",
       "      <td>Partner</td>\n",
       "      <td>Dog</td>\n",
       "      <td>Spayed Female</td>\n",
       "      <td>3 months</td>\n",
       "      <td>Labrador Retriever</td>\n",
       "      <td>Chocolate/White</td>\n",
       "      <td>3 months</td>\n",
       "      <td>Female</td>\n",
       "      <td>True</td>\n",
       "    </tr>\n",
       "    <tr>\n",
       "      <th>999</th>\n",
       "      <td>999</td>\n",
       "      <td>A844963</td>\n",
       "      <td>UNKNOWN</td>\n",
       "      <td>2021-11-01 17:29:00</td>\n",
       "      <td>2021-11-01T17:29:00.000</td>\n",
       "      <td>2021-07-23T00:00:00.000</td>\n",
       "      <td>Adoption</td>\n",
       "      <td>Partner</td>\n",
       "      <td>Cat</td>\n",
       "      <td>Neutered Male</td>\n",
       "      <td>3 months</td>\n",
       "      <td>Domestic Shorthair</td>\n",
       "      <td>Brown Tabby/White</td>\n",
       "      <td>3 months</td>\n",
       "      <td>Male</td>\n",
       "      <td>True</td>\n",
       "    </tr>\n",
       "  </tbody>\n",
       "</table>\n",
       "<p>1000 rows × 16 columns</p>\n",
       "</div>"
      ],
      "text/plain": [
       "     index animal_id               name            datetime  \\\n",
       "0        0   A845399  *Sweet Potato Pie 2021-11-30 13:56:00   \n",
       "1        1   A843896            *Kermit 2021-11-30 12:19:00   \n",
       "2        2   A843900       *Fozzie Bear 2021-11-30 12:18:00   \n",
       "3        3   A846443             Persia 2021-11-30 11:40:00   \n",
       "4        4   A841608           *Chessie 2021-11-30 10:51:00   \n",
       "..     ...       ...                ...                 ...   \n",
       "995    995   A842968            A842968 2021-11-01 17:52:00   \n",
       "996    996   A845094            *Daphne 2021-11-01 17:48:00   \n",
       "997    997   A845096            Winston 2021-11-01 17:43:00   \n",
       "998    998   A845095             Ginger 2021-11-01 17:32:00   \n",
       "999    999   A844963            UNKNOWN 2021-11-01 17:29:00   \n",
       "\n",
       "                   monthyear            date_of_birth     outcome_type  \\\n",
       "0    2021-11-30T13:56:00.000  2021-09-29T00:00:00.000         Transfer   \n",
       "1    2021-11-30T12:19:00.000  2021-09-04T00:00:00.000         Adoption   \n",
       "2    2021-11-30T12:18:00.000  2021-09-04T00:00:00.000         Adoption   \n",
       "3    2021-11-30T11:40:00.000  2021-01-16T00:00:00.000  Return to Owner   \n",
       "4    2021-11-30T10:51:00.000  2020-08-30T00:00:00.000         Adoption   \n",
       "..                       ...                      ...              ...   \n",
       "995  2021-11-01T17:52:00.000  2021-06-24T00:00:00.000         Adoption   \n",
       "996  2021-11-01T17:48:00.000  2021-07-25T00:00:00.000         Adoption   \n",
       "997  2021-11-01T17:43:00.000  2021-04-25T00:00:00.000         Adoption   \n",
       "998  2021-11-01T17:32:00.000  2021-07-25T00:00:00.000         Adoption   \n",
       "999  2021-11-01T17:29:00.000  2021-07-23T00:00:00.000         Adoption   \n",
       "\n",
       "    outcome_subtype animal_type sex_upon_outcome age_upon_outcome  \\\n",
       "0           Partner         Cat    Intact Female         2 months   \n",
       "1            Foster         Cat    Neutered Male         2 months   \n",
       "2            Foster         Cat    Neutered Male         2 months   \n",
       "3           Partner         Dog    Intact Female        10 months   \n",
       "4            Foster         Dog    Spayed Female           1 year   \n",
       "..              ...         ...              ...              ...   \n",
       "995         Partner         Cat    Spayed Female         4 months   \n",
       "996         Partner         Dog    Spayed Female         3 months   \n",
       "997         Partner         Cat    Spayed Female         6 months   \n",
       "998         Partner         Dog    Spayed Female         3 months   \n",
       "999         Partner         Cat    Neutered Male         3 months   \n",
       "\n",
       "                        breed              color   new_age1 new_sex1  \\\n",
       "0          Domestic Shorthair        Brown Tabby   2 months   Female   \n",
       "1    Domestic Medium Hair Mix        Cream Tabby   2 months     Male   \n",
       "2    Domestic Medium Hair Mix  White/Cream Tabby   2 months     Male   \n",
       "3       Queensland Heeler Mix         Blue Merle  10 months   Female   \n",
       "4     Harrier/Anatol Shepherd          Tan/White    1 years   Female   \n",
       "..                        ...                ...        ...      ...   \n",
       "995        Domestic Shorthair             Calico   4 months   Female   \n",
       "996        Labrador Retriever        Black/White   3 months   Female   \n",
       "997        Domestic Shorthair             Torbie   6 months   Female   \n",
       "998        Labrador Retriever    Chocolate/White   3 months   Female   \n",
       "999        Domestic Shorthair  Brown Tabby/White   3 months     Male   \n",
       "\n",
       "     outcome_subtype_missing  \n",
       "0                      False  \n",
       "1                      False  \n",
       "2                      False  \n",
       "3                       True  \n",
       "4                      False  \n",
       "..                       ...  \n",
       "995                     True  \n",
       "996                     True  \n",
       "997                     True  \n",
       "998                     True  \n",
       "999                     True  \n",
       "\n",
       "[1000 rows x 16 columns]"
      ]
     },
     "execution_count": 42,
     "metadata": {},
     "output_type": "execute_result"
    }
   ],
   "source": [
    "animals_clean.reset_index()"
   ]
  },
  {
   "cell_type": "markdown",
   "metadata": {
    "heading_collapsed": true
   },
   "source": [
    "# Level Up: `.applymap()`"
   ]
  },
  {
   "cell_type": "markdown",
   "metadata": {
    "hidden": true
   },
   "source": [
    "`.applymap()` is used to apply a transformation to each element of a DataFrame."
   ]
  },
  {
   "cell_type": "code",
   "execution_count": 54,
   "metadata": {
    "hidden": true,
    "scrolled": true
   },
   "outputs": [
    {
     "data": {
      "text/html": [
       "<div>\n",
       "<style scoped>\n",
       "    .dataframe tbody tr th:only-of-type {\n",
       "        vertical-align: middle;\n",
       "    }\n",
       "\n",
       "    .dataframe tbody tr th {\n",
       "        vertical-align: top;\n",
       "    }\n",
       "\n",
       "    .dataframe thead th {\n",
       "        text-align: right;\n",
       "    }\n",
       "</style>\n",
       "<table border=\"1\" class=\"dataframe\">\n",
       "  <thead>\n",
       "    <tr style=\"text-align: right;\">\n",
       "      <th></th>\n",
       "      <th>animal_id</th>\n",
       "      <th>name</th>\n",
       "      <th>datetime</th>\n",
       "      <th>monthyear</th>\n",
       "      <th>date_of_birth</th>\n",
       "      <th>outcome_type</th>\n",
       "      <th>outcome_subtype</th>\n",
       "      <th>animal_type</th>\n",
       "      <th>sex_upon_outcome</th>\n",
       "      <th>age_upon_outcome</th>\n",
       "      <th>breed</th>\n",
       "      <th>color</th>\n",
       "      <th>new_age1</th>\n",
       "      <th>new_sex1</th>\n",
       "      <th>new_age2</th>\n",
       "      <th>new_sex2</th>\n",
       "    </tr>\n",
       "  </thead>\n",
       "  <tbody>\n",
       "    <tr>\n",
       "      <th>0</th>\n",
       "      <td>&lt;class 'str'&gt;</td>\n",
       "      <td>&lt;class 'str'&gt;</td>\n",
       "      <td>&lt;class 'pandas._libs.tslibs.timestamps.Timesta...</td>\n",
       "      <td>&lt;class 'str'&gt;</td>\n",
       "      <td>&lt;class 'str'&gt;</td>\n",
       "      <td>&lt;class 'str'&gt;</td>\n",
       "      <td>&lt;class 'str'&gt;</td>\n",
       "      <td>&lt;class 'str'&gt;</td>\n",
       "      <td>&lt;class 'str'&gt;</td>\n",
       "      <td>&lt;class 'str'&gt;</td>\n",
       "      <td>&lt;class 'str'&gt;</td>\n",
       "      <td>&lt;class 'str'&gt;</td>\n",
       "      <td>&lt;class 'str'&gt;</td>\n",
       "      <td>&lt;class 'str'&gt;</td>\n",
       "      <td>&lt;class 'str'&gt;</td>\n",
       "      <td>&lt;class 'str'&gt;</td>\n",
       "    </tr>\n",
       "    <tr>\n",
       "      <th>1</th>\n",
       "      <td>&lt;class 'str'&gt;</td>\n",
       "      <td>&lt;class 'str'&gt;</td>\n",
       "      <td>&lt;class 'pandas._libs.tslibs.timestamps.Timesta...</td>\n",
       "      <td>&lt;class 'str'&gt;</td>\n",
       "      <td>&lt;class 'str'&gt;</td>\n",
       "      <td>&lt;class 'str'&gt;</td>\n",
       "      <td>&lt;class 'str'&gt;</td>\n",
       "      <td>&lt;class 'str'&gt;</td>\n",
       "      <td>&lt;class 'str'&gt;</td>\n",
       "      <td>&lt;class 'str'&gt;</td>\n",
       "      <td>&lt;class 'str'&gt;</td>\n",
       "      <td>&lt;class 'str'&gt;</td>\n",
       "      <td>&lt;class 'str'&gt;</td>\n",
       "      <td>&lt;class 'str'&gt;</td>\n",
       "      <td>&lt;class 'str'&gt;</td>\n",
       "      <td>&lt;class 'str'&gt;</td>\n",
       "    </tr>\n",
       "    <tr>\n",
       "      <th>2</th>\n",
       "      <td>&lt;class 'str'&gt;</td>\n",
       "      <td>&lt;class 'str'&gt;</td>\n",
       "      <td>&lt;class 'pandas._libs.tslibs.timestamps.Timesta...</td>\n",
       "      <td>&lt;class 'str'&gt;</td>\n",
       "      <td>&lt;class 'str'&gt;</td>\n",
       "      <td>&lt;class 'str'&gt;</td>\n",
       "      <td>&lt;class 'str'&gt;</td>\n",
       "      <td>&lt;class 'str'&gt;</td>\n",
       "      <td>&lt;class 'str'&gt;</td>\n",
       "      <td>&lt;class 'str'&gt;</td>\n",
       "      <td>&lt;class 'str'&gt;</td>\n",
       "      <td>&lt;class 'str'&gt;</td>\n",
       "      <td>&lt;class 'str'&gt;</td>\n",
       "      <td>&lt;class 'str'&gt;</td>\n",
       "      <td>&lt;class 'str'&gt;</td>\n",
       "      <td>&lt;class 'str'&gt;</td>\n",
       "    </tr>\n",
       "    <tr>\n",
       "      <th>3</th>\n",
       "      <td>&lt;class 'str'&gt;</td>\n",
       "      <td>&lt;class 'str'&gt;</td>\n",
       "      <td>&lt;class 'pandas._libs.tslibs.timestamps.Timesta...</td>\n",
       "      <td>&lt;class 'str'&gt;</td>\n",
       "      <td>&lt;class 'str'&gt;</td>\n",
       "      <td>&lt;class 'str'&gt;</td>\n",
       "      <td>&lt;class 'float'&gt;</td>\n",
       "      <td>&lt;class 'str'&gt;</td>\n",
       "      <td>&lt;class 'str'&gt;</td>\n",
       "      <td>&lt;class 'str'&gt;</td>\n",
       "      <td>&lt;class 'str'&gt;</td>\n",
       "      <td>&lt;class 'str'&gt;</td>\n",
       "      <td>&lt;class 'str'&gt;</td>\n",
       "      <td>&lt;class 'str'&gt;</td>\n",
       "      <td>&lt;class 'str'&gt;</td>\n",
       "      <td>&lt;class 'str'&gt;</td>\n",
       "    </tr>\n",
       "    <tr>\n",
       "      <th>4</th>\n",
       "      <td>&lt;class 'str'&gt;</td>\n",
       "      <td>&lt;class 'str'&gt;</td>\n",
       "      <td>&lt;class 'pandas._libs.tslibs.timestamps.Timesta...</td>\n",
       "      <td>&lt;class 'str'&gt;</td>\n",
       "      <td>&lt;class 'str'&gt;</td>\n",
       "      <td>&lt;class 'str'&gt;</td>\n",
       "      <td>&lt;class 'str'&gt;</td>\n",
       "      <td>&lt;class 'str'&gt;</td>\n",
       "      <td>&lt;class 'str'&gt;</td>\n",
       "      <td>&lt;class 'str'&gt;</td>\n",
       "      <td>&lt;class 'str'&gt;</td>\n",
       "      <td>&lt;class 'str'&gt;</td>\n",
       "      <td>&lt;class 'str'&gt;</td>\n",
       "      <td>&lt;class 'str'&gt;</td>\n",
       "      <td>&lt;class 'str'&gt;</td>\n",
       "      <td>&lt;class 'str'&gt;</td>\n",
       "    </tr>\n",
       "    <tr>\n",
       "      <th>...</th>\n",
       "      <td>...</td>\n",
       "      <td>...</td>\n",
       "      <td>...</td>\n",
       "      <td>...</td>\n",
       "      <td>...</td>\n",
       "      <td>...</td>\n",
       "      <td>...</td>\n",
       "      <td>...</td>\n",
       "      <td>...</td>\n",
       "      <td>...</td>\n",
       "      <td>...</td>\n",
       "      <td>...</td>\n",
       "      <td>...</td>\n",
       "      <td>...</td>\n",
       "      <td>...</td>\n",
       "      <td>...</td>\n",
       "    </tr>\n",
       "    <tr>\n",
       "      <th>995</th>\n",
       "      <td>&lt;class 'str'&gt;</td>\n",
       "      <td>&lt;class 'str'&gt;</td>\n",
       "      <td>&lt;class 'pandas._libs.tslibs.timestamps.Timesta...</td>\n",
       "      <td>&lt;class 'str'&gt;</td>\n",
       "      <td>&lt;class 'str'&gt;</td>\n",
       "      <td>&lt;class 'str'&gt;</td>\n",
       "      <td>&lt;class 'float'&gt;</td>\n",
       "      <td>&lt;class 'str'&gt;</td>\n",
       "      <td>&lt;class 'str'&gt;</td>\n",
       "      <td>&lt;class 'str'&gt;</td>\n",
       "      <td>&lt;class 'str'&gt;</td>\n",
       "      <td>&lt;class 'str'&gt;</td>\n",
       "      <td>&lt;class 'str'&gt;</td>\n",
       "      <td>&lt;class 'str'&gt;</td>\n",
       "      <td>&lt;class 'str'&gt;</td>\n",
       "      <td>&lt;class 'str'&gt;</td>\n",
       "    </tr>\n",
       "    <tr>\n",
       "      <th>996</th>\n",
       "      <td>&lt;class 'str'&gt;</td>\n",
       "      <td>&lt;class 'str'&gt;</td>\n",
       "      <td>&lt;class 'pandas._libs.tslibs.timestamps.Timesta...</td>\n",
       "      <td>&lt;class 'str'&gt;</td>\n",
       "      <td>&lt;class 'str'&gt;</td>\n",
       "      <td>&lt;class 'str'&gt;</td>\n",
       "      <td>&lt;class 'float'&gt;</td>\n",
       "      <td>&lt;class 'str'&gt;</td>\n",
       "      <td>&lt;class 'str'&gt;</td>\n",
       "      <td>&lt;class 'str'&gt;</td>\n",
       "      <td>&lt;class 'str'&gt;</td>\n",
       "      <td>&lt;class 'str'&gt;</td>\n",
       "      <td>&lt;class 'str'&gt;</td>\n",
       "      <td>&lt;class 'str'&gt;</td>\n",
       "      <td>&lt;class 'str'&gt;</td>\n",
       "      <td>&lt;class 'str'&gt;</td>\n",
       "    </tr>\n",
       "    <tr>\n",
       "      <th>997</th>\n",
       "      <td>&lt;class 'str'&gt;</td>\n",
       "      <td>&lt;class 'str'&gt;</td>\n",
       "      <td>&lt;class 'pandas._libs.tslibs.timestamps.Timesta...</td>\n",
       "      <td>&lt;class 'str'&gt;</td>\n",
       "      <td>&lt;class 'str'&gt;</td>\n",
       "      <td>&lt;class 'str'&gt;</td>\n",
       "      <td>&lt;class 'float'&gt;</td>\n",
       "      <td>&lt;class 'str'&gt;</td>\n",
       "      <td>&lt;class 'str'&gt;</td>\n",
       "      <td>&lt;class 'str'&gt;</td>\n",
       "      <td>&lt;class 'str'&gt;</td>\n",
       "      <td>&lt;class 'str'&gt;</td>\n",
       "      <td>&lt;class 'str'&gt;</td>\n",
       "      <td>&lt;class 'str'&gt;</td>\n",
       "      <td>&lt;class 'str'&gt;</td>\n",
       "      <td>&lt;class 'str'&gt;</td>\n",
       "    </tr>\n",
       "    <tr>\n",
       "      <th>998</th>\n",
       "      <td>&lt;class 'str'&gt;</td>\n",
       "      <td>&lt;class 'str'&gt;</td>\n",
       "      <td>&lt;class 'pandas._libs.tslibs.timestamps.Timesta...</td>\n",
       "      <td>&lt;class 'str'&gt;</td>\n",
       "      <td>&lt;class 'str'&gt;</td>\n",
       "      <td>&lt;class 'str'&gt;</td>\n",
       "      <td>&lt;class 'float'&gt;</td>\n",
       "      <td>&lt;class 'str'&gt;</td>\n",
       "      <td>&lt;class 'str'&gt;</td>\n",
       "      <td>&lt;class 'str'&gt;</td>\n",
       "      <td>&lt;class 'str'&gt;</td>\n",
       "      <td>&lt;class 'str'&gt;</td>\n",
       "      <td>&lt;class 'str'&gt;</td>\n",
       "      <td>&lt;class 'str'&gt;</td>\n",
       "      <td>&lt;class 'str'&gt;</td>\n",
       "      <td>&lt;class 'str'&gt;</td>\n",
       "    </tr>\n",
       "    <tr>\n",
       "      <th>999</th>\n",
       "      <td>&lt;class 'str'&gt;</td>\n",
       "      <td>&lt;class 'float'&gt;</td>\n",
       "      <td>&lt;class 'pandas._libs.tslibs.timestamps.Timesta...</td>\n",
       "      <td>&lt;class 'str'&gt;</td>\n",
       "      <td>&lt;class 'str'&gt;</td>\n",
       "      <td>&lt;class 'str'&gt;</td>\n",
       "      <td>&lt;class 'float'&gt;</td>\n",
       "      <td>&lt;class 'str'&gt;</td>\n",
       "      <td>&lt;class 'str'&gt;</td>\n",
       "      <td>&lt;class 'str'&gt;</td>\n",
       "      <td>&lt;class 'str'&gt;</td>\n",
       "      <td>&lt;class 'str'&gt;</td>\n",
       "      <td>&lt;class 'str'&gt;</td>\n",
       "      <td>&lt;class 'str'&gt;</td>\n",
       "      <td>&lt;class 'str'&gt;</td>\n",
       "      <td>&lt;class 'str'&gt;</td>\n",
       "    </tr>\n",
       "  </tbody>\n",
       "</table>\n",
       "<p>1000 rows × 16 columns</p>\n",
       "</div>"
      ],
      "text/plain": [
       "         animal_id             name  \\\n",
       "0    <class 'str'>    <class 'str'>   \n",
       "1    <class 'str'>    <class 'str'>   \n",
       "2    <class 'str'>    <class 'str'>   \n",
       "3    <class 'str'>    <class 'str'>   \n",
       "4    <class 'str'>    <class 'str'>   \n",
       "..             ...              ...   \n",
       "995  <class 'str'>    <class 'str'>   \n",
       "996  <class 'str'>    <class 'str'>   \n",
       "997  <class 'str'>    <class 'str'>   \n",
       "998  <class 'str'>    <class 'str'>   \n",
       "999  <class 'str'>  <class 'float'>   \n",
       "\n",
       "                                              datetime      monthyear  \\\n",
       "0    <class 'pandas._libs.tslibs.timestamps.Timesta...  <class 'str'>   \n",
       "1    <class 'pandas._libs.tslibs.timestamps.Timesta...  <class 'str'>   \n",
       "2    <class 'pandas._libs.tslibs.timestamps.Timesta...  <class 'str'>   \n",
       "3    <class 'pandas._libs.tslibs.timestamps.Timesta...  <class 'str'>   \n",
       "4    <class 'pandas._libs.tslibs.timestamps.Timesta...  <class 'str'>   \n",
       "..                                                 ...            ...   \n",
       "995  <class 'pandas._libs.tslibs.timestamps.Timesta...  <class 'str'>   \n",
       "996  <class 'pandas._libs.tslibs.timestamps.Timesta...  <class 'str'>   \n",
       "997  <class 'pandas._libs.tslibs.timestamps.Timesta...  <class 'str'>   \n",
       "998  <class 'pandas._libs.tslibs.timestamps.Timesta...  <class 'str'>   \n",
       "999  <class 'pandas._libs.tslibs.timestamps.Timesta...  <class 'str'>   \n",
       "\n",
       "     date_of_birth   outcome_type  outcome_subtype    animal_type  \\\n",
       "0    <class 'str'>  <class 'str'>    <class 'str'>  <class 'str'>   \n",
       "1    <class 'str'>  <class 'str'>    <class 'str'>  <class 'str'>   \n",
       "2    <class 'str'>  <class 'str'>    <class 'str'>  <class 'str'>   \n",
       "3    <class 'str'>  <class 'str'>  <class 'float'>  <class 'str'>   \n",
       "4    <class 'str'>  <class 'str'>    <class 'str'>  <class 'str'>   \n",
       "..             ...            ...              ...            ...   \n",
       "995  <class 'str'>  <class 'str'>  <class 'float'>  <class 'str'>   \n",
       "996  <class 'str'>  <class 'str'>  <class 'float'>  <class 'str'>   \n",
       "997  <class 'str'>  <class 'str'>  <class 'float'>  <class 'str'>   \n",
       "998  <class 'str'>  <class 'str'>  <class 'float'>  <class 'str'>   \n",
       "999  <class 'str'>  <class 'str'>  <class 'float'>  <class 'str'>   \n",
       "\n",
       "    sex_upon_outcome age_upon_outcome          breed          color  \\\n",
       "0      <class 'str'>    <class 'str'>  <class 'str'>  <class 'str'>   \n",
       "1      <class 'str'>    <class 'str'>  <class 'str'>  <class 'str'>   \n",
       "2      <class 'str'>    <class 'str'>  <class 'str'>  <class 'str'>   \n",
       "3      <class 'str'>    <class 'str'>  <class 'str'>  <class 'str'>   \n",
       "4      <class 'str'>    <class 'str'>  <class 'str'>  <class 'str'>   \n",
       "..               ...              ...            ...            ...   \n",
       "995    <class 'str'>    <class 'str'>  <class 'str'>  <class 'str'>   \n",
       "996    <class 'str'>    <class 'str'>  <class 'str'>  <class 'str'>   \n",
       "997    <class 'str'>    <class 'str'>  <class 'str'>  <class 'str'>   \n",
       "998    <class 'str'>    <class 'str'>  <class 'str'>  <class 'str'>   \n",
       "999    <class 'str'>    <class 'str'>  <class 'str'>  <class 'str'>   \n",
       "\n",
       "          new_age1       new_sex1       new_age2       new_sex2  \n",
       "0    <class 'str'>  <class 'str'>  <class 'str'>  <class 'str'>  \n",
       "1    <class 'str'>  <class 'str'>  <class 'str'>  <class 'str'>  \n",
       "2    <class 'str'>  <class 'str'>  <class 'str'>  <class 'str'>  \n",
       "3    <class 'str'>  <class 'str'>  <class 'str'>  <class 'str'>  \n",
       "4    <class 'str'>  <class 'str'>  <class 'str'>  <class 'str'>  \n",
       "..             ...            ...            ...            ...  \n",
       "995  <class 'str'>  <class 'str'>  <class 'str'>  <class 'str'>  \n",
       "996  <class 'str'>  <class 'str'>  <class 'str'>  <class 'str'>  \n",
       "997  <class 'str'>  <class 'str'>  <class 'str'>  <class 'str'>  \n",
       "998  <class 'str'>  <class 'str'>  <class 'str'>  <class 'str'>  \n",
       "999  <class 'str'>  <class 'str'>  <class 'str'>  <class 'str'>  \n",
       "\n",
       "[1000 rows x 16 columns]"
      ]
     },
     "execution_count": 54,
     "metadata": {},
     "output_type": "execute_result"
    }
   ],
   "source": [
    "# This line will apply the base `type()` function to \n",
    "# all entries of the DataFrame.\n",
    "\n",
    "animals.applymap(type)"
   ]
  },
  {
   "cell_type": "markdown",
   "metadata": {},
   "source": [
    "# Level Up: `pandas.Series.str`"
   ]
  },
  {
   "cell_type": "markdown",
   "metadata": {},
   "source": [
    "To access normal `str` methods for each of the values in a categorical column of a DataFrame, use the following construction:"
   ]
  },
  {
   "cell_type": "code",
   "execution_count": 44,
   "metadata": {},
   "outputs": [
    {
     "data": {
      "text/html": [
       "<div>\n",
       "<style scoped>\n",
       "    .dataframe tbody tr th:only-of-type {\n",
       "        vertical-align: middle;\n",
       "    }\n",
       "\n",
       "    .dataframe tbody tr th {\n",
       "        vertical-align: top;\n",
       "    }\n",
       "\n",
       "    .dataframe thead th {\n",
       "        text-align: right;\n",
       "    }\n",
       "</style>\n",
       "<table border=\"1\" class=\"dataframe\">\n",
       "  <thead>\n",
       "    <tr style=\"text-align: right;\">\n",
       "      <th></th>\n",
       "      <th>animal_id</th>\n",
       "      <th>name</th>\n",
       "      <th>datetime</th>\n",
       "      <th>monthyear</th>\n",
       "      <th>date_of_birth</th>\n",
       "      <th>outcome_type</th>\n",
       "      <th>outcome_subtype</th>\n",
       "      <th>animal_type</th>\n",
       "      <th>sex_upon_outcome</th>\n",
       "      <th>age_upon_outcome</th>\n",
       "      <th>breed</th>\n",
       "      <th>color</th>\n",
       "      <th>new_age1</th>\n",
       "      <th>new_sex1</th>\n",
       "    </tr>\n",
       "  </thead>\n",
       "  <tbody>\n",
       "    <tr>\n",
       "      <th>12</th>\n",
       "      <td>A839398</td>\n",
       "      <td>*Billy Idol</td>\n",
       "      <td>2021-11-29 18:41:00</td>\n",
       "      <td>2021-11-29T18:41:00.000</td>\n",
       "      <td>2021-06-29T00:00:00.000</td>\n",
       "      <td>Adoption</td>\n",
       "      <td>NaN</td>\n",
       "      <td>Cat</td>\n",
       "      <td>Neutered Male</td>\n",
       "      <td>5 months</td>\n",
       "      <td>Domestic Shorthair</td>\n",
       "      <td>Black</td>\n",
       "      <td>5 months</td>\n",
       "      <td>Male</td>\n",
       "    </tr>\n",
       "    <tr>\n",
       "      <th>18</th>\n",
       "      <td>A842769</td>\n",
       "      <td>Zuus</td>\n",
       "      <td>2021-11-29 17:50:00</td>\n",
       "      <td>2021-11-29T17:50:00.000</td>\n",
       "      <td>2021-10-06T00:00:00.000</td>\n",
       "      <td>Adoption</td>\n",
       "      <td>NaN</td>\n",
       "      <td>Dog</td>\n",
       "      <td>Neutered Male</td>\n",
       "      <td>1 month</td>\n",
       "      <td>Pit Bull/Siberian Husky</td>\n",
       "      <td>Black/White</td>\n",
       "      <td>1 month</td>\n",
       "      <td>Male</td>\n",
       "    </tr>\n",
       "    <tr>\n",
       "      <th>19</th>\n",
       "      <td>A847160</td>\n",
       "      <td>Forrest</td>\n",
       "      <td>2021-11-29 17:49:00</td>\n",
       "      <td>2021-11-29T17:49:00.000</td>\n",
       "      <td>2017-11-27T00:00:00.000</td>\n",
       "      <td>Adoption</td>\n",
       "      <td>NaN</td>\n",
       "      <td>Cat</td>\n",
       "      <td>Neutered Male</td>\n",
       "      <td>4 years</td>\n",
       "      <td>Domestic Shorthair</td>\n",
       "      <td>Black</td>\n",
       "      <td>4 years</td>\n",
       "      <td>Male</td>\n",
       "    </tr>\n",
       "    <tr>\n",
       "      <th>20</th>\n",
       "      <td>A846910</td>\n",
       "      <td>A846910</td>\n",
       "      <td>2021-11-29 17:47:00</td>\n",
       "      <td>2021-11-29T17:47:00.000</td>\n",
       "      <td>2021-10-01T00:00:00.000</td>\n",
       "      <td>Adoption</td>\n",
       "      <td>NaN</td>\n",
       "      <td>Dog</td>\n",
       "      <td>Spayed Female</td>\n",
       "      <td>1 month</td>\n",
       "      <td>German Shepherd</td>\n",
       "      <td>Black/Brown</td>\n",
       "      <td>1 month</td>\n",
       "      <td>Female</td>\n",
       "    </tr>\n",
       "    <tr>\n",
       "      <th>22</th>\n",
       "      <td>A846732</td>\n",
       "      <td>Pearl Nox</td>\n",
       "      <td>2021-11-29 17:32:00</td>\n",
       "      <td>2021-11-29T17:32:00.000</td>\n",
       "      <td>2021-09-20T00:00:00.000</td>\n",
       "      <td>Adoption</td>\n",
       "      <td>NaN</td>\n",
       "      <td>Dog</td>\n",
       "      <td>Spayed Female</td>\n",
       "      <td>2 months</td>\n",
       "      <td>Border Collie Mix</td>\n",
       "      <td>Black</td>\n",
       "      <td>2 months</td>\n",
       "      <td>Female</td>\n",
       "    </tr>\n",
       "    <tr>\n",
       "      <th>...</th>\n",
       "      <td>...</td>\n",
       "      <td>...</td>\n",
       "      <td>...</td>\n",
       "      <td>...</td>\n",
       "      <td>...</td>\n",
       "      <td>...</td>\n",
       "      <td>...</td>\n",
       "      <td>...</td>\n",
       "      <td>...</td>\n",
       "      <td>...</td>\n",
       "      <td>...</td>\n",
       "      <td>...</td>\n",
       "      <td>...</td>\n",
       "      <td>...</td>\n",
       "    </tr>\n",
       "    <tr>\n",
       "      <th>985</th>\n",
       "      <td>A841382</td>\n",
       "      <td>NaN</td>\n",
       "      <td>2021-11-02 09:00:00</td>\n",
       "      <td>2021-11-02T09:00:00.000</td>\n",
       "      <td>2021-07-26T00:00:00.000</td>\n",
       "      <td>Adoption</td>\n",
       "      <td>Foster</td>\n",
       "      <td>Cat</td>\n",
       "      <td>Spayed Female</td>\n",
       "      <td>3 months</td>\n",
       "      <td>Domestic Shorthair</td>\n",
       "      <td>White/Black</td>\n",
       "      <td>3 months</td>\n",
       "      <td>Female</td>\n",
       "    </tr>\n",
       "    <tr>\n",
       "      <th>986</th>\n",
       "      <td>A845425</td>\n",
       "      <td>NaN</td>\n",
       "      <td>2021-11-02 08:55:00</td>\n",
       "      <td>2021-11-02T08:55:00.000</td>\n",
       "      <td>2021-04-29T00:00:00.000</td>\n",
       "      <td>Euthanasia</td>\n",
       "      <td>Suffering</td>\n",
       "      <td>Other</td>\n",
       "      <td>Unknown</td>\n",
       "      <td>6 months</td>\n",
       "      <td>Raccoon</td>\n",
       "      <td>Brown/Black</td>\n",
       "      <td>6 months</td>\n",
       "      <td>Unknown</td>\n",
       "    </tr>\n",
       "    <tr>\n",
       "      <th>988</th>\n",
       "      <td>A845067</td>\n",
       "      <td>A845067</td>\n",
       "      <td>2021-11-01 18:45:00</td>\n",
       "      <td>2021-11-01T18:45:00.000</td>\n",
       "      <td>2019-10-25T00:00:00.000</td>\n",
       "      <td>Adoption</td>\n",
       "      <td>NaN</td>\n",
       "      <td>Dog</td>\n",
       "      <td>Spayed Female</td>\n",
       "      <td>2 years</td>\n",
       "      <td>German Shepherd Mix</td>\n",
       "      <td>Brown/Black</td>\n",
       "      <td>2 years</td>\n",
       "      <td>Female</td>\n",
       "    </tr>\n",
       "    <tr>\n",
       "      <th>991</th>\n",
       "      <td>A845084</td>\n",
       "      <td>Uno</td>\n",
       "      <td>2021-11-01 18:14:00</td>\n",
       "      <td>2021-11-01T18:14:00.000</td>\n",
       "      <td>2021-04-25T00:00:00.000</td>\n",
       "      <td>Adoption</td>\n",
       "      <td>NaN</td>\n",
       "      <td>Dog</td>\n",
       "      <td>Neutered Male</td>\n",
       "      <td>6 months</td>\n",
       "      <td>Collie Smooth</td>\n",
       "      <td>Black/White</td>\n",
       "      <td>6 months</td>\n",
       "      <td>Male</td>\n",
       "    </tr>\n",
       "    <tr>\n",
       "      <th>996</th>\n",
       "      <td>A845094</td>\n",
       "      <td>*Daphne</td>\n",
       "      <td>2021-11-01 17:48:00</td>\n",
       "      <td>2021-11-01T17:48:00.000</td>\n",
       "      <td>2021-07-25T00:00:00.000</td>\n",
       "      <td>Adoption</td>\n",
       "      <td>NaN</td>\n",
       "      <td>Dog</td>\n",
       "      <td>Spayed Female</td>\n",
       "      <td>3 months</td>\n",
       "      <td>Labrador Retriever</td>\n",
       "      <td>Black/White</td>\n",
       "      <td>3 months</td>\n",
       "      <td>Female</td>\n",
       "    </tr>\n",
       "  </tbody>\n",
       "</table>\n",
       "<p>307 rows × 14 columns</p>\n",
       "</div>"
      ],
      "text/plain": [
       "    animal_id         name            datetime                monthyear  \\\n",
       "12    A839398  *Billy Idol 2021-11-29 18:41:00  2021-11-29T18:41:00.000   \n",
       "18    A842769         Zuus 2021-11-29 17:50:00  2021-11-29T17:50:00.000   \n",
       "19    A847160      Forrest 2021-11-29 17:49:00  2021-11-29T17:49:00.000   \n",
       "20    A846910      A846910 2021-11-29 17:47:00  2021-11-29T17:47:00.000   \n",
       "22    A846732    Pearl Nox 2021-11-29 17:32:00  2021-11-29T17:32:00.000   \n",
       "..        ...          ...                 ...                      ...   \n",
       "985   A841382          NaN 2021-11-02 09:00:00  2021-11-02T09:00:00.000   \n",
       "986   A845425          NaN 2021-11-02 08:55:00  2021-11-02T08:55:00.000   \n",
       "988   A845067      A845067 2021-11-01 18:45:00  2021-11-01T18:45:00.000   \n",
       "991   A845084          Uno 2021-11-01 18:14:00  2021-11-01T18:14:00.000   \n",
       "996   A845094      *Daphne 2021-11-01 17:48:00  2021-11-01T17:48:00.000   \n",
       "\n",
       "               date_of_birth outcome_type outcome_subtype animal_type  \\\n",
       "12   2021-06-29T00:00:00.000     Adoption             NaN         Cat   \n",
       "18   2021-10-06T00:00:00.000     Adoption             NaN         Dog   \n",
       "19   2017-11-27T00:00:00.000     Adoption             NaN         Cat   \n",
       "20   2021-10-01T00:00:00.000     Adoption             NaN         Dog   \n",
       "22   2021-09-20T00:00:00.000     Adoption             NaN         Dog   \n",
       "..                       ...          ...             ...         ...   \n",
       "985  2021-07-26T00:00:00.000     Adoption          Foster         Cat   \n",
       "986  2021-04-29T00:00:00.000   Euthanasia       Suffering       Other   \n",
       "988  2019-10-25T00:00:00.000     Adoption             NaN         Dog   \n",
       "991  2021-04-25T00:00:00.000     Adoption             NaN         Dog   \n",
       "996  2021-07-25T00:00:00.000     Adoption             NaN         Dog   \n",
       "\n",
       "    sex_upon_outcome age_upon_outcome                    breed        color  \\\n",
       "12     Neutered Male         5 months       Domestic Shorthair        Black   \n",
       "18     Neutered Male          1 month  Pit Bull/Siberian Husky  Black/White   \n",
       "19     Neutered Male          4 years       Domestic Shorthair        Black   \n",
       "20     Spayed Female          1 month          German Shepherd  Black/Brown   \n",
       "22     Spayed Female         2 months        Border Collie Mix        Black   \n",
       "..               ...              ...                      ...          ...   \n",
       "985    Spayed Female         3 months       Domestic Shorthair  White/Black   \n",
       "986          Unknown         6 months                  Raccoon  Brown/Black   \n",
       "988    Spayed Female          2 years      German Shepherd Mix  Brown/Black   \n",
       "991    Neutered Male         6 months            Collie Smooth  Black/White   \n",
       "996    Spayed Female         3 months       Labrador Retriever  Black/White   \n",
       "\n",
       "     new_age1 new_sex1  \n",
       "12   5 months     Male  \n",
       "18    1 month     Male  \n",
       "19    4 years     Male  \n",
       "20    1 month   Female  \n",
       "22   2 months   Female  \n",
       "..        ...      ...  \n",
       "985  3 months   Female  \n",
       "986  6 months  Unknown  \n",
       "988   2 years   Female  \n",
       "991  6 months     Male  \n",
       "996  3 months   Female  \n",
       "\n",
       "[307 rows x 14 columns]"
      ]
     },
     "execution_count": 44,
     "metadata": {},
     "output_type": "execute_result"
    }
   ],
   "source": [
    "animals[animals['color'].str.contains('Black')]"
   ]
  },
  {
   "cell_type": "markdown",
   "metadata": {
    "heading_collapsed": true
   },
   "source": [
    "# Level Up: Faster NumPy Methods"
   ]
  },
  {
   "cell_type": "markdown",
   "metadata": {
    "hidden": true
   },
   "source": [
    "In general, `np.where()` and `np.select()` are faster than `map()`. This won't matter too much with reasonably-sized data but can be a consideration for ***big data***."
   ]
  },
  {
   "cell_type": "markdown",
   "metadata": {
    "heading_collapsed": true,
    "hidden": true
   },
   "source": [
    "## NumPy's `where()` Method"
   ]
  },
  {
   "cell_type": "code",
   "execution_count": 55,
   "metadata": {
    "hidden": true,
    "scrolled": true
   },
   "outputs": [
    {
     "data": {
      "text/plain": [
       "0       2 months\n",
       "1       2 months\n",
       "2       2 months\n",
       "3      10 months\n",
       "4        1 years\n",
       "         ...    \n",
       "995     4 months\n",
       "996     3 months\n",
       "997     6 months\n",
       "998     3 months\n",
       "999     3 months\n",
       "Name: new_age2, Length: 1000, dtype: object"
      ]
     },
     "execution_count": 55,
     "metadata": {},
     "output_type": "execute_result"
    }
   ],
   "source": [
    "animals['new_age2'] = np.where(animals['age_upon_outcome'] == '1 year',\n",
    "                              '1 years', animals['age_upon_outcome'])\n",
    "animals['new_age2']"
   ]
  },
  {
   "cell_type": "code",
   "execution_count": 56,
   "metadata": {
    "hidden": true
   },
   "outputs": [
    {
     "data": {
      "text/plain": [
       "0"
      ]
     },
     "execution_count": 56,
     "metadata": {},
     "output_type": "execute_result"
    }
   ],
   "source": [
    "# Check we got the same results with np.where()\n",
    "(animals['new_age1'] != animals['new_age2']).sum()"
   ]
  },
  {
   "cell_type": "code",
   "execution_count": 57,
   "metadata": {
    "hidden": true
   },
   "outputs": [
    {
     "name": "stdout",
     "output_type": "stream",
     "text": [
      "361 µs ± 8.22 µs per loop (mean ± std. dev. of 7 runs, 1000 loops each)\n"
     ]
    }
   ],
   "source": [
    "# Let's time how long it takes .map() to run by running it multiple times\n",
    "%timeit animals['new_age1'] = animals['age_upon_outcome'].map(one_year)"
   ]
  },
  {
   "cell_type": "code",
   "execution_count": 58,
   "metadata": {
    "hidden": true
   },
   "outputs": [
    {
     "name": "stdout",
     "output_type": "stream",
     "text": [
      "279 µs ± 7.04 µs per loop (mean ± std. dev. of 7 runs, 1000 loops each)\n"
     ]
    }
   ],
   "source": [
    "# Let's time how long it takes np.where() to run by running it multiple times\n",
    "%timeit animals['new_age2'] = np.where(animals['age_upon_outcome'] == '1 year',\\\n",
    "                                       '1 years',animals['age_upon_outcome'])"
   ]
  },
  {
   "cell_type": "markdown",
   "metadata": {
    "heading_collapsed": true,
    "hidden": true
   },
   "source": [
    "## NumPy's `select()` Method"
   ]
  },
  {
   "cell_type": "markdown",
   "metadata": {
    "hidden": true
   },
   "source": [
    "Again, `numpy` will be faster:"
   ]
  },
  {
   "cell_type": "code",
   "execution_count": 59,
   "metadata": {
    "hidden": true
   },
   "outputs": [],
   "source": [
    "conditions = [animals['sex_upon_outcome'] == 'Neutered Male',\n",
    "             animals['sex_upon_outcome'] == 'Intact Male',\n",
    "             animals['sex_upon_outcome'] == 'Spayed Female',\n",
    "             animals['sex_upon_outcome'] == 'Intact Female',\n",
    "             animals['sex_upon_outcome'] == 'Unknown',\n",
    "             animals['sex_upon_outcome'] == 'NULL']\n",
    "\n",
    "choices = ['Male', 'Male', 'Female', 'Female', 'Unknown', 'Unknown']"
   ]
  },
  {
   "cell_type": "code",
   "execution_count": 60,
   "metadata": {
    "hidden": true
   },
   "outputs": [
    {
     "data": {
      "text/plain": [
       "0      Female\n",
       "1        Male\n",
       "2        Male\n",
       "3      Female\n",
       "4      Female\n",
       "        ...  \n",
       "995    Female\n",
       "996    Female\n",
       "997    Female\n",
       "998    Female\n",
       "999      Male\n",
       "Name: new_sex2, Length: 1000, dtype: object"
      ]
     },
     "execution_count": 60,
     "metadata": {},
     "output_type": "execute_result"
    }
   ],
   "source": [
    "animals['new_sex2'] = np.select(conditions, choices)\n",
    "animals['new_sex2']"
   ]
  },
  {
   "cell_type": "code",
   "execution_count": 61,
   "metadata": {
    "hidden": true
   },
   "outputs": [
    {
     "data": {
      "text/plain": [
       "0"
      ]
     },
     "execution_count": 61,
     "metadata": {},
     "output_type": "execute_result"
    }
   ],
   "source": [
    "# Check we got the same results with np.where()\n",
    "(animals['new_sex1'] != animals['new_sex2']).sum()"
   ]
  },
  {
   "cell_type": "code",
   "execution_count": 62,
   "metadata": {
    "hidden": true
   },
   "outputs": [
    {
     "name": "stdout",
     "output_type": "stream",
     "text": [
      "418 µs ± 26.9 µs per loop (mean ± std. dev. of 7 runs, 1000 loops each)\n"
     ]
    }
   ],
   "source": [
    "# Let's time how long it takes .map() to run by running it multiple times\n",
    "%timeit animals['new_sex1'] = animals['sex_upon_outcome'].map(sex_mapper)"
   ]
  },
  {
   "cell_type": "code",
   "execution_count": 63,
   "metadata": {
    "hidden": true
   },
   "outputs": [
    {
     "name": "stdout",
     "output_type": "stream",
     "text": [
      "387 µs ± 44.1 µs per loop (mean ± std. dev. of 7 runs, 1000 loops each)\n"
     ]
    }
   ],
   "source": [
    "# Let's time how long it takes np.select() to run by running it multiple times\n",
    "%timeit animals['new_sex2'] = np.select(conditions, choices)"
   ]
  }
 ],
 "metadata": {
  "kernelspec": {
   "display_name": "Python 3",
   "language": "python",
   "name": "python3"
  },
  "language_info": {
   "codemirror_mode": {
    "name": "ipython",
    "version": 3
   },
   "file_extension": ".py",
   "mimetype": "text/x-python",
   "name": "python",
   "nbconvert_exporter": "python",
   "pygments_lexer": "ipython3",
   "version": "3.8.5"
  },
  "toc": {
   "base_numbering": 1,
   "nav_menu": {},
   "number_sections": true,
   "sideBar": true,
   "skip_h1_title": false,
   "title_cell": "Table of Contents",
   "title_sidebar": "TOC",
   "toc_cell": true,
   "toc_position": {
    "height": "calc(100% - 180px)",
    "left": "10px",
    "top": "150px",
    "width": "267px"
   },
   "toc_section_display": true,
   "toc_window_display": true
  }
 },
 "nbformat": 4,
 "nbformat_minor": 4
}
